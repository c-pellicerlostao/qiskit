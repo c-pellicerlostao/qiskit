{
 "cells": [
  {
   "cell_type": "markdown",
   "metadata": {
    "id": "N24Pg-fufQWt"
   },
   "source": [
    "<div>\n",
    "<img src=\"https://www.nebrija.com/images/logos/logotipo-universidad-nebrija.jpg\" width=\"200\">\n",
    "</div>\n",
    "\n",
    "**ALGORITMOS** -\n",
    "Prof: Carmen Pellicer Lostao"
   ]
  },
  {
   "cell_type": "markdown",
   "metadata": {
    "id": "U-ck7CTKyeZF"
   },
   "source": [
    "# ENTORNO DE PROGRAMACION\n",
    "\n",
    "En este notebook vemos como podemos instalar las librerias de qiskit en un entorno distinto de IBM Quantum."
   ]
  },
  {
   "cell_type": "code",
   "execution_count": null,
   "metadata": {
    "id": "cC06EWgK9iEl"
   },
   "outputs": [],
   "source": [
    "!pip install qiskit\n",
    "!pip install qiskit[visualization]\n",
    "!pip install pylatexenc\n",
    "!pip install qiskit-ibmq-provider"
   ]
  },
  {
   "cell_type": "code",
   "execution_count": null,
   "metadata": {},
   "outputs": [],
   "source": [
    "import qiskit\n",
    "qiskit.__qiskit_version__"
   ]
  },
  {
   "cell_type": "code",
   "execution_count": null,
   "metadata": {},
   "outputs": [],
   "source": [
    "from qiskit import IBMQ, Aer\n",
    "\n",
    "IBMQ.save_account('YOUR APIKEY') "
   ]
  },
  {
   "cell_type": "code",
   "execution_count": null,
   "metadata": {},
   "outputs": [],
   "source": [
    "#list available backends - entornos de ejecucion disponibles para tu cuenta\n",
    "provider = IBMQ.load_account()\n",
    "provider.backends()"
   ]
  },
  {
   "cell_type": "code",
   "execution_count": null,
   "metadata": {
    "id": "d1nKEiciWWI4"
   },
   "outputs": [],
   "source": [
    "#imports\n",
    "from qiskit import QuantumRegister, ClassicalRegister, QuantumCircuit\n",
    "from qiskit import Aer, execute\n",
    "from qiskit.tools.visualization import plot_histogram\n",
    "# Useful additional packages\n",
    "import matplotlib.pyplot as plt\n",
    "import numpy as np\n",
    "from math import pi\n",
    "\n",
    "%matplotlib inline"
   ]
  },
  {
   "cell_type": "code",
   "execution_count": null,
   "metadata": {
    "colab": {
     "base_uri": "https://localhost:8080/"
    },
    "id": "r8azOWGmuQum",
    "outputId": "eb206317-0ab8-48eb-b224-ecd6549ec7ae"
   },
   "outputs": [],
   "source": [
    "#BUILD A CIRCUIT AND MEASUREMENT\n",
    "qreg = QuantumRegister(3) # a 3-qubit register\n",
    "creg = ClassicalRegister(3) # a 3-bit classical register\n",
    "qc = QuantumCircuit(qreg,creg) # create a circuit\n",
    "\n",
    "qreg_q=QuantumRegister(3,'q')\n",
    "creg_c=ClassicalRegister(3,'c')\n",
    "qc= QuantumCircuit(qreg_q,creg_c)\n",
    "\n",
    "qc.h(qreg_q[0])\n",
    "qc.cx(qreg_q[0],qreg_q[1])\n",
    "qc.cx(qreg_q[1],qreg_q[2])\n",
    "\n",
    "qc.measure(qreg_q,creg_c)"
   ]
  },
  {
   "cell_type": "code",
   "execution_count": null,
   "metadata": {
    "colab": {
     "base_uri": "https://localhost:8080/",
     "height": 490
    },
    "id": "u3b3clo-uNsS",
    "outputId": "11e8db26-8af1-435b-cab3-5d12cc9c1175"
   },
   "outputs": [],
   "source": [
    "# COMPILIMG AND RUNNING -SIMMULATOR\n",
    "backend=provider.get_backend('ibmq_qasm_simulator')\n",
    "job=execute(qc,backend,shots=512) # shots default = 1024\n",
    "result=job.result()\n",
    "result_counts=result.get_counts()\n",
    "print('result_counts -> ',result_counts)\n",
    "plot_histogram(result_counts)# COMPILIMG AND RUNNING -SIMMULATOR"
   ]
  },
  {
   "cell_type": "markdown",
   "metadata": {
    "id": "KiSScAgsvN6-"
   },
   "source": [
    "Al ejecutar en una QPU real tu trabajo se encola y puede tardar mucho en ejecutarse. \n",
    "\n",
    "Pdemos ir al Dashboard > Jobs de tu cuenta y ver el tiempo estimado de ejecucion en la cola"
   ]
  },
  {
   "cell_type": "code",
   "execution_count": null,
   "metadata": {
    "id": "GmeQFBGXu71x"
   },
   "outputs": [],
   "source": [
    "# COMPILIMG AND RUNNING - IBMQ QPU\n",
    "backend=provider.get_backend('ibm_brisbane')\n",
    "job=execute(qc,backend,shots=512) # shots default = 1024\n",
    "result=job.result()\n",
    "result_counts=result.get_counts()\n",
    "print('result_counts -> ',result_counts)\n",
    "plot_histogram(result_counts)"
   ]
  },
  {
   "cell_type": "code",
   "execution_count": null,
   "metadata": {
    "id": "pnnbaa2_vGFb"
   },
   "outputs": [],
   "source": []
  }
 ],
 "metadata": {
  "colab": {
   "provenance": []
  },
  "kernelspec": {
   "display_name": "Python 3 (ipykernel)",
   "language": "python",
   "name": "python3"
  },
  "language_info": {
   "codemirror_mode": {
    "name": "ipython",
    "version": 3
   },
   "file_extension": ".py",
   "mimetype": "text/x-python",
   "name": "python",
   "nbconvert_exporter": "python",
   "pygments_lexer": "ipython3",
   "version": "3.10.8"
  },
  "widgets": {
   "application/vnd.jupyter.widget-state+json": {
    "state": {},
    "version_major": 2,
    "version_minor": 0
   }
  }
 },
 "nbformat": 4,
 "nbformat_minor": 4
}
