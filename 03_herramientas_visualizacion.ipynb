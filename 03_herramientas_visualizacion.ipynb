{
 "cells": [
  {
   "cell_type": "markdown",
   "metadata": {
    "id": "y9VHbkbCbc0A"
   },
   "source": [
    "<div>\n",
    "<img src=\"https://www.nebrija.com/images/logos/logotipo-universidad-nebrija.jpg\" width=\"200\">\n",
    "</div>\n",
    "\n",
    "**ALGORITMOS** -\n",
    "Prof: Carmen Pellicer Lostao"
   ]
  },
  {
   "cell_type": "markdown",
   "metadata": {
    "id": "LdBOzvIObc0C"
   },
   "source": [
    "# Herramientas de Visualizacion en Qiskit"
   ]
  },
  {
   "cell_type": "markdown",
   "metadata": {
    "id": "EGetTHXXbc0C"
   },
   "source": [
    "Importamos las librerias iniciales"
   ]
  },
  {
   "cell_type": "code",
   "execution_count": null,
   "metadata": {
    "ExecuteTime": {
     "end_time": "2021-07-31T05:07:56.673595Z",
     "start_time": "2021-07-31T05:07:56.670504Z"
    },
    "id": "t9P8en_6bc0D"
   },
   "outputs": [],
   "source": [
    "from qiskit import *\n",
    "from qiskit import Aer\n",
    "from qiskit.visualization import plot_histogram\n",
    "from qiskit.tools.monitor import job_monitor"
   ]
  },
  {
   "cell_type": "markdown",
   "metadata": {
    "id": "L25bFS7Dbc0E",
    "tags": []
   },
   "source": [
    "## Visualizacion de Circuitos con el methodo .draw()\n",
    "\n",
    "El método `draw()` de la clase QuantumCricuit nos permite ver una representacion de un circuito cuántico.\n",
    "\n",
    "Hay varios estilos de visualizacion que pueden seleccionarse con el parámetro output `('text', 'mpl', 'latex', 'latex_source')`\n",
    "\n",
    "Mas informacion en [qiskit.circuit.QuantumCircuit.draw](https://qiskit.org/documentation/stubs/qiskit.circuit.QuantumCircuit.draw.html?highlight=draw)"
   ]
  },
  {
   "cell_type": "markdown",
   "metadata": {
    "id": "MPJb33LMDUFX"
   },
   "source": [
    "### EJERCICIO\n",
    "\n",
    "Crea un circuito y dibujalo utilizando las siguientes opciones:\n",
    "\n",
    "* output='mpl'\n",
    "* initial_state=True\n",
    "* plot_barriers=True\n",
    "* reverse_bits=True\n",
    "* fold=2"
   ]
  },
  {
   "cell_type": "code",
   "execution_count": null,
   "metadata": {},
   "outputs": [],
   "source": [
    "# Creamos un circuito \n",
    "from qiskit import QuantumCircuit\n",
    "from qiskit import QuantumRegister, ClassicalRegister"
   ]
  },
  {
   "cell_type": "markdown",
   "metadata": {
    "id": "0On_nKaabc0F"
   },
   "source": [
    "### EJERCICIO\n",
    "\n",
    "Crear un bucle que genere todas la visualizacion del circuito anterior con todos las opciones de tipos de visualizacion de salida posibles"
   ]
  },
  {
   "cell_type": "code",
   "execution_count": null,
   "metadata": {},
   "outputs": [],
   "source": []
  },
  {
   "cell_type": "markdown",
   "metadata": {
    "id": "mw60Jbg5bc0F",
    "tags": []
   },
   "source": [
    "## Visualizar el histograma con plot_histogram\n",
    "\n",
    "Para visualizar el histograma de salida de diferentes medidas realizadas sobre un circuito cuántico, utilizamos el simulador `qasm_simulator` o un dispositivo cuantico real.\n",
    "\n",
    "Los resultados obtenidos pueden visualizarse en un histograma con la función:\n",
    "\n",
    "`plot_histogram(data)`\n",
    "\n",
    "Para nuestro ejemplo de estado de Bell de 2-qubits:"
   ]
  },
  {
   "cell_type": "markdown",
   "metadata": {
    "id": "uMzxjU-LFcNn"
   },
   "source": [
    "### EJERCICIO\n",
    "\n",
    "Crea un circuito cuantico ejecutalo en el simulador, imprime el diccionario de resultados de cada medida y haz una figura del histograma de esos resultados"
   ]
  },
  {
   "cell_type": "code",
   "execution_count": null,
   "metadata": {},
   "outputs": [],
   "source": []
  },
  {
   "cell_type": "markdown",
   "metadata": {
    "id": "Iqmzhg9dbc0G"
   },
   "source": [
    "### Opciones de plot_histogram\n",
    "\n",
    "La funcion `plot_histogram()` tiene algunas [opciones](https://docs.quantum.ibm.com/api/qiskit/qiskit.visualization.plot_histogram#qiskitvisualizationplot_histogram) que nos permiten ajustar el grafico de salida:\n",
    "\n",
    "- `legend` nos permite pasarle a la funcion una lista de cadenas con las etiquetas de diferentes ejecuciones. Es util cuando se representan histogramas resultado de varias ejecuciones\n",
    "\n",
    "- `sort` para definir el orden en el que se muestran las barras del histograma. Puede ser `asc` para orden creciente y `desc` para descendente\n",
    "\n",
    "- `number_to_keep` toma un entero que determina el numero de terminos que se mostrara en el histograma. el resto se muestra de forma agrupada.\n",
    "\n",
    "- `color` para ajustar los colores de las barras con un listado de cadenas de colores\n",
    "\n",
    "- `bar_labels` para ajustar si las etiquetas se mostrarán sobre las barras o no.\n",
    "\n",
    "- `figsize` toma una pareja de valores enteros, en la forma `(int,int)` con el tamaño en pulgadas de la anchura y altura de la figura\n"
   ]
  },
  {
   "cell_type": "markdown",
   "metadata": {
    "id": "NhRNouw2FwDP"
   },
   "source": [
    "#### EJERCICIO\n",
    "\n",
    "Revisa la documentacion de la librería de [visualizacion](https://docs.quantum.ibm.com/api/qiskit/visualization#visualizations) de Qiskit .\n",
    "\n",
    "Crea un circuito, o toma el circuito anterior y haz dos ejecuciones. Representa en un histograma el resultado de ambas ejecuciones"
   ]
  },
  {
   "cell_type": "code",
   "execution_count": null,
   "metadata": {},
   "outputs": [],
   "source": []
  },
  {
   "cell_type": "markdown",
   "metadata": {
    "id": "3jN6jYH2bc0H"
   },
   "source": [
    "### Guardando la salida plot_histogram() en una figura\n",
    "\n",
    "La funcion `plot_histogram()` devuelve un objeto de tipo figura llamado `matplotlib.Figure` que podemos guardar en un fichero com el metodo `.savefig('path\\out.png')`. Podemos utilizar diferentes formatos de imagen como `.jpeg`, `png`, etc"
   ]
  },
  {
   "cell_type": "markdown",
   "metadata": {
    "id": "1jRKtuIHbc0H"
   },
   "source": [
    "#### EJERCICIO\n",
    "\n",
    "Para los resultados de dos ejecuciones del circuito del estado de Bell, prueba la funcion `plot_histogram` con las siguientes opciones:\n",
    "\n",
    "- `legend` con valores de 'Primera Ejecucion' y 'Segunda Ejecucion'\n",
    "- `color` con colores 'orange' y 'black'\n",
    "- `sort` descendente\n",
    "- `bar_labels` suprimidos\n",
    "- `figsize` de 15 pulgadas de ancho y 12 de alto\n",
    "\n",
    "Muestra la grafica por pantalla con la funcion __display()__ guarda el resultado con el metodo __savefig()__ en una figura que se llame 'resultados_estado_Bell.png'"
   ]
  },
  {
   "cell_type": "code",
   "execution_count": null,
   "metadata": {},
   "outputs": [],
   "source": []
  },
  {
   "cell_type": "markdown",
   "metadata": {
    "id": "LSpX8m2Ubc0I",
    "tags": []
   },
   "source": [
    "## Visualizacion de los Estados Cuánticos"
   ]
  },
  {
   "cell_type": "markdown",
   "metadata": {
    "id": "yT7C8bCrbc0I"
   },
   "source": [
    "En muchas ocasiones necesitamos visualizar el estado cuántico en el que se encuentra el computador. Puede ser util para comprender como evoluciona el estado en un circuito y realizar depuracion de un algoritmo o programa cuántico.\n",
    "\n",
    "Esta visualización, realizada en un computador clásico requiere potencia de calculo exponencial en relacion con el número de qubits que tiene nuestro estado. Es, por lo tanto, una operacion bastante costosa y no se recomienda realizarla para circuitos de muchos qubits.\n",
    "\n",
    "En Qiskit se utilizan las siguientes funciones para generar visualizaciones de un estado cuántico:\n",
    "\n",
    "```\n",
    "plot_bloch_vector(bloch_sphere_coord)\n",
    "plot_state_city(quantum_state)\n",
    "plot_state_qsphere(quantum_state)\n",
    "plot_state_paulivec(quantum_state)\n",
    "plot_state_hinton(quantum_state)\n",
    "plot_bloch_multivector(quantum_state)\n",
    "```\n",
    "\n",
    "Un estado cuántico se describe normalmente como un vector de estado (statevector) $|\\psi\\rangle$ que es un vector de números complejos y tiene las siguientes visualizaciones posibles:\n",
    "\n",
    "- `'plot_bloch_vector'`: La vista estandar para un qubit en la esfera de Bloch dadas sus coordenadas cartesianas o polares sobre la esfera\n",
    "- `'plot_bloch_multivector'`: Proyeccion de un estado de n qubits sobre un espacio de n qubits y visualizacion de cada qubit en una esfera de Bloch\n",
    "- `'plot_state_qsphere'`: Vista propietaria de Qiskit que describe un estado cuántico de multiples qubits sobre una esfera en la que se muestran la fase (color del estado) y la amplitud (grosor del vector) de cada estado de la base de n qubits. Para estados en superposición se visualizan todos sus componentes de la base computacion\n",
    "\n",
    "Existen tambien otras visualizaciones que son interesantes para mostrar operadores y la representacion general de un vector de estados visto como una matriz de densidad  $\\rho = |\\psi\\rangle\\langle \\psi|$. Un operador es una matriz que puede visualizarse con las siguientes funciones:\n",
    "\n",
    "- `'plot_state_city'`: La visualizacion estandar de operadores como matrices con parte real e imaginaria\n",
    "\n",
    "- `'plot_state_paulivec'`: La representacion del operador expresado sobre la base de los operadores de Pauli $\\rho=\\sum_{q=0}^{d^2-1}p_jP_j/d$.\n",
    "\n",
    "- `'plot_state_hinton'`: Lo mismo que `'city'` pero con el tamaño del elemento representando su valor en la matriz del operador.\n"
   ]
  },
  {
   "cell_type": "markdown",
   "metadata": {
    "id": "yhvdnOYybc0I",
    "tags": []
   },
   "source": [
    "### Visualizacion del Estado Cuántico con plot_bloch_vector\n",
    "\n",
    "La forma estandar de mostrar un vector de estados es utilizar la esfera de Bloch. Esto solo funciona para un qubit y toma como entrada el vector de estados de Bloch en funcion de las coordenadas esfericas (angulos `theta` y `phi`) o con coordenadas cartesianas en $R^3$.\n",
    "\n",
    "El vector de estados de Bloch se define como $[x = sin(\\theta) cos(\\phi), y = sin(\\theta) sin(\\phi), z = cos(\\theta)]$, donde $\\theta \\in [0,\\pi]$ y $\\phi\\in [0,2\\pi)$ son los angulos del vector de estados en coordenadas esféricas\n",
    "\n",
    "Las coordenadas esfericas son:\n",
    "\n",
    "- `r` la distancia del centro de la esfera de Bloch hasta la superficie, el modulo del vector\n",
    "- `theta`el angulo que forma con el eje `z` en radianes\n",
    "- `phi`el angulo que forma con el eje `x` en radianes"
   ]
  },
  {
   "cell_type": "markdown",
   "metadata": {
    "id": "dmxRauTLHrrf"
   },
   "source": [
    "#### EJERCICIO\n",
    "\n",
    "Revisa la documentacion de la funcion [plot_bloch_vector](https://docs.quantum.ibm.com/api/qiskit/qiskit.visualization.plot_bloch_vector#qiskitvisualizationplot_bloch_vector) y representa en la esfera de Bloch un vector de estados que tenga un angulo $\\theta = \\frac{\\pi}{2}$ y  $\\phi = \\frac{\\pi}{2}$ en coordenadas esfericas.\n",
    "\n",
    "Calcula las coordenadas cartesianas del vector de estados en $R^3$ y representalo igualmente en la esfera de Bloc"
   ]
  },
  {
   "cell_type": "code",
   "execution_count": null,
   "metadata": {
    "ExecuteTime": {
     "end_time": "2021-07-31T05:09:13.556822Z",
     "start_time": "2021-07-31T05:09:13.553512Z"
    },
    "id": "SJbbpcJDbc0I"
   },
   "outputs": [],
   "source": [
    "from qiskit.visualization import plot_bloch_vector\n",
    "\n",
    "#calcula coordenadas cartesianas y esfericas\n",
    "\n",
    "\n",
    "#representa a partir de coord cart\n",
    "\n",
    "\n",
    "#representa a partir de coord esfericas\n",
    "\n"
   ]
  },
  {
   "cell_type": "markdown",
   "metadata": {
    "id": "9o1vSEUGbc0J"
   },
   "source": [
    "#### EJERCICIO\n",
    "\n",
    "Inspecciona las opciones de la funcion [plot_bloch_vector](https://docs.quantum.ibm.com/api/qiskit/qiskit.visualization.plot_bloch_vector#qiskitvisualizationplot_bloch_vector) y crea una representacion de un vector de estados en la esfera de Bloch que tenga un titulo de figura y un tamaño determinado."
   ]
  },
  {
   "cell_type": "code",
   "execution_count": null,
   "metadata": {},
   "outputs": [],
   "source": [
    "#- **title** (str): una cadena (string) que representa el titulo de la figura\n",
    "#- **figsize** (tuple): tamaño de la figura en pulgadas (anchura, altura)"
   ]
  },
  {
   "cell_type": "markdown",
   "metadata": {
    "id": "3hbmmAtGbc0J"
   },
   "source": [
    "Podemos usar `.savefig('out.png')` para guardar la figura en un fichero"
   ]
  },
  {
   "cell_type": "markdown",
   "metadata": {
    "id": "_yn-zXH2bc0J"
   },
   "source": [
    "#### EJERCICIO\n",
    "\n",
    "Representa en la esfera de Bloch los siguientes estados:\n",
    "\n",
    "- |0>\n",
    "- |+>\n",
    "- |i>\n",
    "\n",
    "Utilizando coordenadas cartesianas y esfericas y guardando las figuras en unas imagenes llamadas 'cero.png', 'mas.png' e 'i.png'"
   ]
  },
  {
   "cell_type": "code",
   "execution_count": null,
   "metadata": {},
   "outputs": [],
   "source": [
    "#|0>\n",
    "#cartesianas\n",
    "\n",
    "#esfericas\n",
    "\n",
    "\n",
    "#|+>\n",
    "#cartesianas\n",
    "\n",
    "#esfericas\n",
    "\n",
    "\n",
    "#|i>\n",
    "#cartesianas\n",
    "\n",
    "#esfericas"
   ]
  },
  {
   "cell_type": "markdown",
   "metadata": {
    "id": "rGw0QFXAbc0K",
    "tags": []
   },
   "source": [
    "## Visualizacion de un estado de multiples qubits con plot_bloch_multivector\n",
    "\n",
    "Una forma estandar de mostrar la visualizacion de un estado de multiples qubits es mostrar el estado de cada uno de los qubits en una esfera de Bloch\n",
    "\n",
    "Para probar esta visualizacion, creemos un estado y visualicemoslo con esta funcion:"
   ]
  },
  {
   "cell_type": "markdown",
   "metadata": {
    "id": "FNG25HJWKhS4"
   },
   "source": [
    "#### EJERCICIO\n",
    "\n",
    "Utiliza la funcion de [random_statevector](https://docs.quantum.ibm.com/api/qiskit/quantum_info#random) del paquete `qiskit.quantum_info` para crear un estado de 3 qubits aleatorio"
   ]
  },
  {
   "cell_type": "code",
   "execution_count": null,
   "metadata": {},
   "outputs": [],
   "source": []
  },
  {
   "cell_type": "markdown",
   "metadata": {
    "id": "R4IRO0qIKxnX"
   },
   "source": [
    "Investiga las funciones de visualizacion [array_to_latex](https://docs.quantum.ibm.com/api/qiskit/qiskit.visualization.array_to_latex#qiskitvisualizationarray_to_latex) y [plot_bloch_vector](https://docs.quantum.ibm.com/api/qiskit/qiskit.visualization.plot_bloch_multivector#qiskitvisualizationplot_bloch_multivector) para representar visualmente el vector de estados aleatorio"
   ]
  },
  {
   "cell_type": "code",
   "execution_count": null,
   "metadata": {},
   "outputs": [],
   "source": []
  },
  {
   "cell_type": "markdown",
   "metadata": {
    "id": "Xipj8H9QLPt-"
   },
   "source": [
    "#### EJERCICIO\n",
    "\n",
    "Crea un vector de estados que tenga dos qubits con los siguientes valores:\n",
    "\n",
    "* $q_0 = |+>$\n",
    "* $q_1 = |0>$\n",
    "\n",
    "y representalo con la visualizacion de `plot_bloch_multivector`.\n",
    "\n",
    "En la visualizacion prueba la opcion `reverse_bits=True`"
   ]
  },
  {
   "cell_type": "code",
   "execution_count": null,
   "metadata": {},
   "outputs": [],
   "source": []
  },
  {
   "cell_type": "markdown",
   "metadata": {
    "id": "5mf9W9B9bc0L"
   },
   "source": [
    "Cuando ejecutamos un circuito en un simulador podemos guardar su estado y visualizarlo, en lugar de colapsarlo midiendo y ver los histogramas. De esta forma no perdemos el estado de superposicion ni las fases y podemos visualizar el estado cuantico completo.\n",
    "\n",
    "Podemos guardar el vector de estados resultado del `QuantumCircuit` con el metodo `save_statevector`y representarlo con estas visualizaciones.\n",
    "\n",
    "Ten en cuenta que el circuito no puede contener medidas, pues las medidas no son operaciones unitarias y no pueden ser parte de un operador."
   ]
  },
  {
   "cell_type": "markdown",
   "metadata": {},
   "source": [
    "#### EJERCICIO\n",
    "\n",
    "Creamos un vector de estados  $|\\psi\\rangle= |+0>$ para con un circuito y guardamos el resultado de la ejecucion del circuito en lugar de medirlo.\n",
    "\n",
    "Ejecutamos la simulacion del circuito y obtenemos el vector de estados del resultado para visualizarlo:"
   ]
  },
  {
   "cell_type": "code",
   "execution_count": null,
   "metadata": {},
   "outputs": [],
   "source": [
    "# Guardando el statevector final\n",
    "# Construimos un circuito cuantico sin medidas\n",
    "\n",
    "circuit = QuantumCircuit(2)\n",
    "#crea el circuito \n",
    "#hay que salvar el vector de estados del circuito (en lugar de poner puertas de medida) -> circuit.save_statevector()\n",
    "\n",
    "#realiza la simulacion y obten el vector de estados del resultado -> result.get_statevector()"
   ]
  },
  {
   "cell_type": "markdown",
   "metadata": {
    "id": "1bGdMiWjbc0L"
   },
   "source": [
    "#### EJERCICIO\n",
    "\n",
    "Utiliza las opciones de **plot_bloch_multivector()**:\n",
    "\n",
    "- **title** (str): una cadena (string) representando el titulo de la figura\n",
    "- **figsize** (tuple): tamaño de la figura en pulgadas (anchura, altura)\n",
    "\n",
    "para generar una figura y guardarla en un fichero con el metodo `.savefig('out.png')`"
   ]
  },
  {
   "cell_type": "code",
   "execution_count": null,
   "metadata": {},
   "outputs": [],
   "source": []
  },
  {
   "cell_type": "markdown",
   "metadata": {
    "id": "Crn8az7sbc0Q"
   },
   "source": [
    "### EJERCICIO\n",
    "\n",
    "Crea un circuito que cree el estado de Bell de 2 qubits entrelazado $\\frac{1}{\\sqrt(2)}(|00>+|11>)$ y utiliza el metodo `save_statevector()` de la clase QuantumCircuit para obtener su resultado.\n",
    "\n",
    "Esta instruccion es equivalente a una medida porque nos permite ejecutar el circuito en el simulador tras realizarla.\n",
    "\n",
    "Ejecuta el circuito y representalo con la funcion `plot_bloch_multivector()`\n",
    "\n",
    "Interpreta los resultados"
   ]
  },
  {
   "cell_type": "code",
   "execution_count": null,
   "metadata": {},
   "outputs": [],
   "source": []
  },
  {
   "cell_type": "markdown",
   "metadata": {
    "id": "VIi2mij3bc0R",
    "tags": []
   },
   "source": [
    "## Otras visualizaciones del vector de estados\n",
    "\n",
    "La librería Qiskit tiene la clase [Statevector](https://docs.quantum.ibm.com/api/qiskit/qiskit.quantum_info.Statevector#statevector) que nos permite transformar un vector complejo en un vector de estados y utilizar el metodo la propiedad `data` del objeto vector de estados para acceder a sus componentes."
   ]
  },
  {
   "cell_type": "markdown",
   "metadata": {
    "id": "SG05m7gyOXIG"
   },
   "source": [
    "#### EJERCICIO\n",
    "\n",
    "Crea unas funciones auxiliares que nos ayudan a ver las componentes de un vector de estados de n qubits para poder utilizarlas como visualizacion numerica de las componentes del vector de estados:"
   ]
  },
  {
   "cell_type": "code",
   "execution_count": null,
   "metadata": {
    "id": "LEKsIdq3bc0R"
   },
   "outputs": [],
   "source": [
    "import math, cmath\n",
    "\n",
    "def get_probabilities(svector):\n",
    "    # una funcion que devuelva las probabilidades de cada componente del vector de estados\n",
    "\n",
    "def get_phases(svector):\n",
    "    # una funcion que devuelva las fases de cada componente del vector de estados"
   ]
  },
  {
   "cell_type": "markdown",
   "metadata": {
    "id": "t2cj8QmWOnA2"
   },
   "source": [
    "Toma el vector de estados resultado del ejercicio anterior y muestralo como un array en latex, sus probabilidades de medir cada componente de la base y las fases relativas de cada qubit"
   ]
  },
  {
   "cell_type": "code",
   "execution_count": null,
   "metadata": {},
   "outputs": [],
   "source": []
  },
  {
   "cell_type": "markdown",
   "metadata": {
    "id": "eQGhWr5Lbc0R"
   },
   "source": [
    "#### EJERCICIO\n",
    "\n",
    "Crea un circuito de 2 qubits con las siguientes operaciones:\n",
    "\n",
    "- aplicar al q[0] la puerta H\n",
    "- aplicar al q[1] las puertas HTH\n",
    "- entrelazar ambos qubits con una puerta CNOT con control en q[0] y target q[1]\n",
    "\n",
    "El circuito es un generador de numeros aleatorios trucado y entrelazado\n",
    "\n",
    "Muestra el vector de estados en formato matemático LATEX, las probabilidades y las fases del vector de estados resultante\n",
    "\n",
    "¿Cual es la probalidad de que los dos qubits midan el mismo resultado?"
   ]
  },
  {
   "cell_type": "code",
   "execution_count": null,
   "metadata": {},
   "outputs": [],
   "source": []
  },
  {
   "cell_type": "markdown",
   "metadata": {
    "id": "_ITCkrHqbc0R",
    "tags": []
   },
   "source": [
    "## Visualizacion del vector de estados con Qsphere\n",
    "\n",
    "Visualizacion propietaria de IBM en Qiskit que describe un estado cuántico de multiples qubits sobre una esfera en la que se muestran la fase (color del estado) y la amplitud (grosor del vector) de cada estado de la base de n qubits. Para estados en superposición se visualizan todos sus componentes de la base computacion"
   ]
  },
  {
   "cell_type": "markdown",
   "metadata": {
    "id": "tx2SeYUJPm7f"
   },
   "source": [
    "#### EJERCICIO\n",
    "\n",
    "Investiga la informacion de la funcion de visualizacion [plot_state_qsphere](https://docs.quantum.ibm.com/api/qiskit/qiskit.visualization.plot_state_qsphere#qiskitvisualizationplot_state_qsphere) y representa en ella el estado de Bell de 2 qubits entrelazado $\\frac{1}{\\sqrt(2)}(|00>+|11>)$."
   ]
  },
  {
   "cell_type": "code",
   "execution_count": null,
   "metadata": {},
   "outputs": [],
   "source": [
    "from qiskit.visualization import plot_state_qsphere\n"
   ]
  },
  {
   "cell_type": "markdown",
   "metadata": {
    "id": "S-KzdDYYbc0R"
   },
   "source": [
    "Inspecciona las opciones de esta visualizacion,crea una figura con un determinada tamaño y guarda en un fichero la imagen obtenida con el metodo.`savefig('out.png')`"
   ]
  },
  {
   "cell_type": "code",
   "execution_count": null,
   "metadata": {
    "id": "-UgvXNFOQSzG"
   },
   "outputs": [],
   "source": [
    "# **figsize** (tuple): tamaño de la figura (anchura, altura)\n"
   ]
  },
  {
   "cell_type": "markdown",
   "metadata": {
    "id": "7E_U8MPWbc0S",
    "tags": []
   },
   "source": [
    "## Visualizacion de Operadores: City, PauliVec y Hinton\n",
    "\n",
    "Esta visualizacion toma un vector de estados como entrada o un operador (matriz) y visualiza los valores de la matriz en cada caso. Para el caso de tomar un vector de estados, se calcula su matriz de densidad y es esta la que se representa."
   ]
  },
  {
   "cell_type": "markdown",
   "metadata": {
    "id": "7mZ5_ySybc0S"
   },
   "source": [
    "Podemos guardar la matriz que representa el Operador de un `QuantumCircuit` con el metodo `save_unitary` y representarlo con estas visualizaciones.\n",
    "\n",
    "Ten en cuenta que el circuito no puede contener medidas, pues las medidas no son operaciones unitarias y no pueden ser parte de un operador."
   ]
  },
  {
   "cell_type": "markdown",
   "metadata": {
    "id": "XJ_1pQHDRVVP"
   },
   "source": [
    "#### EJERCICIO\n",
    "\n",
    "Inspecciona las funciones de visualizacion de operadores:\n",
    "\n",
    "*  [plot_state_city](https://docs.quantum.ibm.com/api/qiskit/qiskit.visualization.plot_state_city#qiskitvisualizationplot_state_city). La visualizacion estandar de operadores como matrices con parte real e imaginaria\n",
    "\n",
    "*  [plot_state_paulivec](https://docs.quantum.ibm.com/api/qiskit/qiskit.visualization.plot_state_paulivec#qiskitvisualizationplot_state_paulivec) La representacion del operador expresado sobre la base de los operadores de Pauli $\\rho=\\sum_{q=0}^{d^2-1}p_jP_j/d$.\n",
    "\n",
    "* [plot_state_hinton](https://docs.quantum.ibm.com/api/qiskit/qiskit.visualization.plot_state_hinton#qiskitvisualizationplot_state_hinton) Lo mismo que `'city'` pero con el tamaño del elemento representando su valor en la matriz del operador.\n",
    "\n",
    "Y visualiza como se representa la matriz de densidad del estado entrelazado de Bell de 2 qubits  $\\frac{1}{\\sqrt(2)}(|00>+|11>)$\n",
    "\n",
    "Para ello crea un circuito que genere este estado y guarda la matriz unitaria en lugar de realizar la medida.\n",
    "Ejecuta el simulador y recupera la matriz unitaria del resultado de la simulacion pra mostrarla en las visualizaciones"
   ]
  },
  {
   "cell_type": "code",
   "execution_count": null,
   "metadata": {},
   "outputs": [],
   "source": [
    "# Creamos el circuito sin medidas\n",
    "\n",
    "# Guardar un circuito como un operador unitario -> circuit.save_unitary()\n",
    "\n",
    "#simular y obtener el operador unitario de los resultados -> result.get_unitary()"
   ]
  },
  {
   "cell_type": "markdown",
   "metadata": {},
   "source": [
    "Crear las visualizaciones"
   ]
  },
  {
   "cell_type": "code",
   "execution_count": null,
   "metadata": {
    "id": "PuYaan22bc0S"
   },
   "outputs": [],
   "source": [
    "from qiskit.visualization import plot_state_city, plot_state_paulivec, plot_state_hinton"
   ]
  },
  {
   "cell_type": "code",
   "execution_count": null,
   "metadata": {},
   "outputs": [],
   "source": [
    "#state_city"
   ]
  },
  {
   "cell_type": "code",
   "execution_count": null,
   "metadata": {},
   "outputs": [],
   "source": [
    "#state_paulivec"
   ]
  },
  {
   "cell_type": "code",
   "execution_count": null,
   "metadata": {},
   "outputs": [],
   "source": [
    "#state_hinton"
   ]
  },
  {
   "cell_type": "markdown",
   "metadata": {
    "id": "AoSbIbwnbc0T"
   },
   "source": [
    "#### EJERCICIO\n",
    "\n",
    "Investiga las opciones de estas visualizacione cmabiando algunos de los parametros por defecto."
   ]
  },
  {
   "cell_type": "markdown",
   "metadata": {
    "id": "L8Bu9_d7bc0T"
   },
   "source": [
    "**plot_state_city()** opciones\n",
    "\n",
    "- **title** (str): una cadena (string) representando el titulo de la figura\n",
    "- **figsize** (tuple): tamaño de la figura en pulgadas (anchura, altura)\n",
    "- **color** (list): a lista de len=2 para colorear las partes real e imaginaria de los elementos de la matriz"
   ]
  },
  {
   "cell_type": "code",
   "execution_count": null,
   "metadata": {},
   "outputs": [],
   "source": []
  },
  {
   "cell_type": "markdown",
   "metadata": {
    "id": "oiOnVSPrbc0T"
   },
   "source": [
    "**plot_state_hinton()** opciones\n",
    "\n",
    "- **title** (str): una cadena (string) representando el titulo de la figura\n",
    "- **figsize** (tuple): tamaño de la figura en pulgadas (anchura, altura)"
   ]
  },
  {
   "cell_type": "code",
   "execution_count": null,
   "metadata": {},
   "outputs": [],
   "source": []
  },
  {
   "cell_type": "markdown",
   "metadata": {
    "id": "Q1OM0sVlbc0T"
   },
   "source": [
    "**plot_state_paulivec()** opciones\n",
    "\n",
    "- **title** (str): una cadena (string) representando el titulo de la figura\n",
    "- **figsize** (tuple): tamaño de la figura en pulgadas (anchura, altura)\n",
    "- **color** (list): a lista de len=2 para colorear las partes real e imaginaria de los elementos de la matriz"
   ]
  },
  {
   "cell_type": "code",
   "execution_count": null,
   "metadata": {},
   "outputs": [],
   "source": []
  },
  {
   "cell_type": "markdown",
   "metadata": {
    "id": "0kdQFGfabc0U"
   },
   "source": [
    "Las figuras pueden igualmente guardarse en disco con el metodo`.savefig('out.png')`"
   ]
  }
 ],
 "metadata": {
  "anaconda-cloud": {},
  "celltoolbar": "Tags",
  "colab": {
   "collapsed_sections": [
    "L25bFS7Dbc0E"
   ],
   "provenance": [],
   "toc_visible": true
  },
  "kernelspec": {
   "display_name": "Python 3 (ipykernel)",
   "language": "python",
   "name": "python3"
  },
  "language_info": {
   "codemirror_mode": {
    "name": "ipython",
    "version": 3
   },
   "file_extension": ".py",
   "mimetype": "text/x-python",
   "name": "python",
   "nbconvert_exporter": "python",
   "pygments_lexer": "ipython3",
   "version": "3.10.8"
  },
  "varInspector": {
   "cols": {
    "lenName": 16,
    "lenType": 16,
    "lenVar": 40
   },
   "kernels_config": {
    "python": {
     "delete_cmd_postfix": "",
     "delete_cmd_prefix": "del ",
     "library": "var_list.py",
     "varRefreshCmd": "print(var_dic_list())"
    },
    "r": {
     "delete_cmd_postfix": ") ",
     "delete_cmd_prefix": "rm(",
     "library": "var_list.r",
     "varRefreshCmd": "cat(var_dic_list()) "
    }
   },
   "types_to_exclude": [
    "module",
    "function",
    "builtin_function_or_method",
    "instance",
    "_Feature"
   ],
   "window_display": false
  },
  "widgets": {
   "application/vnd.jupyter.widget-state+json": {
    "state": {},
    "version_major": 2,
    "version_minor": 0
   }
  }
 },
 "nbformat": 4,
 "nbformat_minor": 4
}
