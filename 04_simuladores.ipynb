{
 "cells": [
  {
   "cell_type": "markdown",
   "metadata": {
    "id": "u72mij-Jq5AD"
   },
   "source": [
    "<div>\n",
    "<img src=\"https://www.nebrija.com/images/logos/logotipo-universidad-nebrija.jpg\" width=\"200\">\n",
    "</div>\n",
    "\n",
    "**ALGORITMOS** -\n",
    "Prof: Carmen Pellicer Lostao"
   ]
  },
  {
   "cell_type": "markdown",
   "metadata": {
    "id": "jJwPwB3Qq5AF"
   },
   "source": [
    "\n",
    "# Qiskit Aer: Simuladores\n",
    "\n",
    "---\n",
    "\n",
    "\n",
    "\n",
    "\n",
    "\n",
    "\n"
   ]
  },
  {
   "cell_type": "markdown",
   "metadata": {
    "id": "qTQHesH5q5AF"
   },
   "source": [
    "Cargamos las credenciales de nuestra cuenta e importamos las librerias iniciales"
   ]
  },
  {
   "cell_type": "code",
   "execution_count": null,
   "metadata": {
    "id": "5pRVkakqq5AF",
    "outputId": "5ca1a87b-5031-469a-85ee-903751424142"
   },
   "outputs": [],
   "source": [
    "from qiskit import IBMQ\n",
    "# Loading your IBM Quantum account(s)\n",
    "provider = IBMQ.load_account()"
   ]
  },
  {
   "cell_type": "code",
   "execution_count": null,
   "metadata": {
    "id": "iP0q0yy6q5AH",
    "outputId": "2f2325d4-589e-4435-dac6-e11365c0ce4a"
   },
   "outputs": [],
   "source": [
    "IBMQ.providers()    # List all available providers"
   ]
  },
  {
   "cell_type": "code",
   "execution_count": null,
   "metadata": {
    "id": "UWzl7qA8q5AH",
    "outputId": "db01131c-2cac-464e-c35e-47b0cdac594f"
   },
   "outputs": [],
   "source": [
    "import numpy as np\n",
    "\n",
    "# Import Qiskit\n",
    "from qiskit import QuantumCircuit\n",
    "from qiskit import Aer, transpile\n",
    "from qiskit.providers.aer import Aer\n",
    "from qiskit.tools.visualization import plot_histogram, plot_state_city\n",
    "import qiskit.quantum_info as qi"
   ]
  },
  {
   "cell_type": "markdown",
   "metadata": {
    "id": "ijhKDP1Oq5AH"
   },
   "source": [
    "## Backends de simulacion"
   ]
  },
  {
   "cell_type": "markdown",
   "metadata": {
    "id": "c6raZKCxq5AH"
   },
   "source": [
    "Ahora veremos como importamos el Backend del simulador [Qiskit Aer](https://qiskit.org/ecosystem/aer/index.html) y lo utilizaremos para ejecutar circuitos de Qiskit Terra ideales, sin ruido.\n",
    "\n",
    "El provider de Aer provider contiene una variedad de backends de simulacion para poder usar diferentes métodos de simulacion.\n",
    "\n",
    "Los backends que hay accesibles para el sistema actual en el que estamos, pueden verse utilizando la funcion `Aer.backends()`"
   ]
  },
  {
   "cell_type": "markdown",
   "metadata": {
    "id": "U5ofVT6BlCMW"
   },
   "source": [
    "#### EJERCICIO\n",
    "\n",
    "Siguiendo las instrucciones del [tutorial](https://qiskit.org/ecosystem/aer/tutorials/1_aer_provider.html) de la documentacion de las librerías `Aer`, obten los backends de ejecucion que tenemos disponibles en nuestro entorno."
   ]
  },
  {
   "cell_type": "code",
   "execution_count": null,
   "metadata": {},
   "outputs": [],
   "source": []
  },
  {
   "cell_type": "markdown",
   "metadata": {
    "id": "YggdgBsLq5AI"
   },
   "source": [
    "El backend principal de simulacion es el `AerSimulator`. Podemos crear una instancia de backend de simulacion para correr nuestros circuitos utilizando `Aer.get_backend('aer_simulator')`."
   ]
  },
  {
   "cell_type": "code",
   "execution_count": null,
   "metadata": {
    "id": "7vgErQXeq5AI"
   },
   "outputs": [],
   "source": [
    "simulator = "
   ]
  },
  {
   "cell_type": "markdown",
   "metadata": {
    "id": "rvmHEBtsq5AI"
   },
   "source": [
    "La configuracion por defecto de un objeto backend simulador `AerSimulator` es la de simular un dispositico real libre de ruido.\n",
    "\n",
    "Si un objeto `QuantumCircuit` contiene medidas y se corre en este backend, devolverá un diccionario que contiene los resultados de las medidas. Las medidas son los valores finales que se almacenan en el registro de bits clásico del circuito.\n",
    "\n",
    "El circuito puede contener puertas, medidas, condicionales y otras instrucciones que soporte el simulador."
   ]
  },
  {
   "cell_type": "markdown",
   "metadata": {
    "id": "fQkHYUtll36W"
   },
   "source": [
    "### EJERCICIO\n",
    "\n",
    "Siguiendo con el tutorial, construimos un circuito y lo ejecutamos en el simulador. Obten el diccionario de conteos de los estados medidos, el histograma y tambien los resultados de cada medida."
   ]
  },
  {
   "cell_type": "markdown",
   "metadata": {
    "id": "JTsRU_s6q5AI"
   },
   "source": [
    "La operacion básica de correr un circuito devuelve un diccionario de los resultados de las medidas sobre el estado final del circuito.\n",
    "\n",
    "Aqui veamos como corremos un circuito que contiene el estado de Bell de 2-qubits $\\left|\\psi\\right\\rangle = \\frac{1}{2}\\left(\\left|00\\right\\rangle + \\left|11 \\right\\rangle\\right)$  y mide los resultados con la funcion `plot_histogram`"
   ]
  },
  {
   "cell_type": "code",
   "execution_count": null,
   "metadata": {},
   "outputs": [],
   "source": [
    "# Crear el circuito\n",
    "\n",
    "# Hacemos un transpile del circuito para el simulador\n",
    "\n",
    "# lo corremos y obtenemos los resultados\n"
   ]
  },
  {
   "cell_type": "markdown",
   "metadata": {
    "id": "PyQ_MARPq5AJ"
   },
   "source": [
    "Para obtener los resultados de las medidas de cada ejecucion (shot) utilizamos el parámetro `memory=True` en la ejecucion"
   ]
  },
  {
   "cell_type": "code",
   "execution_count": null,
   "metadata": {},
   "outputs": [],
   "source": [
    "# Correr y obtener la memoria con las medidas de cada shot individual"
   ]
  },
  {
   "cell_type": "markdown",
   "metadata": {
    "id": "ZiWMRgRZq5AJ",
    "tags": []
   },
   "source": [
    "## Métodos de Simulacion"
   ]
  },
  {
   "cell_type": "markdown",
   "metadata": {
    "id": "ArcjGYNcq5AJ"
   },
   "source": [
    "El simulador `AerSimulator` soporta una variedad de metodos de simulacion, cada uno de ellos soporta diferentes instrucciones.\n",
    "\n",
    "El método de simulacion puede seleccionarse con la instruccion `simulator.set_option(method=value)` o puede seleccionarse un simulador con el metodo pre-seleccionado de los disponibles directamente en `Aer.get_backend`.\n",
    "\n",
    "Cuando simulamos circuitos ideales, cambiar el metodo de simulacion `statevector`, `density_matrix` y `matrix_product_state` no debe de cambiar los resultados de las medidas del circuito simulado.\n",
    "\n",
    "Cada uno de estos metodos determina un representacion interna del vector de estados del circuito y de los algoritmos utilizados en las operaciones cuánticas. Cada metodo tiene sus ventajas y desventajas y elegir el metodo mas apropiado es una cuestion de investigacion."
   ]
  },
  {
   "cell_type": "markdown",
   "metadata": {
    "id": "sMc5Nu_GmhJN"
   },
   "source": [
    "### EJERCICIO\n",
    "\n",
    "Prueba las diferentes opciones de simulacion que tienen las librerías Aer.\n",
    "\n",
    "Tomando el circuito anterior realiza una ejecucion para cada tipo de opcion de simulador y recogie los resultados para representarlos conjuntamente en un histograma, como ejecuciones diferentes con `plot_histogram`"
   ]
  },
  {
   "cell_type": "code",
   "execution_count": null,
   "metadata": {
    "id": "8UGKxbBoq5AJ",
    "outputId": "81332d64-94ea-42fe-8837-58a188611515"
   },
   "outputs": [],
   "source": [
    "# Incrementar los shots para reducir la varianza de la muestra\n"
   ]
  },
  {
   "cell_type": "markdown",
   "metadata": {
    "id": "_DrDheM6q5AK"
   },
   "source": [
    "Cada simulador tiene un funcionamiento por defecto, pero tambien se puede especificar un metodo con la propiedad `method` al crear el backend o con la opcion `method`del backend."
   ]
  },
  {
   "cell_type": "markdown",
   "metadata": {
    "id": "BM1ormCtdVqp",
    "tags": []
   },
   "source": [
    "## Instrucciones del simulador segun su tipo"
   ]
  },
  {
   "cell_type": "markdown",
   "metadata": {
    "id": "4QTrKO0YdVqp",
    "tags": []
   },
   "source": [
    "### Guardar el vector de estados"
   ]
  },
  {
   "cell_type": "markdown",
   "metadata": {
    "id": "1Fs7IW0vq5AK"
   },
   "source": [
    "El estado del simulador puede guardarse en una variedad de formatos en función de las instrucciones que soporta ese tipo de simulador\n",
    "\n",
    "\n",
    "\n",
    "| Método del Circuito | Descripcion | Métodos soportados |\n",
    "|---------------------|-------------|------------------|\n",
    "| `save_state` | Guardar el estado del simulador en el formato nativo de simulacion | All |\n",
    "| `save_statevector` | Guardar el estado del simulador como statevector | `\"automatic\"`, `\"statevector\"`, `\"matrix_product_state\"`, `\"extended_stabilizer\"`|\n",
    "| `save_stabilizer` | Guardar el estado del simulador como Clifford stabilizer | `\"automatic\"`, `\"stabilizer\"`|\n",
    "| `save_density_matrix` | Guardar el estado del simulador como density matrix | `\"automatic\"`, `\"statevector\"`, `\"matrix_product_state\"`, `\"density_matrix\"` |\n",
    "| `save_matrix_product_state` | Guardar el estado del simulador como un producto tensorial de matrices | `\"automatic\"`, `\"matrix_product_state\"`|\n",
    "| `save_unitary` | Guardar el estado del simulador como unitary matrix del circuito | `\"automatic\"`, `\"unitary\"`|\n",
    "| `save_superop` | Guardar el estado del simulador  como superoperator matrix  del circuito | `\"automatic\"`, `\"superop\"`|\n",
    "\n",
    "Nota: estas instrucciones se soportan solamante en el simulador Aer y daran error si se ejectan sobre hardware de dispositivos reales."
   ]
  },
  {
   "cell_type": "markdown",
   "metadata": {
    "id": "-5qfe0mydVqp",
    "tags": []
   },
   "source": [
    "### Guardar el estado final __statevector__\n",
    "\n",
    "Para guardar el estado final de una simulacion podemos utilizar el metodo `save_statevector` de la clase `QuantumCircuit`. Es importante notar que esta instruccion debe de aplicarse antes de las medidas para evitar que el estado colapse y perdamos la informacion de superposicion y fase."
   ]
  },
  {
   "cell_type": "markdown",
   "metadata": {
    "id": "7wNsRSclnLNW"
   },
   "source": [
    "### EJERCICIO\n",
    "\n",
    "Crea un circuito cuantico y en lugar de medir su resultado guardalo en un objeto de tipo `StateVector()`\n",
    "\n",
    "Visualizalo con las funciones `array_to_latex()` y `plot_bloch_multivector()`"
   ]
  },
  {
   "cell_type": "code",
   "execution_count": null,
   "metadata": {},
   "outputs": [],
   "source": [
    "# Construir un circuito sin medidas\n",
    "\n",
    "\n",
    "# correr el circuito y visualizar el statevector\n",
    "\n"
   ]
  },
  {
   "cell_type": "code",
   "execution_count": null,
   "metadata": {},
   "outputs": [],
   "source": [
    "#visualizar el vector de estado resultado en latex\n",
    "from qiskit.visualization import array_to_latex\n"
   ]
  },
  {
   "cell_type": "code",
   "execution_count": null,
   "metadata": {},
   "outputs": [],
   "source": [
    "#visualizar el vector de estado resultado con plot_bloch_multivector\n",
    "from qiskit.visualization import plot_bloch_multivector\n"
   ]
  },
  {
   "cell_type": "markdown",
   "metadata": {
    "id": "LR30VHT9dVqp",
    "tags": []
   },
   "source": [
    "### Guardar la matriz unitaria del circuito\n",
    "\n",
    "Para guardar a matriz unitaria del circuito en una simulacion podemos utilizar el metodo `save_unitary` de la clase `QuantumCircuit`. Es importante notar que esta instruccion no puede contener ninguna medida o resets ya que estas operaciones no son unitarias y no se soportan en este método."
   ]
  },
  {
   "cell_type": "code",
   "execution_count": null,
   "metadata": {},
   "outputs": [],
   "source": [
    "# Construir un circuito sin medidas\n",
    "\n",
    "\n",
    "\n",
    "# correr el circuito y visualizar la matriz unitaria resultado"
   ]
  },
  {
   "cell_type": "code",
   "execution_count": null,
   "metadata": {},
   "outputs": [],
   "source": [
    "#visualizar el operador con con state_city\n"
   ]
  },
  {
   "cell_type": "markdown",
   "metadata": {
    "id": "2_cqWspSdVqq",
    "tags": []
   },
   "source": [
    "### Guardar multiples estados\n",
    "\n",
    "Podemos ejecutar instrucciones para guardar el vector de estados o la matriz unitaria en ese punto del circuito. Es importante notar que hay que dar un nombre o etiqueta único `label` a cada objeto que guardamos para no perder los resultados por sobre-escritura"
   ]
  },
  {
   "cell_type": "code",
   "execution_count": null,
   "metadata": {},
   "outputs": [],
   "source": [
    "# Construir un circuito sin medidas\n",
    "steps = 5\n",
    "circ = QuantumCircuit(1)\n",
    "for i in range(steps):\n",
    "    circ.save_statevector(label=f'psi_{i}')\n",
    "    circ.rx(i * np.pi / steps, 0)\n",
    "circ.save_statevector(label=f'psi_{steps}')\n",
    "\n",
    "# Transpilar para el simulador\n",
    "simulator = Aer.get_backend('aer_simulator')\n",
    "circ = transpile(circ, simulator)\n",
    "\n",
    "# correr el circuito y obtener los datos resultado\n",
    "result = simulator.run(circ).result()\n",
    "data = result.data(0)"
   ]
  },
  {
   "cell_type": "markdown",
   "metadata": {},
   "source": [
    "#### EJERCICIO\n",
    "\n",
    "inspecciona y representa los resultados obtenidos de la ejecucion anterior:\n",
    "\n",
    "- el objeto `data`\n",
    "- los objetos que hay en el iterable `data.items()` \n",
    "\n",
    "Y representa cada vector de estados de esta coleccion con `plot_bloch_multivector`"
   ]
  },
  {
   "cell_type": "code",
   "execution_count": null,
   "metadata": {},
   "outputs": [],
   "source": []
  },
  {
   "cell_type": "markdown",
   "metadata": {
    "id": "jhz7SCJPq5AM",
    "tags": []
   },
   "source": [
    "### EJERCICIO\n",
    "\n",
    "Crear un circuito que ilustre el efecto de phase kickback con la puerta CNOT y mostrar a cada paso el vector de estados.\n",
    "\n",
    "- Paso 1: poner q[0] en el estado |+>\n",
    "- Paso 2: poner q[1] en el estado |->\n",
    "- Paso 3: poner puerta CNOT con control en q[0] y target en q[1]\n"
   ]
  },
  {
   "cell_type": "code",
   "execution_count": null,
   "metadata": {},
   "outputs": [],
   "source": []
  },
  {
   "cell_type": "markdown",
   "metadata": {
    "id": "MXTyAnXFdVqq",
    "tags": []
   },
   "source": [
    "## Configurar el simulador a un vector de estados dado"
   ]
  },
  {
   "cell_type": "markdown",
   "metadata": {
    "id": "QlguExYoq5AM"
   },
   "source": [
    "\n",
    "El `AerSimulator` permite configurar el simulador con un estado que deseemos para varios de los metodos de simulacion, con las siguientes instrucciones:\n",
    "\n",
    "| Método del Circuito | Descripcion | Métodos soportados |\n",
    "|---------------------|-------------|------------------|\n",
    "| `set_statevector` | Poner el simulador en un estado específico de statevector | `\"automatic\"`, `\"statevector\"`, `\"density_matrix\"`|\n",
    "| `set_stabilizer` | Poner el simulador en un estado específico de Clifford stabilizer | `\"automatic\"`, `\"stabilizer\"`|\n",
    "| `set_density_matrix` | Poner el simulador en un estado específico de density matrix | `\"automatic\"`, `\"density_matrix\"` |\n",
    "| `set_unitary` | Poner el simulador en un estado específico de unitary matrix | `\"automatic\"`, `\"unitary\"`, `\"superop\"`|\n",
    "| `set_superop` | Poner el simulador en un estado específico de superoperator matrix | `\"automatic\"`, `\"superop\"`|\n",
    "\n",
    "\n",
    "**Notas:**\n",
    "* Estas instrucciones deben de aplicarse a todos los qubits del circuito para que no haya errores\n",
    "* El estado de entrada debe de ser un vecrtor de estados válido (statevector, density matrix, unitary etc) para que no haya errores\n",
    "* Estas instrucciones pueden aplicarse en cualquier lugar de un circuito y haran un 'override'  del estado actual al estado especificado. Cualquir valor que estuviese almacenado en el registro clásico (por ejemplo medidas previas) no se verá afectado\n",
    "* Las instrucciones de configuracion del estado del circuito, solo se soportan en el simulador Aer y daran error si un circuito que las contiene se ejecuta en un backend de dispositivo real como backckend de IBM Quantum devices."
   ]
  },
  {
   "cell_type": "markdown",
   "metadata": {
    "id": "cnQr7JsHdVqq"
   },
   "source": [
    "### Configurar un determinado vector de estados\n",
    "\n",
    "La instruccion `set_statevector` se usa para configurar un determinado `Statevector`. El vector de estados de entrada debe de ser valido ($|\\langle\\psi|\\psi\\rangle|=1$) o la instruccion devolverá un error"
   ]
  },
  {
   "cell_type": "markdown",
   "metadata": {
    "id": "XS1f4Aqrscu_"
   },
   "source": [
    "### EJERCICIO\n",
    "\n",
    "Crea un vector de estados aleatorio o uno dado con un numero de qubits determinado (2 o 3, por ejemplo) y un circuito sobre el que configuraremos el estado de partida que hemos creado.\n",
    "\n",
    "Puedes aplicarle algunas operaciones aplicando algunas puertas a sus qubits.\n",
    "\n",
    "Guarda el estado resultante del circuito y ejecutalo en el simulador Aer.\n",
    "\n",
    "Muestra por pantalla el vector de estados resultado."
   ]
  },
  {
   "cell_type": "code",
   "execution_count": null,
   "metadata": {},
   "outputs": [],
   "source": [
    "# Generamos un statevector aleatorio\n",
    "\n",
    "# Configuramos el estado inicial con el statevector generado\n",
    "\n",
    "\n",
    "# Ejecutamos y guardamos datos"
   ]
  },
  {
   "cell_type": "markdown",
   "metadata": {
    "id": "tzA04RuOdVqr"
   },
   "source": [
    "### Utilizando la instruccion de inicializacion\n",
    "\n",
    "Tambien es posible inicializar el simulador con un statevector determinado utilizando la instruccion  `initialize`. A diferencia de la instruccion `set_statevector`, esta instruccion tambien se soporta en dispositivos reales."
   ]
  },
  {
   "cell_type": "markdown",
   "metadata": {},
   "source": [
    "#### EJERCICIO\n",
    "\n",
    "Crea un circuito sin ninguna operacion e inicializalo con el vector de estados del ejercicio anterior con la funcion `initialize` y comprueba que el resultado de la ejecucion es el mismo\n"
   ]
  },
  {
   "cell_type": "code",
   "execution_count": null,
   "metadata": {
    "id": "HddPul2bdVqr",
    "outputId": "2697f50e-4d09-417c-8f1b-8520447d5fa3"
   },
   "outputs": [],
   "source": [
    "# Utilizamos la instruccion de inicializar el circuito\n",
    "circ = QuantumCircuit(num_qubits)\n",
    "circ.initialize(psi, range(num_qubits))\n",
    "circ.save_state()\n",
    "\n",
    "# Transpilamos para el simulador\n",
    "simulator = Aer.get_backend('aer_simulator')\n",
    "circ = transpile(circ, simulator)\n",
    "\n",
    "# Ejecutamos y guardamos datos\n",
    "result = simulator.run(circ).result()\n",
    "result.data(0)"
   ]
  },
  {
   "cell_type": "markdown",
   "metadata": {
    "id": "yjWYqBAYdVqr"
   },
   "source": [
    "### Configurando una determinada density matrix\n",
    "\n",
    "La instruccion `set_density_matrix` permite configurar el circuito a un determinado estado de `DensityMatrix`. El valor de matriz de densidad de entrada debe de ser un valor válisdo ($Tr[\\rho]=1, \\rho \\ge 0$)"
   ]
  },
  {
   "cell_type": "markdown",
   "metadata": {},
   "source": [
    "### EJERCICIO\n",
    "\n",
    "Crea una matriz de densidad aleatoria como vector de estados de entrada a un circuito de 2 qubits.\n",
    "\n",
    "Utiliza el metodo `set_density_matrix` de la clase `QuantumCircuit` para inicializar el circuito.\n",
    "Guarda el estado del circuito con `save_matrix`  en lugar de medirlo, ejecutalo en el simulador y obten los datos de resultado \n"
   ]
  },
  {
   "cell_type": "code",
   "execution_count": null,
   "metadata": {},
   "outputs": [],
   "source": [
    "# Generamos una matriz de densidad de un statevector aleatorio\n",
    "num_qubits = 2\n",
    "rho = qi.random_density_matrix(2 ** num_qubits, seed=100)\n",
    "circ = QuantumCircuit(num_qubits)\n",
    "\n",
    "\n",
    "# Transpilamos para el simulador\n",
    "\n",
    "\n",
    "# Ejecutamos y guardamos datos"
   ]
  },
  {
   "cell_type": "markdown",
   "metadata": {
    "id": "NfLPgavJdVqr"
   },
   "source": [
    "### Configurar un estado determinado Clifford\n",
    "\n",
    "La instruccion `set_stabilizer` permite configurar el circuito a un determinado estado de `Clifford`. El valor de estado `Clifford` debe de ser un valor válido"
   ]
  },
  {
   "cell_type": "markdown",
   "metadata": {},
   "source": [
    "### EJERCICIO\n",
    "\n",
    "Crea un estado de Clifford aleatorio como vector de estados de entrada a un circuito de 2 qubits.\n",
    "\n",
    "Utiliza el metodo `set_stabilizer` de la clase `QuantumCircuit` para inicializar el circuito.\n",
    "Guarda el estado del circuito con `save_state`  en lugar de medirlo, ejecutalo en el simulador y obten los datos de resultado "
   ]
  },
  {
   "cell_type": "code",
   "execution_count": null,
   "metadata": {},
   "outputs": [],
   "source": [
    "# Generamos un random Clifford C\n",
    "num_qubits = 2\n",
    "stab = qi.random_clifford(num_qubits, seed=100)\n",
    "\n",
    "# configuramos el estado inicial a C|0>\n",
    "circ = QuantumCircuit(num_qubits)\n",
    "\n",
    "\n",
    "# Transpilamos para el simulador\n",
    "\n",
    "\n",
    "# Ejecutamos y guardamos datos"
   ]
  },
  {
   "cell_type": "markdown",
   "metadata": {
    "id": "F2eW6SzkdVqr"
   },
   "source": [
    "### Configurar un circuito a una determinada matríz unitaria\n",
    "\n",
    "La instruccion  `set_unitary` permite configurar el circuito a una determinad a matriz unitaria `Operator`. El valor de la matriz unitaria debe de dser válido ($U^\\dagger U=\\mathbb{1}$)"
   ]
  },
  {
   "cell_type": "markdown",
   "metadata": {},
   "source": [
    "### EJERCICIO\n",
    "\n",
    "Crea una matriz unitaria aleatoria como matriz de un circuito de 2 qubits.\n",
    "\n",
    "Utiliza el metodo `set_unitary` de la clase `QuantumCircuit` para inicializar el circuito.\n",
    "Guarda el estado del circuito con `save_state`  en lugar de medirlo, ejecutalo en el simulador y obten los datos de resultado "
   ]
  },
  {
   "cell_type": "code",
   "execution_count": null,
   "metadata": {},
   "outputs": [],
   "source": [
    "# Generamos una matriz random unitary\n",
    "num_qubits = 2\n",
    "unitary = qi.random_unitary(2 ** num_qubits, seed=100)\n",
    "\n",
    "# configuramos el estado inicial a la matriz unitary\n",
    "circ = QuantumCircuit(num_qubits)\n",
    "\n",
    "\n",
    "# Transpilamos para el simulador\n",
    "\n",
    "\n",
    "# Ejecutamos y guardamos datos\n"
   ]
  },
  {
   "cell_type": "markdown",
   "metadata": {
    "id": "DRSU3QG-q5AS",
    "tags": []
   },
   "source": [
    "## Simuladores de backends con diferentes modelos de ruido"
   ]
  },
  {
   "cell_type": "markdown",
   "metadata": {
    "id": "HTTe4dG7q5AS",
    "tags": []
   },
   "source": [
    "Veamos ahora como podemos utilizar el módulo Qiskit Aer noise para generar automáticamente un modelo de ruido de un dispositivo real de IBMQ hardware. Podemos además utilizar este modelo en circuitos cuánticos y estudiar cual será el efecto de los errores antes de correr el circuito en un dispositivo real\n",
    "\n",
    "Dede de hacerse notar que estos modelos son solo una aproximacion a los errores reales que ocurren en los dispositivos reales y están generados a partir de un numero limitado de parámetros de tasas de error de las puertas del hardware que ocurren. El estudio de errores en hardware cuántico es un tema de investigacion muy activo."
   ]
  },
  {
   "cell_type": "code",
   "execution_count": 1,
   "metadata": {
    "id": "DQOfHNY-q5AS",
    "tags": []
   },
   "outputs": [],
   "source": [
    "from qiskit import IBMQ, transpile\n",
    "from qiskit import QuantumCircuit\n",
    "from qiskit.providers.aer import Aer, AerSimulator\n",
    "from qiskit.tools.visualization import plot_histogram"
   ]
  },
  {
   "cell_type": "markdown",
   "metadata": {
    "id": "sACPa27Nq5AT"
   },
   "source": [
    "Los modelos de ruido de Qiskit Aer generan de forma automática un modelo simplificado del ruido que genera un dispositivo real. Este modelo se genera utilizando la informacion de calibracion que se encuentra en las propiedades del dispositivo `BackendProperties` y tiene en cuenta los siguientes aspectos:\n",
    "\n",
    "* Probabilidad de error en cada puerta base de cada qubit\n",
    "* El parámetro `gate_length` de cada puerta base de cada qubit\n",
    "* Las constantes T1 y T2 de los tiempos de relajacion de cada qubit\n",
    "* La probabilidad de error de lectura de un qubit"
   ]
  },
  {
   "cell_type": "markdown",
   "metadata": {
    "id": "-mhyi0iBq5AT"
   },
   "source": [
    "Usaremos el ruido de un dispositivo real de IBM Quantum que podemos encontrar en Qiskit Terra. Específicamente el modelo de ruido del dispositivo `ibmq_vigo`. Para más informacion vease los docs en [Fake Providers](https://qiskit.org/documentation/apidoc/providers_fake_provider.html)"
   ]
  },
  {
   "cell_type": "code",
   "execution_count": 2,
   "metadata": {
    "id": "2mq-sp9hq5AT",
    "scrolled": true,
    "tags": []
   },
   "outputs": [],
   "source": [
    "from qiskit.providers.fake_provider import FakeVigo\n",
    "\n",
    "# Tomamos un backend ruidoso ficticio de fake providers\n",
    "device_backend = FakeVigo()"
   ]
  },
  {
   "cell_type": "markdown",
   "metadata": {},
   "source": [
    "Para generar un simulador con ruido de un dispositivo real, utilizamos la llamada `from_backend` y creamos un simulador `ibmq_vigo`"
   ]
  },
  {
   "cell_type": "code",
   "execution_count": 3,
   "metadata": {
    "tags": []
   },
   "outputs": [],
   "source": [
    "sim_vigo = AerSimulator.from_backend(device_backend)"
   ]
  },
  {
   "cell_type": "markdown",
   "metadata": {},
   "source": [
    "De esta forma guardamos todas las propiedades del dispositivo en el simulador `sim_vigo`, y nos aseguramos de que las mismas puertas base y mapa de acoplamiento entrs los qubits se utilizarán cuando compilemos nuestros circuitos para la simulacion. De esta forma conseguimos emular la misma arquitectura que tenemos al correr el circuito en el dispositivo real.\n",
    "\n",
    "Además este simulador va a contener el mismo patron de ruido que el dispositivo real y que consiste en:\n",
    "\n",
    "* Errores de puertas de un qubit (Single-qubit gate errors), que consisten en los errores de depolarizacion de un qubit (single qubit depolarizing error) seguido de un error de relajacion termica del qubit (single qubit thermal relaxation error)\n",
    "* Errores de puertas de 2-qubits (Two-qubit gate errors), que consisten en los errores de depolarizacion de dos qubits (two-qubit depolarizing error) seguido de los errores de relajacion termica para ambos qubits (single-qubit thermal relaxation errors)\n",
    "* Errores de lectura de cada qubit (Single-qubit readout errors) para el valor de bit clásico obtenido al realizar la medida sobre un qubit individual\n",
    "\n",
    "Para los errores de puertas, el parametro de error de relajacion termica se deriva de la funcion `thermal_relaxation_error` del módulo `aer.noise.errors module`, así como de los parámetros T1 y T2 de cada qubit individual y del parámetro `gate_time` de las propiedades del backend del dispositivo.\n",
    "\n",
    "La probabilidad de error de depolarizacion (depolarizing error) se configura de forma que el promedio de la infidelidad combinada de la puerta (combined average gate infidelity) de el error de depolarizacion siga una relajación termica igual al valor del parámetro de `gate_error` del dispositivo real.\n",
    "\n",
    "Para los errores de lectura, la probabilidad de que el bit clásico que se obtiene se cambie con respecto al valor teórico viene dada por el parámetro `readout_errors`"
   ]
  },
  {
   "cell_type": "markdown",
   "metadata": {},
   "source": [
    "Una vez que hemos creado nuestro simulador ruidoso que emula un dispositivo real, vamos a hacer algunas simulaciones.\n",
    "\n",
    "__Importante__: cuando utilizamos simuladores ruidoses es critico hacer un `transpile` del circuito para el backend del dispositivo utilizado en la simulacion. de esta forma el circuito se mapea de forma correcta el el hardware real emulado."
   ]
  },
  {
   "cell_type": "markdown",
   "metadata": {
    "id": "4Doof0cCq5AT"
   },
   "source": [
    "Para generar un simulador con ruido de un dispositivo real, utilizamos la llamada `from_backend` y creamos un simulador `ibmq_vigo`\n"
   ]
  },
  {
   "cell_type": "code",
   "execution_count": 4,
   "metadata": {
    "id": "7GUsbudzq5AU",
    "tags": []
   },
   "outputs": [],
   "source": [
    "sim_vigo = AerSimulator.from_backend(device_backend)"
   ]
  },
  {
   "cell_type": "markdown",
   "metadata": {
    "id": "3XXv1vgFq5AU"
   },
   "source": [
    "De esta forma guardamos todas las propiedades del dispositivo en el simulador `sim_vigo`, y nos aseguramos de que las mismas puertas base y mapa de acoplamiento entrs los qubits se utilizarán cuando compilemos nuestros circuitos para la simulacion. De esta forma conseguimos emular la misma arquitectura que tenemos al correr el circuito en el dispositivo real.\n",
    "\n",
    "Además este simulador va a contener el mismo patron de ruido que el dispositivo real y que consiste en:\n",
    "\n",
    "* Errores de puertas de un qubit (Single-qubit gate errors), que consisten en los errores de depolarizacion de un qubit (single qubit depolarizing error) seguido de un error de relajacion termica del qubit (single qubit thermal relaxation error)\n",
    "* Errores de puertas de 2-qubits (Two-qubit gate errors), que consisten en los errores de depolarizacion de dos qubits (two-qubit depolarizing error) seguido de los errores de relajacion termica para ambos qubits (single-qubit thermal relaxation errors)\n",
    "* Errores de lectura de cada qubit (Single-qubit readout errors) para el valor de bit clásico obtenido al realizar la medida sobre un qubit individual\n",
    "\n",
    "Para los errores de puertas, el parametro de error de relajacion termica se deriva de la funcion `thermal_relaxation_error` del módulo `aer.noise.errors module`, así como de los parámetros T1 y T2 de cada qubit individual y del parámetro `gate_time` de las propiedades del backend del dispositivo.\n",
    "\n",
    "La probabilidad de error de depolarizacion (depolarizing error) se configura de forma que el promedio de la infidelidad combinada de la puerta (combined average gate infidelity) de el error de depolarizacion siga una relajación termica igual al valor del parámetro de `gate_error` del dispositivo real.\n",
    "\n",
    "Para los errores de lectura, la probabilidad de que el bit clásico que se obtiene se cambie con respecto al valor teórico viene dada por el parámetro `readout_errors`"
   ]
  },
  {
   "cell_type": "markdown",
   "metadata": {
    "id": "hMneCvVTq5AU"
   },
   "source": [
    "Una vez que hemos creado nuestro simulador ruidoso que emula un dispositivo real, vamos a hacer algunas simulaciones.\n",
    "\n",
    "Importante: cuando utilizamos simuladores ruidoses es critico hacer un `transpile` del circuito para el backend del dispositivo utilizado en la simulacion. de esta forma el circuito se mapea de forma correcta el el hardware real emulado."
   ]
  },
  {
   "cell_type": "markdown",
   "metadata": {},
   "source": [
    "#### EJERCICIO\n",
    "\n",
    "Construye un circuito que genera el estado GHZ $\\frac{1}{\\sqrt{2}} (|000> + |111>)$\n",
    "\n",
    "Nos servira para comparar la salida de un dispositivo real con la salida de un circuito que tiene este modelo de ruido simulado con Qiskit Aer AerSimulator.\n",
    "\n",
    "Antes de corrrer el circuito con ruido o en un dispositivo real veamos cual es la salida ideal sin ruido"
   ]
  },
  {
   "cell_type": "code",
   "execution_count": null,
   "metadata": {},
   "outputs": [],
   "source": []
  },
  {
   "cell_type": "markdown",
   "metadata": {},
   "source": [
    "Ejecuta el circuito que genera el estado GHZ en el simulador con ruido"
   ]
  },
  {
   "cell_type": "code",
   "execution_count": null,
   "metadata": {
    "id": "sdEtxXgIq5AU"
   },
   "outputs": [],
   "source": []
  }
 ],
 "metadata": {
  "colab": {
   "provenance": [],
   "toc_visible": true
  },
  "kernelspec": {
   "display_name": "Python 3 (ipykernel)",
   "language": "python",
   "name": "python3"
  },
  "language_info": {
   "codemirror_mode": {
    "name": "ipython",
    "version": 3
   },
   "file_extension": ".py",
   "mimetype": "text/x-python",
   "name": "python",
   "nbconvert_exporter": "python",
   "pygments_lexer": "ipython3",
   "version": "3.10.8"
  },
  "widgets": {
   "application/vnd.jupyter.widget-state+json": {
    "state": {},
    "version_major": 2,
    "version_minor": 0
   }
  }
 },
 "nbformat": 4,
 "nbformat_minor": 4
}
