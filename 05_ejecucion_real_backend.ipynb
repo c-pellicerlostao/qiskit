{
 "cells": [
  {
   "cell_type": "markdown",
   "metadata": {
    "id": "wPnRXvGftb6p"
   },
   "source": [
    "<div>\n",
    "<img src=\"https://www.nebrija.com/images/logos/logotipo-universidad-nebrija.jpg\" width=\"200\">\n",
    "</div>\n",
    "\n",
    "**ALGORITMOS** -\n",
    "Prof: Carmen Pellicer Lostao"
   ]
  },
  {
   "cell_type": "markdown",
   "metadata": {
    "id": "4-q3azZvtb6q"
   },
   "source": [
    "\n",
    "# Hardware Cuantico real\n",
    "\n",
    "---\n",
    "\n",
    "\n",
    "\n",
    "\n",
    "\n",
    "\n"
   ]
  },
  {
   "cell_type": "markdown",
   "metadata": {
    "id": "xyipFq5ftb6r"
   },
   "source": [
    "Cargamos las credenciales de nuestra cuenta e importamos las librerias iniciales"
   ]
  },
  {
   "cell_type": "code",
   "execution_count": null,
   "metadata": {
    "id": "4Vpao1nRtb6r",
    "tags": []
   },
   "outputs": [],
   "source": [
    "from qiskit import IBMQ\n",
    "#si falla el load_account() ejecutar antes un save_account()\n",
    "#IBMQ.save_account('YOUR API KEY', overwrite=True)\n",
    "provider = IBMQ.load_account()"
   ]
  },
  {
   "cell_type": "markdown",
   "metadata": {},
   "source": [
    "Un [provider](https://docs.quantum.ibm.com/api/qiskit/providers) es un objeto que proporciona servicios externos a Terra, por ejemplo proporciona backends para la ejecucion de los sercivios.\n",
    "\n",
    "Cuando cargamos nuestra cuenta podemos acceder a una serie de backends a través de la clase `Provider` de qiskit"
   ]
  },
  {
   "cell_type": "markdown",
   "metadata": {},
   "source": [
    "### EJERCICIO\n",
    "\n",
    "Itera `provider.backends()` e imprime por pantalla el resultado de sus metodos `.name()`, `.configuracion().n_qubits`"
   ]
  },
  {
   "cell_type": "code",
   "execution_count": null,
   "metadata": {
    "tags": []
   },
   "outputs": [],
   "source": []
  },
  {
   "cell_type": "markdown",
   "metadata": {},
   "source": [
    "Podemos usar la instruccion dir(obj) y vars(obj) para saber las propiedades y metodos que tiene el ultimo de los providers:\n",
    "\n",
    "- Utiliza dir() para obtener una lista de todos los atributos (incluidos los métodos) del objeto.\n",
    "- Utiliza vars() para obtener la propiedad __dict__ del objeto, que contiene variables de instancia\n",
    "\n",
    "Prueba dir() sobre el objeto y sobre obj.configuracion()\n",
    "\n",
    "Encuentra el conjunto de puertas base de cada backend"
   ]
  },
  {
   "cell_type": "code",
   "execution_count": null,
   "metadata": {
    "tags": []
   },
   "outputs": [],
   "source": []
  },
  {
   "cell_type": "markdown",
   "metadata": {
    "id": "j5I6V8OEtb6s",
    "tags": []
   },
   "source": [
    "## Ejecutando circuitos en HW cuántico: compilacion de circuitos"
   ]
  },
  {
   "cell_type": "markdown",
   "metadata": {
    "id": "7E4Xbi-vtb6s"
   },
   "source": [
    "Los backends a los que tenemos acceso son:"
   ]
  },
  {
   "cell_type": "code",
   "execution_count": null,
   "metadata": {
    "id": "g41XiqYDtb6s",
    "outputId": "c700ba8a-0f4b-4777-ccdf-e47172394fd2",
    "tags": []
   },
   "outputs": [],
   "source": [
    "[(b.name(), b.configuration().n_qubits) for b in provider.backends()]"
   ]
  },
  {
   "cell_type": "code",
   "execution_count": null,
   "metadata": {
    "id": "GXuY7pFItb6t"
   },
   "outputs": [],
   "source": [
    "# si se tiene acceso a mas de un hub:\n",
    "#provider = IBMQ.get_provider(\"ibm-q-internal\")\n",
    "#[(b.name(), b.configuration().n_qubits) for b in provider.backends()]"
   ]
  },
  {
   "cell_type": "markdown",
   "metadata": {
    "id": "2RotUXUltb6t"
   },
   "source": [
    "Los vemos todos y consultamos cual es que tiene menos trabajos en cola (least busy)"
   ]
  },
  {
   "cell_type": "markdown",
   "metadata": {},
   "source": [
    "Podemos usar la funcion `least_busy` para seleccionar el backend menos cargado en cada momento:"
   ]
  },
  {
   "cell_type": "code",
   "execution_count": null,
   "metadata": {
    "colab": {
     "referenced_widgets": [
      "30275bad048c4229b86a52ceb2fe6181"
     ]
    },
    "id": "eD5Z8Btdtb6u",
    "outputId": "9ab14b00-b263-4865-c57b-74625b41535d",
    "tags": []
   },
   "outputs": [],
   "source": [
    "from qiskit.providers.ibmq import least_busy\n",
    "\n",
    "backend = least_busy(provider.backends(\n",
    "                simulator=False,\n",
    "                filters=lambda b: b.configuration().n_qubits >= 2))\n",
    "backend"
   ]
  },
  {
   "cell_type": "markdown",
   "metadata": {},
   "source": [
    "### EJECUCION DE UN CIRCUITO"
   ]
  },
  {
   "cell_type": "markdown",
   "metadata": {
    "id": "PSlLQhVdtb6u"
   },
   "source": [
    "Creamos nuestro circuito de 2 qubits, un estado de Bell"
   ]
  },
  {
   "cell_type": "code",
   "execution_count": null,
   "metadata": {
    "id": "7s0QEUp3tb6u",
    "outputId": "840d12ec-de5d-46a3-a7bc-bb678d2c183b",
    "tags": []
   },
   "outputs": [],
   "source": [
    "from qiskit import QuantumCircuit\n",
    "circuit = QuantumCircuit(2)\n",
    "circuit.h(0)\n",
    "circuit.cx(0, 1)\n",
    "circuit.measure_all()\n",
    "circuit.draw()"
   ]
  },
  {
   "cell_type": "markdown",
   "metadata": {
    "id": "42YilVDatb6u"
   },
   "source": [
    "Lo ejecutamos siempre primero en un simulador"
   ]
  },
  {
   "cell_type": "code",
   "execution_count": null,
   "metadata": {
    "id": "xqtbD0oRtb6v",
    "outputId": "b041d1d1-6b6b-4424-fdb0-28f6bf3e0736",
    "tags": []
   },
   "outputs": [],
   "source": [
    "from qiskit import Aer\n",
    "from qiskit.visualization import plot_histogram\n",
    "sim = Aer.get_backend('aer_simulator')\n",
    "result = sim.run(circuit).result()\n",
    "counts = result.get_counts()\n",
    "plot_histogram(counts)"
   ]
  },
  {
   "cell_type": "code",
   "execution_count": null,
   "metadata": {
    "id": "UOtb6qJrtb6v"
   },
   "outputs": [],
   "source": [
    "#el metodo run sobre el backend crea un job \n",
    "job = sim.run(circuit)"
   ]
  },
  {
   "cell_type": "code",
   "execution_count": null,
   "metadata": {
    "id": "jQAFil3Wtb6v",
    "outputId": "2f3c8642-8f86-4a45-bf8e-5cca2b5df25b"
   },
   "outputs": [],
   "source": [
    "job.result()"
   ]
  },
  {
   "cell_type": "code",
   "execution_count": null,
   "metadata": {
    "id": "GJD3cqjstb6v",
    "outputId": "81491fce-3937-4e54-c48d-6539e329e50c"
   },
   "outputs": [],
   "source": [
    "circuit.draw('mpl')"
   ]
  },
  {
   "cell_type": "markdown",
   "metadata": {
    "id": "k_BmDJS4tb6v"
   },
   "source": [
    "Vamos a lanzar la ejecucion de nuestro circuito al backend que tiene menos jobs en cola."
   ]
  },
  {
   "cell_type": "code",
   "execution_count": null,
   "metadata": {},
   "outputs": [],
   "source": [
    "backend = least_busy(provider.backends(\n",
    "                simulator=False,\n",
    "                filters=lambda b: b.configuration().n_qubits >= 2))\n",
    "backend"
   ]
  },
  {
   "cell_type": "markdown",
   "metadata": {},
   "source": [
    "Necesitamos transpilar el circuito al backend real"
   ]
  },
  {
   "cell_type": "code",
   "execution_count": null,
   "metadata": {
    "id": "0IVixx75tb6v",
    "outputId": "cba0ecbd-32aa-46cb-deaf-b8000305b551",
    "tags": []
   },
   "outputs": [],
   "source": [
    "from qiskit import transpile\n",
    "\n",
    "transpiled_circuit = transpile(circuit, backend)\n",
    "transpiled_circuit.draw(idle_wires=False, fold=-1) #sin idle wires y todo en una linea"
   ]
  },
  {
   "cell_type": "markdown",
   "metadata": {},
   "source": [
    "Notese que `transpiling` puede no tomar un backend y entonces simplemente no hace ninguna operacion de compilado del circuito."
   ]
  },
  {
   "cell_type": "code",
   "execution_count": null,
   "metadata": {},
   "outputs": [],
   "source": [
    "notranspiled_circuit = transpile(circuit)\n",
    "notranspiled_circuit.draw(idle_wires=False, fold=-1) #la opcion fold controla la paginacion al dibujar el circuito, es este caso con valor -1 esta desactivada y idle_wires quita qubits no usados"
   ]
  },
  {
   "cell_type": "markdown",
   "metadata": {
    "id": "yW6Oh83ktb6w"
   },
   "source": [
    "Para el seguimiento de la ejecucion utilizamos la utilidad `job_watcher`, que nos va diciendo como estamos en la cola de forma interactiva"
   ]
  },
  {
   "cell_type": "code",
   "execution_count": null,
   "metadata": {
    "colab": {
     "referenced_widgets": [
      "07f5ad203b7748989838599fdc5adf7b"
     ]
    },
    "id": "bdDsScdRtb6t",
    "outputId": "a5bc8abd-83a8-452c-ddf7-2761d87f9ce6",
    "tags": []
   },
   "outputs": [],
   "source": [
    "from qiskit.tools.jupyter import *\n",
    "%qiskit_job_watcher  #lanzamos el widget de job_watcher para hacer seguimiento"
   ]
  },
  {
   "cell_type": "markdown",
   "metadata": {},
   "source": [
    "Ejecutamos el circuito"
   ]
  },
  {
   "cell_type": "code",
   "execution_count": null,
   "metadata": {
    "id": "AwnfuHoltb6v"
   },
   "outputs": [],
   "source": [
    "job = backend.run(transpiled_circuit)"
   ]
  },
  {
   "cell_type": "markdown",
   "metadata": {
    "id": "vhMP3Sjktb6w"
   },
   "source": [
    "Para ver el estado de ejecucion:"
   ]
  },
  {
   "cell_type": "code",
   "execution_count": null,
   "metadata": {
    "id": "Dv_0Cylntb6w",
    "outputId": "3092170b-09bf-478d-acdc-836dd42515d2"
   },
   "outputs": [],
   "source": [
    "job.status()"
   ]
  },
  {
   "cell_type": "code",
   "execution_count": null,
   "metadata": {
    "id": "CwJs3cnitb6w",
    "outputId": "ae6bd9a4-32b7-4a59-f18e-29134812945c"
   },
   "outputs": [],
   "source": [
    "result = job.result()\n",
    "counts = result.get_counts()\n",
    "plot_histogram(counts)"
   ]
  },
  {
   "cell_type": "markdown",
   "metadata": {
    "id": "FOmQFgLPtb6w"
   },
   "source": [
    "Cuando ha terminado obtenemos los resultados y podemos ver como se ha ejecutado nuestro circuito en el backend visualizando los qubits utilizados:"
   ]
  },
  {
   "cell_type": "code",
   "execution_count": null,
   "metadata": {
    "id": "6m5ucF3Utb6w",
    "outputId": "ca763525-36ab-4d92-dfde-85a13bd05649"
   },
   "outputs": [],
   "source": [
    "from qiskit.visualization import plot_circuit_layout, plot_gate_map\n",
    "display(plot_gate_map(backend))\n",
    "plot_circuit_layout(transpiled_circuit, backend)"
   ]
  },
  {
   "cell_type": "markdown",
   "metadata": {
    "id": "ugkMxgk6tb6x"
   },
   "source": [
    "Podemos ver como se ha ejecutado el circuito en los qubits del dispositivo y el mapa de puertas que se ha utilizado:"
   ]
  },
  {
   "cell_type": "code",
   "execution_count": null,
   "metadata": {
    "id": "YT5yeZnZtb6x",
    "outputId": "37a23743-943b-499a-833a-7a3d5cdce527"
   },
   "outputs": [],
   "source": [
    "from qiskit.visualization import plot_circuit_layout, plot_gate_map\n",
    "\n",
    "display(transpiled_circuit.draw(idle_wires=False))\n",
    "display(plot_gate_map(backend))\n",
    "plot_circuit_layout(transpiled_circuit, backend)"
   ]
  },
  {
   "cell_type": "markdown",
   "metadata": {},
   "source": [
    "Tambien podemos ver los resutados a partir de un Job ID que ya se haya ejecutado"
   ]
  },
  {
   "cell_type": "code",
   "execution_count": null,
   "metadata": {},
   "outputs": [],
   "source": [
    "backend = provider.get_backend('ibm_kyoto')\n",
    "job = backend.retrieve_job('cpjnktz6q5h0008bjcn0') # otro en ibm_kyoto-> cpkv0mt6q5h0008bmxtg\n",
    "\n",
    "result = job.result()\n",
    "counts = result.get_counts()\n",
    "plot_histogram(counts)"
   ]
  },
  {
   "cell_type": "markdown",
   "metadata": {
    "id": "P2vd85iJtb6x"
   },
   "source": [
    "#### EJERCICIO\n",
    "\n",
    "Creamos un circuito de 3  qubits y lo ejecutamos siguiendo los pasos siguientes:\n",
    "\n",
    "- calculamos el backend menos ocupado\n",
    "- transpilamos el circuito a ese backend, con o sin indicarle un `initial_layout`\n",
    "- dibujamos el layout de como se ha desplegado nuestro circuito en el backend\n",
    "- dibujamos el mapa de puertas del backend\n",
    "- lo ejecutamos y obtenemos los resultados"
   ]
  },
  {
   "cell_type": "code",
   "execution_count": null,
   "metadata": {},
   "outputs": [],
   "source": []
  },
  {
   "cell_type": "markdown",
   "metadata": {
    "id": "xZJhngE2tb6x"
   },
   "source": [
    "También podemos especificar el `layout` que se utiliza para desplegar nuestro circuito en el dispositivo. "
   ]
  },
  {
   "cell_type": "code",
   "execution_count": null,
   "metadata": {
    "id": "1e3F6tbUtb6x",
    "outputId": "ae30860f-e80b-4764-fad5-333979943137"
   },
   "outputs": [],
   "source": [
    "transpiled_circuit = transpile(circuit, backend, initial_layout=[1, 2, 3]) #elige como qubits 0,1,2 de nuestro circuito -> los qubits del dispositivo 1,2,3 por ejemplo\n",
    "display(transpiled_circuit.draw(idle_wires=False))  #para evitar muchos qubits no usados en la representacion\n",
    "display(plot_circuit_layout(transpiled_circuit, backend))\n",
    "plot_gate_map(backend)"
   ]
  },
  {
   "cell_type": "markdown",
   "metadata": {},
   "source": [
    "#### EJERCICIO\n",
    "\n",
    "Comprueba la complejidad del circuito transpilado anterior, si no elegimos qubits que estén conectados"
   ]
  },
  {
   "cell_type": "code",
   "execution_count": null,
   "metadata": {},
   "outputs": [],
   "source": []
  },
  {
   "cell_type": "markdown",
   "metadata": {},
   "source": [
    "#### EJERCICIO\n",
    "\n",
    "Para un circuito dado, elije el backend de ejecucion menos ocupado y transpilalo para su ejecucion.\n",
    "\n",
    "Mapea tres qubits que esten conectados y dibuja el circuito resultante que se ejecutará en el ordenador cuántico."
   ]
  },
  {
   "cell_type": "code",
   "execution_count": null,
   "metadata": {
    "id": "kJLVNAXHtb6x",
    "outputId": "8f603145-7329-41af-fcb6-d047c4ec53fa"
   },
   "outputs": [],
   "source": [
    "# Creamos este circuito\n",
    "circuit = QuantumCircuit(3)\n",
    "circuit.h([0,1,2])\n",
    "circuit.ccx(0, 1, 2)\n",
    "circuit.h([0,1,2])\n",
    "circuit.ccx(2, 0, 1)\n",
    "circuit.h([0,1,2])\n",
    "circuit.measure_all()\n",
    "circuit.draw()"
   ]
  },
  {
   "cell_type": "code",
   "execution_count": null,
   "metadata": {
    "colab": {
     "referenced_widgets": [
      "527543934e944faeb90f1bb27a8e8267"
     ]
    },
    "id": "KWKLrwQjtb6x",
    "outputId": "85fbdaaf-f738-403c-d4fc-397f913f61f9"
   },
   "outputs": [],
   "source": [
    "#Buscamos el Backend menos cargado\n"
   ]
  },
  {
   "cell_type": "code",
   "execution_count": null,
   "metadata": {
    "id": "zgGViYcetb6y",
    "outputId": "52e19291-f067-4d9b-d59d-108a56a27781"
   },
   "outputs": [],
   "source": [
    "#Transpilamos nuestro circuito para este Backend\n"
   ]
  },
  {
   "cell_type": "markdown",
   "metadata": {},
   "source": [
    "Observamos la complejidad del circuito, si no elegimos qubits que estén conectados"
   ]
  },
  {
   "cell_type": "code",
   "execution_count": null,
   "metadata": {
    "id": "34KSXHrOtb6y",
    "outputId": "05d39b35-8491-4309-e5a9-b4f681758846"
   },
   "outputs": [],
   "source": [
    "#Dibujamos como se ha desplegado el circuito en el backend y el mapa de puertas que hay disponibles para conectar los qubits\n"
   ]
  },
  {
   "cell_type": "markdown",
   "metadata": {
    "id": "8mZmNpBJtb6y",
    "tags": []
   },
   "source": [
    "## Otras opciones de Backend"
   ]
  },
  {
   "cell_type": "markdown",
   "metadata": {
    "id": "WkF9_r3ctb6y",
    "tags": []
   },
   "source": [
    "### Nivel de optimizacion\n",
    "\n",
    "Podemos dejar que qiskit optimice el layout de nuestro circuito en el hardware cuantico. Los niveles más altos son niveles de mayor nivel de optimizacion a costa de un tiempo mayor para el transpiling\n",
    "\n",
    " * 0: sin optimizacion, mas alla de un despliegue con un mapeo especifico en el backend\n",
    " * 1: optimizacion ligera, colapsando puertas adyacentes en los qubits cercanos (default)\n",
    " * 2: optimizacion media con mapeado adaptativo de qubits, teniendo en cuenta el ruido de los qubits y las puertas y posibles efectos que lo aminoren o compensen entre si.\n",
    " * 3: optimizacion alta con mapeo adatativo de ruido de los qubits y puertas, para buscar que se aminore y compense\n",
    " \n",
    "Veamos un ejemplo de utilizacion de este nivel de optimizacion:"
   ]
  },
  {
   "cell_type": "code",
   "execution_count": null,
   "metadata": {
    "id": "SpItKk3Ptb67",
    "outputId": "47e93722-93b7-4b6f-cb18-319f37b2dba1",
    "tags": []
   },
   "outputs": [],
   "source": [
    "circuit = QuantumCircuit(3)\n",
    "circuit.h(0)\n",
    "circuit.cx(0, 1)\n",
    "circuit.cx(1,2)\n",
    "circuit.cx(0,2)\n",
    "circuit.measure_all()\n",
    "circuit.draw()"
   ]
  },
  {
   "cell_type": "code",
   "execution_count": null,
   "metadata": {
    "tags": []
   },
   "outputs": [],
   "source": [
    "from qiskit import transpile\n",
    "\n",
    "transpiled_circuit = transpile(circuit, backend,optimization_level=0)\n",
    "transpiled_circuit.draw( idle_wires=False)\n",
    "print(transpiled_circuit.count_ops(),transpiled_circuit.depth())"
   ]
  },
  {
   "cell_type": "markdown",
   "metadata": {},
   "source": [
    "#### EJERCICIO\n",
    "\n",
    "Comprueba la complejidad del circuito transpilado en los cuatro niveles de optimizacion disponibles"
   ]
  },
  {
   "cell_type": "code",
   "execution_count": null,
   "metadata": {
    "id": "Q1y8b_nltb67"
   },
   "outputs": [],
   "source": []
  },
  {
   "cell_type": "markdown",
   "metadata": {
    "id": "2S_-AJxXtb67"
   },
   "source": [
    "La operacion de transpiling es un proceso estocástico, esto es, algo aleatorio y para que sea repetible podemos utilizar la opcion de fijar la semilla de inicio.\n",
    "\n",
    "Prueba diferentes valores `seed_transpiler=0` y `seed_transpiler=11`  por ejemplo"
   ]
  },
  {
   "cell_type": "code",
   "execution_count": null,
   "metadata": {
    "id": "UkeFzSdZtb68",
    "outputId": "240d42da-42ff-4689-c5d9-942b0ddf8865"
   },
   "outputs": [],
   "source": []
  },
  {
   "cell_type": "markdown",
   "metadata": {
    "id": "6yYDTbRCtb68"
   },
   "source": [
    "### Las puertas base que soporta el dispositivo\n"
   ]
  },
  {
   "cell_type": "markdown",
   "metadata": {
    "id": "y4cr1tgqtb68"
   },
   "source": [
    "Veamos las puestas de base del Backend"
   ]
  },
  {
   "cell_type": "code",
   "execution_count": null,
   "metadata": {
    "id": "gmx9AUXUtb68",
    "outputId": "7a021a5f-1277-48b5-8eca-f7f28faeb90f",
    "tags": []
   },
   "outputs": [],
   "source": [
    "backend.configuration().basis_gates"
   ]
  },
  {
   "cell_type": "markdown",
   "metadata": {
    "id": "PEubi4Uqtb68"
   },
   "source": [
    "Podemos forzar a hacer un transpiling con unas determinadas puertas de base"
   ]
  },
  {
   "cell_type": "code",
   "execution_count": null,
   "metadata": {
    "id": "ynOnPAMStb68",
    "outputId": "1a14b357-50b3-4341-c744-6132bb075a7c"
   },
   "outputs": [],
   "source": [
    "transpiled = transpile(circuit, basis_gates=['x', 'cx', 'h', 'p'])\n",
    "transpiled.draw(fold=-1)"
   ]
  },
  {
   "cell_type": "markdown",
   "metadata": {},
   "source": [
    "#### EJERCICIO\n",
    "\n",
    "Dado un circuito, prueba hacer un transpilado al backend cuantico que no contenga alguna de las puertas base del backend"
   ]
  },
  {
   "cell_type": "code",
   "execution_count": null,
   "metadata": {
    "tags": []
   },
   "outputs": [],
   "source": [
    "circuit = QuantumCircuit(3)\n",
    "circuit.h(0)\n",
    "circuit.cx(0, 1)\n",
    "circuit.cx(1,2)\n",
    "circuit.cx(0,2)\n",
    "circuit.measure_all()\n",
    "circuit.draw()"
   ]
  },
  {
   "cell_type": "code",
   "execution_count": null,
   "metadata": {
    "tags": []
   },
   "outputs": [],
   "source": []
  },
  {
   "cell_type": "markdown",
   "metadata": {
    "id": "dxlRPMc-tb68"
   },
   "source": [
    "### Controlando el despliegue del circuito en el dispositivo con `CouplingMap` e `initial_layout`"
   ]
  },
  {
   "cell_type": "markdown",
   "metadata": {},
   "source": [
    "Podemos comprobar el `coupling_map` del backend de ejecucion cuantico"
   ]
  },
  {
   "cell_type": "code",
   "execution_count": null,
   "metadata": {
    "id": "cmusv2l_tb68",
    "outputId": "2dba56c9-03d2-48dd-cad1-690667a2cda0",
    "tags": []
   },
   "outputs": [],
   "source": [
    "backend.configuration().coupling_map"
   ]
  },
  {
   "cell_type": "markdown",
   "metadata": {},
   "source": [
    "#### EJERCICIO\n",
    "\n",
    "Investiga las opciones de la funcion [`transpile`](https://docs.quantum.ibm.com/api/qiskit/0.28/qiskit.compiler.transpile#qiskitcompilertranspile)\n",
    "\n",
    "Dado un circuito, prueba diferentes opciones de transpilacion:\n",
    "\n",
    "- coupling_map -> [(0,1),(1,2)] \n",
    "- initial_layout -> [1, 0, 2], \n",
    "- basis_gates -> ['x', 'cx', 'h', 'p'], \n",
    "- optimization_level -> 3, \n",
    "- approximation_degree -> 0.99\n",
    "\n",
    "y observa la complejidad del circuito transpilado midiendo las operaciones y la profundidad resultates.\n",
    "Dibuja tambien el circuito.\n"
   ]
  },
  {
   "cell_type": "code",
   "execution_count": null,
   "metadata": {
    "tags": []
   },
   "outputs": [],
   "source": [
    "circuit = QuantumCircuit(3)\n",
    "circuit.h(0)\n",
    "circuit.cx(0, 1)\n",
    "circuit.cx(1,2)\n",
    "circuit.cx(0,2)\n",
    "circuit.measure_all()\n",
    "circuit.draw()"
   ]
  },
  {
   "cell_type": "code",
   "execution_count": null,
   "metadata": {
    "id": "anXJ9mGhtb69",
    "outputId": "3eb0488a-8b2c-45a5-fad9-26e721247055",
    "tags": []
   },
   "outputs": [],
   "source": [
    "from qiskit.transpiler import CouplingMap\n",
    "\n",
    "cm=CouplingMap([(0,1),(1,2)])\n",
    "               \n",
    "\n",
    "transpiled =\n",
    "            \n",
    "print(transpiled.count_ops(), transpiled.depth())\n",
    "display(transpiled.draw(fold=-1,idle_wires=False))"
   ]
  },
  {
   "cell_type": "markdown",
   "metadata": {
    "id": "Ek2vse4ztb6_",
    "tags": []
   },
   "source": [
    "## IonQ con Qiskit\n",
    "\n",
    "Podemos ejecutar otro sofgware, como por ejemplo el de IonQ desde Qiskit"
   ]
  },
  {
   "cell_type": "code",
   "execution_count": null,
   "metadata": {
    "id": "GZ-v-ndMtb6_"
   },
   "outputs": [],
   "source": [
    "!pip install qiskit-ionq"
   ]
  },
  {
   "cell_type": "code",
   "execution_count": null,
   "metadata": {
    "id": "AYmCRFCLtb6_"
   },
   "outputs": [],
   "source": [
    "from qiskit_ionq import IonQProvider\n",
    "provider = IonQProvider(<your token>)"
   ]
  },
  {
   "cell_type": "code",
   "execution_count": null,
   "metadata": {
    "id": "bFy3GEBUtb6_"
   },
   "outputs": [],
   "source": [
    "[(b.name(), b.configuration().n_qubits) for b in provider.backends()]"
   ]
  },
  {
   "cell_type": "code",
   "execution_count": null,
   "metadata": {
    "id": "UGarZGuBtb6_"
   },
   "outputs": [],
   "source": [
    "circuit = QuantumCircuit(2)\n",
    "circuit.h(0)\n",
    "circuit.cx(0, 1)\n",
    "circuit.measure_all()\n",
    "circuit.draw()"
   ]
  },
  {
   "cell_type": "code",
   "execution_count": null,
   "metadata": {
    "id": "fejQYW30tb6_"
   },
   "outputs": [],
   "source": [
    "backend = provider.get_backend(\"ionq_qpu\")\n",
    "job = backend.run(circuit)"
   ]
  },
  {
   "cell_type": "code",
   "execution_count": null,
   "metadata": {
    "id": "7_F0koJUtb6_"
   },
   "outputs": [],
   "source": [
    "plot_histogram()"
   ]
  },
  {
   "cell_type": "code",
   "execution_count": null,
   "metadata": {
    "id": "R6ROM2VTtb6_"
   },
   "outputs": [],
   "source": [
    "job.get_counts()"
   ]
  },
  {
   "cell_type": "code",
   "execution_count": null,
   "metadata": {
    "id": "5ZgdlEzMtb7A"
   },
   "outputs": [],
   "source": [
    "plot_histogram(job.get_counts())"
   ]
  }
 ],
 "metadata": {
  "colab": {
   "collapsed_sections": [
    "7d_uf8JI12oJ",
    "Li9fj6uVzyFR",
    "9PBnSGwum9ZJ",
    "s0UwnaaJQkqa",
    "YqAqumfLri_P",
    "yWcE6S_Qp61P",
    "yhGcFXBa4aEM",
    "ZocPglAL6zRm",
    "58JawO_lFBGY",
    "iTzbCQzm67Uw",
    "EQ8dJq6v7NW-"
   ],
   "provenance": [],
   "toc_visible": true
  },
  "kernelspec": {
   "display_name": "Python 3 (ipykernel)",
   "language": "python",
   "name": "python3"
  },
  "language_info": {
   "codemirror_mode": {
    "name": "ipython",
    "version": 3
   },
   "file_extension": ".py",
   "mimetype": "text/x-python",
   "name": "python",
   "nbconvert_exporter": "python",
   "pygments_lexer": "ipython3",
   "version": "3.10.8"
  },
  "widgets": {
   "application/vnd.jupyter.widget-state+json": {
    "state": {},
    "version_major": 2,
    "version_minor": 0
   }
  }
 },
 "nbformat": 4,
 "nbformat_minor": 4
}
