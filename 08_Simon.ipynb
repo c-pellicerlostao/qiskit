{
 "cells": [
  {
   "cell_type": "markdown",
   "id": "89785f9e-7aaf-41c9-a083-84bca2c216e0",
   "metadata": {
    "id": "89785f9e-7aaf-41c9-a083-84bca2c216e0"
   },
   "source": [
    "<div>\n",
    "<img src=\"https://www.nebrija.com/images/logos/logotipo-universidad-nebrija.jpg\" width=\"200\">\n",
    "</div>\n",
    "\n",
    "**ALGORITMOS** -\n",
    "Prof: Carmen Pellicer Lostao"
   ]
  },
  {
   "cell_type": "markdown",
   "id": "8391e1bc-96c7-4014-9a13-9333da95b766",
   "metadata": {
    "id": "8391e1bc-96c7-4014-9a13-9333da95b766"
   },
   "source": [
    "# Algoritmo de Simon"
   ]
  },
  {
   "cell_type": "code",
   "execution_count": null,
   "id": "215f9631-1d14-4c4c-b782-5eeb514a2eec",
   "metadata": {
    "id": "215f9631-1d14-4c4c-b782-5eeb514a2eec",
    "outputId": "c0f0c873-81a4-4693-e943-af5bc9ce20d9",
    "tags": []
   },
   "outputs": [],
   "source": [
    "# initialisation\n",
    "import numpy as np\n",
    "import math, cmath\n",
    "\n",
    "# Importing standard Qiskit libraries\n",
    "from qiskit.providers.aer import Aer, AerSimulator\n",
    "from qiskit import QuantumCircuit, transpile, assemble, Aer, IBMQ, execute\n",
    "from qiskit.providers.ibmq import least_busy, IBMQBackend\n",
    "from qiskit.tools.jupyter import *\n",
    "\n",
    "# basic plot tools\n",
    "from qiskit.visualization import plot_histogram\n",
    "from qiskit.visualization import plot_bloch_multivector\n",
    "from qiskit.visualization import array_to_latex\n",
    "\n",
    "# Loading your IBM Quantum account(s)\n",
    "provider = IBMQ.load_account()\n"
   ]
  },
  {
   "cell_type": "markdown",
   "id": "58491b13-4c33-49d7-9c73-a0e1bd169423",
   "metadata": {
    "id": "58491b13-4c33-49d7-9c73-a0e1bd169423"
   },
   "source": [
    "# ORACULOS\n",
    "\n",
    "En el algoritmo de Simon tenemos una funcion de Oráculo desconocida $f$, que se garantiza que será uno a uno ($1:1$) o dos a uno ($2:1$), donde __uno-a-uno__ y __dos-a-uno__, significa que la funcion tiene las siguientes propiedades:\n",
    "\n",
    "- **uno-a-uno**: asigna exactamente una salida única para cada entrada. Un ejemplo con una función que toma 4 entradas es:\n",
    "\n",
    "$$f(1) \\rightarrow 1, \\quad f(2) \\rightarrow 2, \\quad f(3) \\rightarrow 3, \\quad f(4) \\rightarrow 4$$\n",
    "\n",
    "- **dos-a-uno**: asigna exactamente dos entradas a cada salida única. Un ejemplo con una función que toma 4 entradas es:\n",
    "\n",
    "$$f(1) \\rightarrow 1, \\quad f(2) \\rightarrow 2, \\quad f(3) \\rightarrow 1, \\quad f(4) \\rightarrow 2$$\n",
    "\n",
    "Y donde el mapeo dos-a-uno se realiza según una cadena de bits oculta, $s$, donde:\n",
    "\n",
    "$$\n",
    "\\textrm{dado }x_1,x_2: \\quad f(x_1) = f(x_2) \\\\\n",
    "\\textrm{está garantizado }: \\quad x_1 \\oplus x_2 = s\n",
    "$$\n",
    "\n",
    "Y resulta que ambos casos se reducen al mismo problema de encontrar $s$, donde una cadena de bits de $s={000...}$ representa el $f$ uno a uno.\n",
    "\n",
    "Podemos crear una __funcion de oráculo__ para n qubits que codifique una funcion binaria de este tipo."
   ]
  },
  {
   "cell_type": "markdown",
   "id": "30081aed-1214-49e0-86fe-0525aa9f70a1",
   "metadata": {},
   "source": [
    "#### EJERCICIO\n",
    "\n",
    "Escribe una funcion que tome dos cadenas de bits $x1$ y $x2$ devuelva la cadena $s$ que cumple $x_1 \\oplus x_2 = s$\n"
   ]
  },
  {
   "cell_type": "code",
   "execution_count": null,
   "id": "b0c80134-2ec7-4975-9a54-f7b768c89efd",
   "metadata": {},
   "outputs": [],
   "source": [
    "def xor_bitstrings(bitstring1, bitstring2):\n",
    "    ''' input are two strings of length n bits\n",
    "        output one string of n bits with bitstring1 XOR bitstring2 operation\n",
    "    '''\n"
   ]
  },
  {
   "cell_type": "code",
   "execution_count": null,
   "id": "8e3ea2e4-fa9d-4ba6-9425-5444d51bb780",
   "metadata": {
    "tags": []
   },
   "outputs": [],
   "source": [
    "# Example usage:\n",
    "bitstring1 = \"00\"\n",
    "bitstring2 = \"01\"\n",
    "result = xor_bitstrings(bitstring1, bitstring2)\n",
    "\n",
    "print(f\"The XOR of {bitstring1} and {bitstring2} is: {result}\")"
   ]
  },
  {
   "cell_type": "markdown",
   "id": "fa8afaf0-1a4c-4a3f-b441-959e0c3ab746",
   "metadata": {
    "id": "fa8afaf0-1a4c-4a3f-b441-959e0c3ab746"
   },
   "source": [
    "## Oráculo para una cadena binaria dada"
   ]
  },
  {
   "cell_type": "markdown",
   "id": "f050107e-ca59-4761-9cb1-3311350e7819",
   "metadata": {},
   "source": [
    "### EJERCICIO\n",
    "\n",
    "Dada la siguiente funcion binaria (2:1) de n= 2 bits:\n",
    "\n",
    "```\n",
    "x_1 x_0   f(x_1 x_0)$\n",
    "0   0       0   0\n",
    "0   1       1   1\n",
    "1   0       1   1\n",
    "1   1       0   0\n",
    "```\n",
    "\n",
    "Calcula mediante un programa la cadena $b$ que cumple que:\n",
    "\n",
    "$$\n",
    "\\textrm{dado }x_1,x_2: \\quad f(x_1) = f(x_2) \\\\\n",
    "\\textrm{está garantizado }: \\quad x_1 \\oplus x_2 = s\n",
    "$$"
   ]
  },
  {
   "cell_type": "code",
   "execution_count": null,
   "id": "1eaadc50-6984-4e00-b549-9da5bcbfcc64",
   "metadata": {},
   "outputs": [],
   "source": [
    "# utiliza la funcion xor anterior y computa la cadena b a partir de los valores de x1 y x2 que cumplen f(x1=f(x2)\n"
   ]
  },
  {
   "cell_type": "markdown",
   "id": "C7G4pTXlABw-",
   "metadata": {
    "id": "C7G4pTXlABw-"
   },
   "source": [
    "Utiliza el Composer para construir un circuito sea un Oráculo de Simon con esta cadena $s$\n",
    "\n",
    "Ponemos los n qubits del input en superposicion y la ejecutamos para ver que es la funcion que realiza la operacion que hemos definido. Estamos ejecutando todos los valores de input posibles a la vez. "
   ]
  },
  {
   "cell_type": "code",
   "execution_count": null,
   "id": "00714734-f8ac-46ba-b857-67dc2701190e",
   "metadata": {
    "tags": []
   },
   "outputs": [],
   "source": []
  },
  {
   "cell_type": "markdown",
   "id": "e8f7e46a-7bfd-4b3e-b50d-43614ec20843",
   "metadata": {},
   "source": [
    "#### EJERCICIO\n",
    "\n",
    "Dada una cadena de n=2 bits, construye un circuito con n qubits de entrada y n qubits de salida, que compute el resultado de la funcion (2:1) del oráculo de Simon siguiente:\n",
    "\n",
    "```\n",
    "x_1 x_0   f(x_1 x_0)$\n",
    "0   0       0   0\n",
    "0   1       0   1\n",
    "1   0       0   0\n",
    "1   1       0   1\n",
    "```\n",
    "\n",
    "Calcula mediante un programa la cadena $s$ que cumple que:\n",
    "\n",
    "$$\n",
    "\\textrm{dado }x_1,x_2: \\quad f(x_1) = f(x_2) \\\\\n",
    "\\textrm{está garantizado }: \\quad x_1 \\oplus x_2 = s\n",
    "$$"
   ]
  },
  {
   "cell_type": "code",
   "execution_count": 1,
   "id": "e7db340b-9988-4020-81f6-c682186376da",
   "metadata": {
    "tags": []
   },
   "outputs": [],
   "source": [
    "# utiliza la funcion xor anterior y computa la cadena b a partir de los valores de x1 y x2 que cumplen f(x1=f(x2)\n"
   ]
  },
  {
   "cell_type": "markdown",
   "id": "sXTGecKVKYez",
   "metadata": {
    "id": "sXTGecKVKYez"
   },
   "source": [
    "Utiliza el Composer para construir un circuito sea un Oráculo de Simon con esta cadena $s$\n",
    "\n",
    "Ponemos los n qubits del input en superposicion y la ejecutamos para ver que es la funcion que realiza la operacion que hemos definado. Estamos ejecutando todas los valores de input posibles a la vez. "
   ]
  },
  {
   "cell_type": "code",
   "execution_count": null,
   "id": "a61e218d-deb7-4d77-9e6a-8b9692ce5b9a",
   "metadata": {
    "id": "a61e218d-deb7-4d77-9e6a-8b9692ce5b9a",
    "outputId": "f6d05e64-65ba-488d-8524-7cb98f8b167a",
    "tags": []
   },
   "outputs": [],
   "source": []
  },
  {
   "cell_type": "markdown",
   "id": "c4f98265-ceda-4acb-88dc-3f757db19dc8",
   "metadata": {
    "id": "c4f98265-ceda-4acb-88dc-3f757db19dc8"
   },
   "source": [
    "## Creacion de un oraculo aleatorio\n",
    "\n",
    "Creamos una funcion de oráculo para un numero de bits n que genera una cadena binaria aleatoria y devuelve un circuito que computa una funcion (2:1) que es un Oraculo de Simon caracterizado por esta cadena"
   ]
  },
  {
   "cell_type": "code",
   "execution_count": null,
   "id": "c01f7b12-3611-44fb-b45e-127779842522",
   "metadata": {
    "id": "c01f7b12-3611-44fb-b45e-127779842522",
    "tags": []
   },
   "outputs": [],
   "source": [
    "### HACEMOS LA FUNCOIN DEL ORACULO\n",
    "\n",
    "def simon_oracle(n):\n",
    "    #La funcion crea un objeto de QuantumCircuit y lo devuelve\n",
    "    #El circuito del oraculo tiene n qubit de entrada y uno de salida -> en total n+1 qubits\n",
    "\n",
    "    oracle_qc = QuantumCircuit(2*n,n)\n",
    "    #generation of string s and printing it for further comprobations\n",
    "    s= ''.join([str(np.random.randint(2)) for b in range(n)])\n",
    "    print('s',s[::-1]) # la cadena caracteristica es esta, puesto que se codifica en el circuito tiene orden invertido de qubits\n",
    "    \n",
    "    #draw a barrier before oracle\n",
    "    oracle_qc.barrier()\n",
    "\n",
    "    # copy the content of the first register to the second register\n",
    "    for i in range(n):\n",
    "        oracle_qc.cx(i, n+i)\n",
    "\n",
    "    # get the least index j such that s_j is \"1\"\n",
    "    j = -1\n",
    "    for i, c in enumerate(s):\n",
    "        if c == \"1\":\n",
    "            j = i\n",
    "            break\n",
    "\n",
    "    # Creating 1-to-1 or 2-to-1 mapping with the j-th qubit of x as control to XOR the second register with s\n",
    "    for i, c in enumerate(s):\n",
    "        if c == \"1\" and j >= 0:\n",
    "            oracle_qc.cx(j, n+i) #the i-th qubit is flipped if s_i is 1\n",
    "\n",
    "    # get random permutation of n qubits\n",
    "    perm = list(np.random.permutation(n))\n",
    "\n",
    "    #initial position\n",
    "    init = list(range(n))\n",
    "    i = 0\n",
    "    while i < n:\n",
    "        if init[i] != perm[i]:\n",
    "            k = perm.index(init[i])\n",
    "            oracle_qc.swap(n+i, n+k) #swap qubits\n",
    "            init[i], init[k] = init[k], init[i] #marked swapped qubits\n",
    "        else:\n",
    "            i += 1\n",
    "\n",
    "    # randomly flip the qubit\n",
    "    for i in range(n):\n",
    "        if np.random.random() > 0.5:\n",
    "            oracle_qc.x(n+i)\n",
    "\n",
    "    # Apply the barrier to mark the end of the blackbox function\n",
    "    oracle_qc.barrier()\n",
    "\n",
    "\n",
    "    oracle_qc.name = 'Simon-Oracle' #to show in the display circuit\n",
    "    return oracle_qc"
   ]
  },
  {
   "cell_type": "markdown",
   "id": "55363dda-bd78-4d98-a64a-7b2d65712b71",
   "metadata": {
    "id": "55363dda-bd78-4d98-a64a-7b2d65712b71"
   },
   "source": [
    "#### EJERCICIO\n",
    "\n",
    "Lo ejecutamos en superposicion para ver la salida de la funcion del oráculo"
   ]
  },
  {
   "cell_type": "code",
   "execution_count": null,
   "id": "45fde93f-569a-4a2b-8203-59382b42a031",
   "metadata": {
    "colab": {
     "base_uri": "https://localhost:8080/",
     "height": 245
    },
    "id": "45fde93f-569a-4a2b-8203-59382b42a031",
    "outputId": "011b08f2-a0c9-4287-ca2a-eff2661202fa",
    "tags": []
   },
   "outputs": [],
   "source": []
  },
  {
   "cell_type": "markdown",
   "id": "0a2060e9-0e30-460f-bc35-ed972b84748f",
   "metadata": {},
   "source": [
    "Comprobamos que las cadenas que cumplen $ x_1 \\oplus x_2 = s$ son las que tienen el mismo resultado de la funcion del Oráculo"
   ]
  },
  {
   "cell_type": "code",
   "execution_count": null,
   "id": "f827fbb7-63d0-4acc-ad5c-ed7bd1deee8b",
   "metadata": {
    "tags": []
   },
   "outputs": [],
   "source": []
  },
  {
   "cell_type": "markdown",
   "id": "03db4e26-50d4-4d68-b524-2e5c4d62c78e",
   "metadata": {
    "id": "03db4e26-50d4-4d68-b524-2e5c4d62c78e"
   },
   "source": [
    "# Ejecucion del Algoritmo de Simon"
   ]
  },
  {
   "cell_type": "markdown",
   "id": "c4c98e9f-3eef-498f-ad8e-e6324bfff63b",
   "metadata": {},
   "source": [
    "#### EJERCICIO\n",
    "\n",
    "Construye un circuito que ejecute el algoritmo de Simon para un Oraculo aleatorio.\n",
    "\n",
    "Ejecutalo y obten los resultados de las medidas para determinar la cadena s del Oraculo en un proceso posterior de postprocesado."
   ]
  },
  {
   "cell_type": "code",
   "execution_count": null,
   "id": "aa5ff97a-a95f-4545-8c1a-adab811ea3f7",
   "metadata": {},
   "outputs": [],
   "source": [
    "#Creamos un circuito de n qubits+1\n",
    "n=\n",
    "\n",
    "#ponemos los qubits de entrada en superposicion\n",
    "\n",
    "\n",
    "# Le añadimos el oráculo con funcion aleatoria\n",
    "\n",
    "\n",
    "#le añadimos las puertas de Hadamard finales\n",
    "\n",
    "\n",
    "#ponemos las puertas de medida\n",
    "\n",
    "    \n",
    "    \n",
    "#Mostramos el circuito\n",
    "\n",
    "\n",
    "#Ejecutamos el circuito\n",
    "\n",
    "\n",
    "#mostramos histograma resultado\n"
   ]
  },
  {
   "cell_type": "markdown",
   "id": "ca20cd87-2801-4259-bcf5-4cd7a004604e",
   "metadata": {},
   "source": [
    "#### EJERCICIO\n",
    "\n",
    "Realizaremos la etapa de postporcesado del algoritmo para descubrir la cadena s del Oráculo y lo haremos inicialmente con una aproximacion de fuerza bruta.\n",
    "\n",
    "Construye las siguientes funciones binarias:\n",
    "\n",
    "- __dot_product_modulo_2__: que tome dos bitstrings y calcule el producto escalar binario (modulo 2) de ambas\n",
    "\n",
    "- __generate_all_bitstrings__: que tome un numero de bits y genere todos los bitstreams posibles para ese numero de bits dado\n",
    "\n",
    "\n",
    "Y utilizalas para recorrer todas las posibles cadenas s y encontrar aquellas que cumplen $ s.x mod 2 = 0 $ para todas las cadenas $x$ medidas en la salida del circuito del algoritmo de Simon anterior\n"
   ]
  },
  {
   "cell_type": "code",
   "execution_count": null,
   "id": "65ee0066-eb6e-4afd-9675-cd2ee8ec353d",
   "metadata": {
    "tags": []
   },
   "outputs": [],
   "source": [
    "def dot_product_modulo_2(bitstring1, bitstring2):\n",
    "\n",
    "\n"
   ]
  },
  {
   "cell_type": "code",
   "execution_count": null,
   "id": "abc9d7ec-0155-4f26-b705-f7986eb59309",
   "metadata": {},
   "outputs": [],
   "source": [
    "# Example usage:\n",
    "bitstring1 = \"1101\"\n",
    "bitstring2 = \"1010\"\n",
    "result = dot_product_modulo_2(bitstring1, bitstring2)\n",
    "\n",
    "print(f\"The dot product modulo 2 of {bitstring1} and {bitstring2} is: {result}\")"
   ]
  },
  {
   "cell_type": "code",
   "execution_count": null,
   "id": "cf02b82f-2b85-4334-ae31-7a6367d5428b",
   "metadata": {
    "tags": []
   },
   "outputs": [],
   "source": [
    "def generate_all_bitstrings(length):\n",
    "\n"
   ]
  },
  {
   "cell_type": "code",
   "execution_count": null,
   "id": "ea89c0eb-518e-4cd8-8b5f-6a4c54cc94c0",
   "metadata": {},
   "outputs": [],
   "source": [
    "# Example usage:\n",
    "# Set the length of the bitstrings\n",
    "bitstring_length = 3\n",
    "\n",
    "# Generate all possible bitstrings of 3 bits\n",
    "all_bitstrings = generate_all_bitstrings(bitstring_length)\n",
    "\n",
    "# Print the result\n",
    "print(\"All possible bitstrings of length\", bitstring_length, \":\")\n",
    "for bitstring in all_bitstrings:\n",
    "    print(bitstring)"
   ]
  },
  {
   "cell_type": "code",
   "execution_count": null,
   "id": "84e6dea4-5745-4860-8da0-e005a35f4377",
   "metadata": {
    "tags": []
   },
   "outputs": [],
   "source": [
    "#calcula todos los valores bitstrings obtenidos con el circuito del algoritmo de Simon son\n",
    "valores_resultado_simon="
   ]
  },
  {
   "cell_type": "code",
   "execution_count": null,
   "id": "2933f3ac-7f6e-4bc6-92f7-da2b086cbec1",
   "metadata": {
    "tags": []
   },
   "outputs": [],
   "source": [
    "#Tenemos la cadena del Oráculo, que copiamos aqui para cerciorarnos de que encontramos la misma cadena\n",
    "s='010101'\n",
    "print('s',s)\n",
    "\n",
    "#algoritmo de fuerza bruta que encuentra la cadena s\n",
    "\n"
   ]
  },
  {
   "cell_type": "markdown",
   "id": "df6a3b9e-f46c-4003-b92c-94aa36ef65a4",
   "metadata": {},
   "source": [
    "A continuación se recoge un metodo algebraico para encontrar la cadena s que podemos utilizar tambien en lugar del metodo de fuerza bruta anterior"
   ]
  },
  {
   "cell_type": "code",
   "execution_count": null,
   "id": "4237d96a-1b43-4fe4-9184-d8ba0f1ca6e2",
   "metadata": {
    "tags": []
   },
   "outputs": [],
   "source": [
    "# Post-processing step\n",
    "# Constructing the system of linear equations Y s = 0\n",
    "# By k[::-1], we reverse the order of the bitstring\n",
    "lAnswer = [ (k[::-1],v) for k,v in counts.items() if k != \"0\"*n  ] #excluding the trivial all-zero\n",
    "#Sort the basis by their probabilities\n",
    "lAnswer.sort(key = lambda x: x[1], reverse=True)\n",
    "\n",
    "Y = []\n",
    "for k, v in lAnswer:\n",
    "    Y.append( [ int(c) for c in k ] )\n",
    "\n",
    "\n",
    "#import tools from sympy\n",
    "from sympy import Matrix, pprint, MatrixSymbol, expand, mod_inverse\n",
    "\n",
    "\n",
    "Y = Matrix(Y)\n",
    "\n",
    "#pprint(Y)\n",
    "\n",
    "#Perform Gaussian elimination on Y\n",
    "Y_transformed = Y.rref(iszerofunc=lambda x: x % 2==0) # linear algebra on GF(2) \n",
    "\n",
    "#to convert rational and negatives in rref of linear algebra on GF(2)\n",
    "def mod(x,modulus):\n",
    "    numer, denom = x.as_numer_denom()\n",
    "    return numer*mod_inverse(denom,modulus) % modulus\n",
    "\n",
    "Y_new = Y_transformed[0].applyfunc(lambda x: mod(x,2)) #must takecare of negatives and fractional values\n",
    "#pprint(Y_new)\n",
    "\n",
    "print(\"The hidden bistring s[ 0 ], s[ 1 ]....s[\",n-1,\"] is the one satisfying the following system of linear equations:\")\n",
    "rows, cols = Y_new.shape\n",
    "for r in range(rows):\n",
    "    Yr = [ \"s[ \"+str(i)+\" ]\" for i, v in enumerate(list(Y_new[r,:])) if v == 1 ]\n",
    "    if len(Yr) > 0:\n",
    "        tStr = \" + \".join(Yr)\n",
    "        print(tStr, \"= 0\")"
   ]
  },
  {
   "cell_type": "markdown",
   "id": "566b9bb6-83be-4cca-8a67-aea84ce493e1",
   "metadata": {
    "id": "566b9bb6-83be-4cca-8a67-aea84ce493e1",
    "tags": []
   },
   "source": [
    "# Ejecucion en un Simulador con ruido"
   ]
  },
  {
   "cell_type": "markdown",
   "id": "33f7d700-e557-4a80-b230-033804f2f2f8",
   "metadata": {},
   "source": [
    "### EJERCICIO\n",
    "\n",
    "Ejecuta en un simulador con ruido el circuito con el algoritmo de Simon para ello:\n",
    "\n",
    "- Creamos el circuito cuántico, que llamamos <b>simon_circuit </b>\n",
    "- Preparamos un simulador con el ruido de un dispositivo real, el `ibmq_vigo`.\n",
    "- Transpilamos el circuito y lo ejecutamos en el simulador\n",
    "- Realizamos el postprocesado de los resultados obtenidos para encontrar la cadena s\n",
    "\n",
    "Debido al ruido de los calculos no es sencillo ontener un calculo concluyente de la cadena s"
   ]
  },
  {
   "cell_type": "code",
   "execution_count": null,
   "id": "7cda9a0e-413c-4f86-90a7-c89f5543681d",
   "metadata": {
    "id": "7cda9a0e-413c-4f86-90a7-c89f5543681d",
    "outputId": "72527290-2ec9-4fa6-c97b-1d364c63bcbb"
   },
   "outputs": [],
   "source": [
    "#Creamos un circuito de n qubits+1\n",
    "n=3\n",
    "circuit =\n",
    "\n",
    "#PASO 1 - ponemos los qubits de entrada en superposicion\n",
    "\n",
    "\n",
    "# PASO 2- Le añadimos el oráculo con funcion aleatoria\n",
    "\n",
    "\n",
    "#PASO 3 - Le añadimos las puertas Hadamard\n",
    "\n",
    "\n",
    "\n",
    "#PASO 4- ponemos las puertas de medida solo para los qubits de la entrada\n",
    "\n",
    "\n",
    "\n",
    "#Mostramos el circuito"
   ]
  },
  {
   "cell_type": "markdown",
   "id": "acc0e40a-ae3f-4d59-a1f9-d0e93d87c6ff",
   "metadata": {
    "id": "acc0e40a-ae3f-4d59-a1f9-d0e93d87c6ff"
   },
   "source": [
    "Preparamos un simulador con el ruido de un dispositivo real, el `ibmq_vigo`."
   ]
  },
  {
   "cell_type": "code",
   "execution_count": null,
   "id": "aa42e7f1-df3b-4ea1-8b3e-fc3290bdc3a4",
   "metadata": {
    "id": "aa42e7f1-df3b-4ea1-8b3e-fc3290bdc3a4"
   },
   "outputs": [],
   "source": [
    "from qiskit.providers.fake_provider import FakeVigo\n",
    "\n",
    "\n",
    "# Tomamos un backend ruidoso ficticio de fake providers\n",
    "\n",
    "\n",
    "# creamos el simulador\n",
    "\n",
    "\n",
    "# Transpilamos el circuito para mapearlo a las puertas ruidosass\n",
    "\n",
    "\n",
    "# Ejecutamos el circuito y obtenemos el resultado"
   ]
  },
  {
   "cell_type": "markdown",
   "id": "1bbd1f65-e24c-4530-bd00-86e67478b1cf",
   "metadata": {},
   "source": [
    "Y cuando termine la ejecucion, realizamos el postprocesado y obtencion de la cadena $s$ resultado"
   ]
  },
  {
   "cell_type": "code",
   "execution_count": null,
   "id": "84fb9d5b-f583-4e36-bfef-3ccd6fa6f223",
   "metadata": {},
   "outputs": [],
   "source": []
  },
  {
   "cell_type": "markdown",
   "id": "a4e4a05a-33a8-4948-9321-08e2975b71c2",
   "metadata": {
    "id": "a4e4a05a-33a8-4948-9321-08e2975b71c2"
   },
   "source": [
    "# Ejecucion en un BackEnd cuántico real"
   ]
  },
  {
   "cell_type": "markdown",
   "id": "0766d7b8-27d8-466c-bda7-e0d200d2d055",
   "metadata": {
    "tags": []
   },
   "source": [
    "### EJERCICIO\n",
    "\n",
    "Ejecuta en un backend real cuantico el circuito con el algoritmo de Simon, para ello:\n",
    "\n",
    "- Creamos el circuito cuántico, que llamamos <b>simon_circuit </b>\n",
    "- Lo ejecutamos primero en el simulador para ver si funciona bien antes de enviarlo a un BackEnd cuántico real\n",
    "- Buscamos el backend que este menos cargado de trabajos\n",
    "- Transpilamos el circuito y lo enviamos para ejecucion\n",
    "- Realizamos el postprocesado de los resultados obtenidos para encontrar la cadena s\n",
    "\n",
    "Debido a la imperfeccion de los ordenadores reales y el ruido de los calculos no es sencillo ontener un calculo concluyente de la cadena s"
   ]
  },
  {
   "cell_type": "code",
   "execution_count": null,
   "id": "83ff2285-c052-4719-8663-878d8e45493e",
   "metadata": {
    "id": "83ff2285-c052-4719-8663-878d8e45493e",
    "outputId": "932ffd1c-3e95-4b63-d195-e94e29b88541"
   },
   "outputs": [],
   "source": [
    "#Construimos el circuito\n",
    "\n",
    "#ejecutamos en simulador para comprobar que esta ok"
   ]
  },
  {
   "cell_type": "code",
   "execution_count": null,
   "id": "6a669154-4759-4a85-ad59-e9002838ce6b",
   "metadata": {},
   "outputs": [],
   "source": [
    "# buscamos el backend menos ocupado - using a real qc backend: lest busy"
   ]
  },
  {
   "cell_type": "code",
   "execution_count": null,
   "id": "5edfb651-947e-44ac-b67e-8964f54a3382",
   "metadata": {},
   "outputs": [],
   "source": [
    "#lanzamos la ejecucion del job"
   ]
  },
  {
   "cell_type": "markdown",
   "id": "f9a6bde8-887d-4279-b9d8-6101c22fbc39",
   "metadata": {
    "id": "f9a6bde8-887d-4279-b9d8-6101c22fbc39"
   },
   "source": [
    "Y cuando termine la ejecucion, realizamos el postprocesado y obtencion de la cadena $s$ resultado"
   ]
  },
  {
   "cell_type": "code",
   "execution_count": null,
   "id": "6efebaea-51de-41d9-a29b-27dcac13c3fb",
   "metadata": {},
   "outputs": [],
   "source": []
  }
 ],
 "metadata": {
  "colab": {
   "provenance": [],
   "toc_visible": true
  },
  "kernelspec": {
   "display_name": "Python 3 (ipykernel)",
   "language": "python",
   "name": "python3"
  },
  "language_info": {
   "codemirror_mode": {
    "name": "ipython",
    "version": 3
   },
   "file_extension": ".py",
   "mimetype": "text/x-python",
   "name": "python",
   "nbconvert_exporter": "python",
   "pygments_lexer": "ipython3",
   "version": "3.10.8"
  },
  "widgets": {
   "application/vnd.jupyter.widget-state+json": {
    "state": {},
    "version_major": 2,
    "version_minor": 0
   }
  }
 },
 "nbformat": 4,
 "nbformat_minor": 5
}
