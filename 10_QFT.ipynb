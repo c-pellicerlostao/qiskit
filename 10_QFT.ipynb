{
 "cells": [
  {
   "cell_type": "markdown",
   "id": "565140b2-fd5b-49bd-85a0-678cd1f5a1b6",
   "metadata": {},
   "source": [
    "<div>\n",
    "<img src=\"https://www.nebrija.com/images/logos/logotipo-universidad-nebrija.jpg\" width=\"200\">\n",
    "</div>\n",
    "\n",
    "**ALGORITMOS** -\n",
    "Prof: Carmen Pellicer Lostao"
   ]
  },
  {
   "cell_type": "markdown",
   "id": "4df21f3b-7b20-4a23-bdba-1d4137f2d946",
   "metadata": {},
   "source": [
    "# Transformada de Fourier"
   ]
  },
  {
   "cell_type": "markdown",
   "id": "89a5d079-0cb7-49bb-bf0c-e3f2b6bafe2d",
   "metadata": {},
   "source": [
    "En este notebook realizaremos diferentes practicas para entender el algoritmo de la Transformada de Fourier. Comenzando por su realizacion y significado clásico implementando el algoritmo de la **FFT** o **Fast Fourier Transform** para encontrar el espectro de señales discretas de valores reales y pasando posteriormente a implementar la **QFT** o **Quantum Fourier Transform** y su inversa para realizar conversiones entre señales de valores complejos y su descomposicion de Fourier.\n",
    "\n",
    "Cargamos inicialmente las librerías de ejecucion que vamos a necesitar"
   ]
  },
  {
   "cell_type": "code",
   "execution_count": null,
   "id": "a5d29410-9051-4f4f-bbac-bb494815d4e0",
   "metadata": {},
   "outputs": [],
   "source": [
    "import numpy as np\n",
    "import math\n",
    "\n",
    "# Import Qiskit\n",
    "from qiskit import QuantumCircuit, QuantumRegister\n",
    "from qiskit import Aer, transpile\n",
    "from qiskit.providers.aer import Aer, AerSimulator\n",
    "from qiskit.providers.fake_provider import FakeVigo\n",
    "\n",
    "from qiskit.visualization import array_to_latex\n",
    "from qiskit.tools.visualization import plot_histogram, plot_state_city\n",
    "import qiskit.quantum_info as qi"
   ]
  },
  {
   "cell_type": "markdown",
   "id": "518473a4-ced8-4ba1-b773-1d23bc01c5a8",
   "metadata": {},
   "source": [
    "## Algoritmo de la Transformada de Fourier discreta (FFT)"
   ]
  },
  {
   "cell_type": "markdown",
   "id": "52d01b84-dda1-4f72-8585-f509b7c1669e",
   "metadata": {},
   "source": [
    "La transformada de Fourier es una transformacion matemática que permite obtener el espectro de frecuencias de una señal o dicho de otra forma su periodicidad.\n",
    "\n",
    "Su calculo es utilizado ampliamente en ciencia y en ingenieria para analisis de datos y señales. Para su calculo se utiliza el algoritmo **FFT** o **Fast Fourier Transform** que es un algoritmo numerico que permite calcular de forma muy eficiente el espectro de frecuencias de una señal muestreada. \n",
    "\n",
    "El algoritmo de implementacion de la **FFT** puede utilizarse directamente de las librerías de `numpy` con la operacion [Discrete Fourier Transform](https://numpy.org/doc/stable/reference/routines.fft.html)"
   ]
  },
  {
   "cell_type": "markdown",
   "id": "9458d3dd-e12b-4849-9a08-4cfdba95965a",
   "metadata": {},
   "source": [
    "#### EJERCICIO"
   ]
  },
  {
   "cell_type": "markdown",
   "id": "88df5c3d-e3e3-4618-ae92-edea5e5468c7",
   "metadata": {},
   "source": [
    "Descarga el fichero de [datos](https://drive.google.com/file/d/1GDKsBk3yUBcPhhKOO53TtjEGd_6YdLPx/view) que recoge el muestreo de una [señal sonora](https://drive.google.com/file/d/1mbsQQKtk7xsh0UWywvC7JlHsuMObS9WR/view) y guardalo en el directorio de trabajo.\n",
    "\n",
    "Crea un programa Python que realice los siguientes pasos:\n",
    "\n",
    "1) lee el archivo csv desde una URL \"waveform.csv\" que tiene el siguiente formato: número1, número2. Donde número1 son datos de tiempo y número2 son datos de señal\n",
    "\n",
    "2) calcula la FFT Transformada Rápida de Fourier de los datos en el archivo\n",
    "\n",
    "3) visualiza los datos obtenidos de la FFT con el analisis espectral de la señal\n",
    "\n",
    "4) calcula la frecuencia con el máximo en la FFT"
   ]
  },
  {
   "cell_type": "code",
   "execution_count": null,
   "id": "48127c7b-ddb3-4ab2-94a0-6951b8051a84",
   "metadata": {},
   "outputs": [],
   "source": []
  },
  {
   "cell_type": "markdown",
   "id": "09dee9da-1a04-46b9-8439-ee4e1abf2c97",
   "metadata": {},
   "source": [
    "## Algoritmo de la Transformada de Fourier Cuantica (QFT)"
   ]
  },
  {
   "cell_type": "markdown",
   "id": "513ac099-e7b9-459f-8b74-3ef2b254dcc5",
   "metadata": {},
   "source": [
    "## Introduccion\n",
    "\n",
    "La QFT es la implementacion cuantica de la transformada discreta de Fourier (DFT) en computacion clásica, donde se usa principalmente en la teoria de señales para encontrar el espectro o la descomposicion en frecuencias de una señal.\n",
    "\n",
    "En computacion clásica la DFT se define como una transformacion que actua sobre un vector $(a_0, ..., a_{N-1})$ y lo transforma en otro vector $(\\phi_0, ..., \\phi_{N-1})$ por medio de los siguientes calculos:\n",
    "\n",
    "\n",
    "$$\\phi_k = \\frac{1}{\\sqrt{N}}\\sum_{j=0}^{N-1}a_j\\omega_N^{jk}$$\n",
    "\n",
    "\n",
    "donde $\\omega_N^{jk} = e^{2\\pi i \\frac{jk}{N}}$.\n",
    "\n",
    "Notese que los valores de $(a_0, ..., a_{N-1})$ son tipicamente una sucesion de valores reales y la DFT obtiene unos valores transformados $(\\phi_0, ..., \\phi_{N-1})$ que son números complejos.\n"
   ]
  },
  {
   "cell_type": "markdown",
   "id": "c2b51ebe-acce-493c-be47-65f15a45c552",
   "metadata": {},
   "source": [
    "En computacion cuántica la QFT se define como una transformacion de un estado cuántico $\\vert \\psi \\rangle = \\sum_{j=0}^{N-1} a_j \\vert j \\rangle$ que se transforma en otro estado cuántico $\\vert \\phi\\rangle = \\sum_{k=0}^{N-1} \\phi_k \\vert k \\rangle$ por medio de los siguientes calculos:\n",
    "\n",
    "\n",
    "$$\\phi_k = \\frac{1}{\\sqrt{N}}\\sum_{j=0}^{N-1}a_j\\omega_N^{jk}$$\n",
    "\n",
    "\n",
    "con $\\omega_N^{jk}$ definida como anteriormente. \n",
    "\n",
    "\n",
    "Y esto podemos expresarlo como sigue para un estado de la base:\n",
    "\n",
    "$$\\vert j \\rangle \\mapsto \\frac{1}{\\sqrt{N}}\\sum_{k=0}^{N-1}\\omega_N^{jk} \\vert k \\rangle$$\n",
    "\n",
    "\n",
    "Notese que se trata de una transformacion que afecta solo a las amplitudes, introduciendo fases."
   ]
  },
  {
   "cell_type": "markdown",
   "id": "48e69036-0ecd-47bd-94ce-9c70f1e92846",
   "metadata": {},
   "source": [
    "Expresando la QFT en la forma de composicion de qubits unitarios tenemos que:\n",
    "\n",
    "$$\n",
    "QFT(\\vert j_{n-1}...j_1j_0\\rangle)= \\frac{1}{\\sqrt{N}} \n",
    "(\\vert 0 \\rangle + e^{2 \\pi i \\frac{j_0}{2}} \\vert 1 \\rangle )\\otimes\n",
    "(\\vert 0 \\rangle + e^{2 \\pi i (\\frac{j_1}{2}+\\frac{j_0}{2^2})} \\vert 1 \\rangle)\\otimes ... \\otimes \n",
    "(\\vert 0 \\rangle + e^{2 \\pi i (\\frac{j_{n-1}}{2}+...+\\frac{j_1}{2^{n-1}}+\\frac{j_0}{2^n})} \\vert 1 \\rangle)$$\n",
    "\n",
    "\n"
   ]
  },
  {
   "cell_type": "markdown",
   "id": "10fe7267-0e86-4ea7-a3d3-d950e5c34241",
   "metadata": {},
   "source": [
    "La formula anterior demuestra la QFT para estados de $n$ qbits con $N=2^n$. \n",
    "\n",
    "Notese que el ultimo qubit depende de los valores de todos los qubits anteriores y cada bit sucesivo depende de menos qbits. Esto tiene implicaciones importantes a la hora de ejecutar el circuito en HW cuántico dado que la conexion entre los qubits es limitada."
   ]
  },
  {
   "cell_type": "markdown",
   "id": "69904c45-7d0f-4888-897a-f08f2a89aeb7",
   "metadata": {},
   "source": [
    "## Intuicion \n",
    "\n",
    "La QFT transforma un estado cuantico en base Z a otra base, que es la base X, o sea es como un cambio de base de coordenadas de los vectores de estado:\n",
    "\n",
    "$$\n",
    "|\\text{Estado en la base Z }\\rangle \\quad \\xrightarrow[]{\\text{QFT}} \\quad |\\text{Estado en la base de Fourier}\\rangle\n",
    "$$\n",
    "\n",
    "$$\n",
    "\\text{QFT}|x\\rangle = |\\widetilde{x}\\rangle\n",
    "$$\n",
    "\n",
    "Los estados en la base de Fourier se denotan con (~)"
   ]
  },
  {
   "cell_type": "markdown",
   "id": "6eceef98-9557-4ac5-b512-c45bab934788",
   "metadata": {},
   "source": [
    "## QFT para 4 qubits\n",
    "\n",
    "La QFT para 4 qubits seria la siguiente expresada en la forma de composicion de qubits unitarios tenemos que:\n",
    "\n",
    "$$\n",
    "QFT(\\vert j_{n-1}j_1...j_0\\rangle)= \\frac{1}{\\sqrt{N}} \n",
    "(\\vert 0 \\rangle + e^{2 \\pi i \\frac{j_0}{2}} \\vert 1 \\rangle )\\otimes\n",
    "(\\vert 0 \\rangle + e^{2 \\pi i (\\frac{j_0}{2^2}+\\frac{j_1}{2})} \\vert 1 \\rangle)\\otimes \n",
    "(\\vert 0 \\rangle + e^{2 \\pi i  (\\frac{j_0}{2^3}+\\frac{j_1}{2^{2}}+\\frac{j_{2}}{2})}] \\vert 1 \\rangle)\\otimes \n",
    "(\\vert 0 \\rangle + e^{2 \\pi i  (\\frac{j_0}{2^4}+\\frac{j_1}{2^{3}}+\\frac{j_{2}}{2^2}+\\frac{j_{3}}{2})}] \\vert 1 \\rangle)$$"
   ]
  },
  {
   "cell_type": "markdown",
   "id": "f171cd21-4251-4682-a866-65acdde2430f",
   "metadata": {},
   "source": [
    "### EJERCICIO 1\n",
    "\n",
    "Implementar la QFT para 4 qbits"
   ]
  },
  {
   "cell_type": "code",
   "execution_count": null,
   "id": "f1bc5a27-1667-4875-850f-f919d1e83a67",
   "metadata": {
    "tags": []
   },
   "outputs": [],
   "source": []
  },
  {
   "cell_type": "markdown",
   "id": "a079dd9e-931e-4bc8-8840-898c46768d98",
   "metadata": {
    "tags": []
   },
   "source": [
    "#### EJERCICIO\n",
    "\n",
    "Calcula la QFT para un numero de bits generico n, de forma iterativa con un bucle `FOR`para poner las puertas que corresponden a cada qubit y los `SWAP`s"
   ]
  },
  {
   "cell_type": "code",
   "execution_count": null,
   "id": "deea74a8-b6be-4bf3-8899-b5abe57d3f66",
   "metadata": {
    "tags": []
   },
   "outputs": [],
   "source": []
  },
  {
   "cell_type": "markdown",
   "id": "21450386-e2eb-40bc-a8db-898a6a841184",
   "metadata": {},
   "source": [
    "## Circuito general de la QFT \n",
    "\n",
    "En general el circuito que implementa la QFT para cualquier numero de qbits podemos verlo en el siguiente codigo, donde se emplea recursibidad para generar de forma más eficiente los conjuntos de puertas para cada qbit"
   ]
  },
  {
   "cell_type": "code",
   "execution_count": null,
   "id": "46345524-1e97-4594-8e40-626419d3d853",
   "metadata": {
    "tags": []
   },
   "outputs": [],
   "source": [
    "def qft_rotations(circuit, n):\n",
    "    \"\"\"Circuito de qft para los primeros n qubits (sin swaps)\"\"\"\n",
    "    if n == 0:\n",
    "        return circuit\n",
    "    n -= 1\n",
    "    circuit.h(n)\n",
    "    for qubit in range(n):\n",
    "        circuit.cp(np.pi/2**(n-qubit), qubit, n)\n",
    "    # Al final de la funcion se le llama de nuevo de forma recursiva\n",
    "    # para seguir haciendo las rotaciones en el resto de los qbits\n",
    "    qft_rotations(circuit, n)\n",
    "    \n",
    "def swap_registers(circuit, n):\n",
    "    \"\"\"Funcion que hace los Swaps de la QFT en el registro cuantico\"\"\"\n",
    "    for qubit in range(n//2):\n",
    "        circuit.swap(qubit, n-qubit-1)\n",
    "    return circuit\n",
    "\n",
    "def qft(circuit, n):\n",
    "    \"\"\"Circuito QFT para los primeros n qbits de un circuito\"\"\"\n",
    "    qft_rotations(circuit, n)\n",
    "    swap_registers(circuit, n)\n",
    "    return circuit"
   ]
  },
  {
   "cell_type": "markdown",
   "id": "90c45ecd-7cde-4666-8aad-340a2d9e9ed1",
   "metadata": {},
   "source": [
    "## Creando estados cuanticos periódicos\n",
    "\n",
    "Creamos 3 circuitos de 4 qbits que generan 3 estados cuanticos con diferente periodicidad en la fase del registro cuantico"
   ]
  },
  {
   "cell_type": "code",
   "execution_count": null,
   "id": "97c54556-fd75-47a4-9731-f577b53747c0",
   "metadata": {
    "tags": []
   },
   "outputs": [],
   "source": [
    "def crear_señal(which_signal):\n",
    "    #creamos un registro cuántico donde almacenaremos una señal periódica A, B o C\n",
    "    #codificamos esa periodicidad en la fase de los qbits del registro\n",
    "    signal = QuantumRegister(4, name='signal')\n",
    "    qc = QuantumCircuit(signal)\n",
    "\n",
    "    ## preparamos las señales\n",
    "    qc.h(signal);\n",
    "    if which_signal == 'A':\n",
    "        qc.rz(math.radians(180), signal[0]);\n",
    "    elif which_signal == 'B':\n",
    "        qc.rz(math.radians(-90), signal[0])\n",
    "        qc.rz(math.radians(180), signal[1])\n",
    "    elif which_signal == 'C':\n",
    "        qc.rz(math.radians(-45), signal[0])\n",
    "        qc.rz(math.radians(-90), signal[1])\n",
    "        qc.rz(math.radians(180), signal[2])\n",
    "\n",
    "    qc.barrier()\n",
    "    return qc"
   ]
  },
  {
   "cell_type": "code",
   "execution_count": null,
   "id": "dc3a3e92-5a44-4461-b091-968b0ee1d672",
   "metadata": {
    "tags": []
   },
   "outputs": [],
   "source": [
    "#Probar con señal A (se repite 8 veces, señal B se repite 4, señal C se repite 2 veces\n",
    "qc=crear_señal('A')\n",
    "qc.draw()\n",
    "\n",
    "backend = Aer.get_backend('statevector_simulator')\n",
    "job = backend.run(qc)\n",
    "result = job.result()\n",
    "\n",
    "outputstate = result.get_statevector(qc, decimals=3)\n",
    "display(array_to_latex(outputstate))\n",
    "        \n",
    "for i,amp in enumerate(outputstate):\n",
    "    if abs(amp) > 0.000001:\n",
    "        prob = abs(amp) * abs(amp)\n",
    "        print('|{}> {} probabilidad = {}%'.format(i, amp, round(prob * 100, 5)))"
   ]
  },
  {
   "cell_type": "markdown",
   "id": "6a84d136-0a81-4df5-8ef7-abe634146de9",
   "metadata": {},
   "source": [
    "## Utilizacion de la QFT para calcular la frecuencia de repeticion de un estado cuantico"
   ]
  },
  {
   "cell_type": "markdown",
   "id": "7bd519c5-2ac4-430a-b283-d0720455dd80",
   "metadata": {},
   "source": [
    "### EJERCICIO\n",
    "\n",
    "Utiliza la QFT y calcula el periodo de los tres estados cuanticos que hemos creado en el apartado anterior"
   ]
  },
  {
   "cell_type": "code",
   "execution_count": null,
   "id": "ab662b0f-800f-4f72-8e64-f0d8a27c5265",
   "metadata": {
    "tags": []
   },
   "outputs": [],
   "source": [
    "#De un estado con un patron de frecuencias, obtenemos la frecuencia de repeticion de ese patron\n",
    "\n",
    "qc=crear_señal('C')\n",
    "#display(qc.draw())\n",
    "\n",
    "#calcular la qft\n",
    "\n",
    "\n",
    "#simular resultados\n",
    "\n",
    "\n",
    "#obtener vector de estados resultado\n",
    "\n",
    "\n",
    "#imprimir amplitudes de los estados resultado\n"
   ]
  },
  {
   "cell_type": "markdown",
   "id": "3358f598-c1e4-4667-ba8e-010a8da19c48",
   "metadata": {},
   "source": [
    "## La QFT inversa\n",
    "\n",
    "La transformacion inversa de la transformada de Fourier nos permite construir un estado con un determinado patron de periodicidades o frecuencias de repeticion en sus amplitudes.\n",
    "\n",
    "Podemos implementarla de una forma sencilla con el metodo ```.inverse()``` de la clase ```QuantumCircuit```"
   ]
  },
  {
   "cell_type": "code",
   "execution_count": null,
   "id": "073ad0c7-f4d4-4635-a797-37825f4d8c2b",
   "metadata": {
    "tags": []
   },
   "outputs": [],
   "source": [
    "def inverse_qft(circuit, n):\n",
    "    \"\"\"Funcion que implementa la QFT inversa para los n primeros bits de un circuito cuantico\"\"\"\n",
    "    # Creamos el circuito de n bits\n",
    "    qft_circ = qft(QuantumCircuit(n), n)\n",
    "    # Calculamos el circuito incerso\n",
    "    invqft_circ = qft_circ.inverse()\n",
    "    # lo añadimos al circuito creado\n",
    "    circuit.append(invqft_circ, circuit.qubits[:n])\n",
    "    return circuit "
   ]
  },
  {
   "cell_type": "code",
   "execution_count": null,
   "id": "e7478b91-45b7-45e9-8f39-23cfd3ec00ae",
   "metadata": {
    "tags": []
   },
   "outputs": [],
   "source": [
    "qc = QuantumCircuit(4)\n",
    "inverse_qft(qc,4)\n",
    "qc.decompose().draw()   # .decompose() para verlo con puertas individuales"
   ]
  },
  {
   "cell_type": "code",
   "execution_count": null,
   "id": "01488212-edfd-4502-afe2-b2504d785b1e",
   "metadata": {
    "tags": []
   },
   "outputs": [],
   "source": [
    "#De una frecuencia obtener un estado con esa frecuencia\n",
    "\n",
    "#Preparamos el circuito\n",
    "qc = QuantumCircuit(4)\n",
    "\n",
    "#Ppreparamos la frecuencia |2> = |0010>  con la notacion |q3q2q1q0>\n",
    "qc.x(1)\n",
    "qc.barrier()\n",
    "\n",
    "inverse_qft(qc,4)\n",
    "display(qc.decompose().draw())\n",
    "\n",
    "backend = Aer.get_backend('statevector_simulator')\n",
    "qc = transpile(qc, simulator)  #opcional\n",
    "\n",
    "job = backend.run(qc)\n",
    "result = job.result()\n",
    "\n",
    "outputstate = result.get_statevector(qc, decimals=3)\n",
    "for i,amp in enumerate(outputstate):\n",
    "    if abs(amp) > 0.000001:\n",
    "        prob = abs(amp) * abs(amp)\n",
    "        print('|{}> {} probability = {}%'.format(i, amp, round(prob * 100, 5)))\n"
   ]
  },
  {
   "cell_type": "markdown",
   "id": "efffe6b1-3576-4ba5-88b7-ad8cd3491bf7",
   "metadata": {},
   "source": [
    "### EJERCICIO\n",
    "\n",
    "Calcula la qft de la qft inversa del ejercicio anterior y verifica que la frecuencia resultante coincide con la inicial"
   ]
  },
  {
   "cell_type": "code",
   "execution_count": null,
   "id": "3118dc9a-52e2-4fa7-9098-9ecc81d52b88",
   "metadata": {
    "tags": []
   },
   "outputs": [],
   "source": [
    "#De una frecuencia obtener un estado con esa frecuencia\n",
    "\n",
    "#Preparamos el circuito\n",
    "\n",
    "\n",
    "#Ppreparamos la frecuencia |2> = |0010>  con la notacion |q3q2q1q0>\n",
    "\n",
    "\n",
    "####CALCULAMOS LA QFT INVERSA\n",
    "\n",
    "\n",
    "####CALCULAMOS LA QFT DEL CIRCUITO\n",
    "\n",
    "\n",
    "###EJECUCION EN SIMULADOR\n",
    "\n",
    "#visualizamos el output_state\n"
   ]
  },
  {
   "cell_type": "markdown",
   "id": "7ba1b0a0-7a70-44e0-9791-65cdcb6e79ca",
   "metadata": {},
   "source": [
    "## Ejecucion en un Simulador con ruido"
   ]
  },
  {
   "cell_type": "markdown",
   "id": "e91b1cc8-90a3-42cd-9547-6f4646e612bb",
   "metadata": {},
   "source": [
    "### EJERCICIO\n",
    "\n",
    "Crear una señal, calcular su QFT y la ejecutarla en un simulador con y sin ruido"
   ]
  },
  {
   "cell_type": "code",
   "execution_count": null,
   "id": "10ccc940-8a52-4406-8914-681613397786",
   "metadata": {},
   "outputs": [],
   "source": [
    "##crear el circuito con una señal y calcular su QFT\n",
    "#Probar con señal A (se repite 8 veces, señal B se repite 4, señal C se repite 2 veces\n",
    "s='C' #señal\n",
    "n= 4 #qubits\n",
    "\n",
    "\n",
    "##SIN RUIDO\n",
    "##crea el simulador\n",
    "ç\n",
    "# Transpilamos el circuito para mapearlo a las puertas ruidosas\n",
    "\n",
    "# Ejecutamos el circuito y obtenemos el resultado\n",
    "\n",
    "\n",
    "\n",
    "##CON RUIDO\n",
    "# Tomamos un backend ruidoso ficticio de fake providers y creamos el simulador\n",
    "\n",
    "# Transpilamos el circuito para mapearlo a las puertas ruidosas\n",
    "\n",
    "# Ejecutamos el circuito y obtenemos el resultado\n",
    "\n",
    "\n",
    "##RESULTADOS\n"
   ]
  },
  {
   "cell_type": "markdown",
   "id": "5d5f6c35-baf4-423b-9623-202b78522d0b",
   "metadata": {},
   "source": [
    "## Ejecucion en HW cuantico real"
   ]
  },
  {
   "cell_type": "markdown",
   "id": "f08c0bb5-3289-427d-bc55-c2568a3c1e92",
   "metadata": {},
   "source": [
    "### EJERCICIO\n",
    "\n",
    "Crear una señal, calcular su QFT y la ejecutarla en un dispositivo cuantico real"
   ]
  },
  {
   "cell_type": "code",
   "execution_count": null,
   "id": "f2ea4cd6-fa2b-43f6-942a-fd91e2856247",
   "metadata": {},
   "outputs": [],
   "source": [
    "from qiskit.providers.ibmq import least_busy\n",
    "from qiskit import IBMQ\n",
    "provider = IBMQ.load_account()\n",
    "\n",
    "##busca el backend cuantico con menos carga de trabajo actualmente\n"
   ]
  },
  {
   "cell_type": "code",
   "execution_count": null,
   "id": "02b9d916-878f-4fd3-99b0-88024e1c06db",
   "metadata": {},
   "outputs": [],
   "source": [
    "#Probar con señal A (se repite 8 veces, señal B se repite 4, señal C se repite 2 veces\n",
    "s='C' #señal\n",
    "n= 4 #qubits\n"
   ]
  },
  {
   "cell_type": "code",
   "execution_count": null,
   "id": "77363c55-8942-4350-af2e-01626777fe6f",
   "metadata": {},
   "outputs": [],
   "source": [
    "#ejecutar e ljob\n"
   ]
  },
  {
   "cell_type": "markdown",
   "id": "b2bcea36-a923-4e45-b3dd-52f993bdb48c",
   "metadata": {},
   "source": [
    "Una vez ejecutado el job recuperamos los resultados de la ejecucion y visualizamos los resultados"
   ]
  },
  {
   "cell_type": "code",
   "execution_count": null,
   "id": "1cae3a73-f8b1-4b4f-b2c5-12c79f41173d",
   "metadata": {},
   "outputs": [],
   "source": []
  }
 ],
 "metadata": {
  "kernelspec": {
   "display_name": "Python 3 (ipykernel)",
   "language": "python",
   "name": "python3"
  },
  "language_info": {
   "codemirror_mode": {
    "name": "ipython",
    "version": 3
   },
   "file_extension": ".py",
   "mimetype": "text/x-python",
   "name": "python",
   "nbconvert_exporter": "python",
   "pygments_lexer": "ipython3",
   "version": "3.10.8"
  },
  "widgets": {
   "application/vnd.jupyter.widget-state+json": {
    "state": {},
    "version_major": 2,
    "version_minor": 0
   }
  }
 },
 "nbformat": 4,
 "nbformat_minor": 5
}
