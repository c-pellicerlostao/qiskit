{
 "cells": [
  {
   "cell_type": "markdown",
   "metadata": {
    "id": "g5asWGPIKLcB"
   },
   "source": [
    "<div>\n",
    "<img src=\"https://www.nebrija.com/images/logos/logotipo-universidad-nebrija.jpg\" width=\"200\">\n",
    "</div>\n",
    "\n",
    "**ALGORITMOS** -\n",
    "Prof: Carmen Pellicer Lostao"
   ]
  },
  {
   "cell_type": "markdown",
   "metadata": {
    "id": "6fN7JL06mtsN",
    "tags": [
     "remove_cell"
    ]
   },
   "source": [
    "# Estimacion de Fase cuantica (Quantum Phase Estimation)"
   ]
  },
  {
   "cell_type": "markdown",
   "metadata": {
    "id": "gshvfe1imtsP"
   },
   "source": [
    "La estimación de fase cuántica es una de las subrutinas más importantes en la computación cuántica. Sirve como componente central de muchos algoritmos cuánticos. El objetivo del algoritmo es el siguiente:\n",
    "\n",
    "> Dado un operador unitario $U$, el algoritmo estima $\\theta$ en $U\\vert\\psi \\rangle =e^{\\boldsymbol{2\\pi i} \\theta }|\\psi \\rangle$. Aquí $|\\psi\\rangle$ es un vector propio y $e^{\\boldsymbol{2\\pi i}\\theta}$ es el valor propio correspondiente. Dado que $U$ es unitario, todos sus valores propios tienen una norma de 1.\n",
    "\n",
    "\n",
    "Vamos a realizar varios ejercicio para contruir el circuito de este algoritmo y estimar las fases de varios operadores.\n",
    "\n",
    "Lo primero importamos las librerias de trabajo"
   ]
  },
  {
   "cell_type": "code",
   "execution_count": null,
   "metadata": {
    "id": "gDALR267mtsT",
    "tags": []
   },
   "outputs": [],
   "source": [
    "#initialization\n",
    "import matplotlib.pyplot as plt\n",
    "import numpy as np\n",
    "import math\n",
    "\n",
    "# importing Qiskit\n",
    "from qiskit import IBMQ, Aer, transpile, assemble\n",
    "from qiskit import QuantumCircuit, ClassicalRegister, QuantumRegister\n",
    "\n",
    "# import basic plot tools\n",
    "from qiskit.visualization import plot_histogram"
   ]
  },
  {
   "cell_type": "markdown",
   "metadata": {},
   "source": [
    "Y una funcion para visualizar los resultados de las medidas:"
   ]
  },
  {
   "cell_type": "code",
   "execution_count": null,
   "metadata": {
    "tags": []
   },
   "outputs": [],
   "source": [
    "def count_to_digital_values(counts):\n",
    "    counts_ordenado=sorted(counts)\n",
    "    print('resultado -- cuenta')\n",
    "    for k in counts_ordenado:\n",
    "        print(k, '     --',counts[k])"
   ]
  },
  {
   "cell_type": "markdown",
   "metadata": {
    "id": "ShwCMUcCmtsQ"
   },
   "source": [
    "## Introducción"
   ]
  },
  {
   "cell_type": "markdown",
   "metadata": {
    "id": "5V9xt3WVmtsR"
   },
   "source": [
    "A continuación se muestra el circuito cuántico general para la estimación de fase. \n",
    "\n",
    "El registro inferior es un registro auxiliar que llamaremos **registro contador o de conteo** y contiene $m$ qubits y el superior contiene $n$ qubits en el estado $|\\psi\\rangle$:\n",
    "\n",
    "![image1](https://media.discordapp.net/attachments/1012968177258483802/1202245214862053426/image.png)\n"
   ]
  },
  {
   "cell_type": "markdown",
   "metadata": {
    "id": "_OjpSFFtmtsR"
   },
   "source": [
    "\n",
    "El algoritmo de estimación de fase cuántica utiliza el retroceso de fase ('phase kick-back') para escribir la fase de $U$ (en la base de Fourier) en los $m$ qubits en el registro de conteo. Luego usamos  la QFT inversa para traducir esto de la base de Fourier a la base computacional, que podemos medir.\n",
    "\n",
    "Cuando usamos un autovector para controlar la puerta $U$ sobre un qubit, el qubit girará (debido al retroceso) proporcionalmente a la fase $e^{2i\\pi\\theta}$. Podemos usar sucesivas puertas $CU$ para repetir esta rotación un número apropiado de veces hasta que hayamos codificado la fase $\\theta$ como un número entre $0$ y $2^m$ en la base de Fourier.\n",
    "\n",
    "Luego simplemente usamos la $IQFT$ para convertir este estado a la base computacional de medida.\n",
    "\n"
   ]
  },
  {
   "cell_type": "markdown",
   "metadata": {
    "id": "X_bXfKF7mtsR"
   },
   "source": [
    "### Funcionamiento del circuito QPE"
   ]
  },
  {
   "cell_type": "markdown",
   "metadata": {},
   "source": [
    "Como se mencionó anteriormente, este circuito estima la fase de un operador unitario $U$. Estima $\\theta$ en $U\\vert\\psi \\rangle =e^{\\boldsymbol{2\\pi i} \\theta }|\\psi \\rangle$, donde $|\\psi\\rangle$ es un vector propio y $ e^{\\boldsymbol{2\\pi i}\\theta}$ es el valor propio correspondiente. El circuito opera en los siguientes pasos:\n",
    "\n",
    "0. **Setup**: $\\vert\\psi\\rangle$ está en un conjunto de registros de qubit. Un conjunto adicional de $n$ qubits forma el registro de conteo en el que almacenaremos el valor $2^n\\theta$:\n",
    "\n",
    "\n",
    "\n",
    "$$ |\\psi_0\\rangle = \\lvert 0 \\rangle^{\\otimes m}  \\otimes \\lvert \\psi \\rangle $$\n",
    "\n",
    "\n",
    "\n",
    "1. **Superposición**: Apliqcamo una operación de puerta Hadamard de $m$ bits $H^{\\otimes m}$, en el registro de conteo:\n",
    "\n",
    "\n",
    "\n",
    "$$ |\\psi_1\\rangle = {\\frac {1}{\\sqrt {2^m}}}\\left(|0\\rangle +|1\\rangle \\right)^{\\otimes m} \\otimes \\lvert \\psi \\rangle $$\n",
    "\n",
    "\n",
    "\n",
    "2. **Operaciones Unitarias Controladas**: Necesitamos introducir el operador $CU$ unitario de la $U$ controlada que aplica el operador unitario $U$ en el registro de destino solo si su bit de control correspondiente es $|1\\rangle$.\n",
    "\n",
    "Dado que $U$ es un operador unitario con vector propio $|\\psi\\rangle$ tal que $U|\\psi \\rangle =e^{\\boldsymbol{2\\pi i} \\theta }|\\psi \\rangle$, esto significa :\n",
    "\n",
    "$$U^{2^{m}}|\\psi \\rangle =U^{2^{m-1}}U|\\psi \\rangle =U^{2^{m-1}}e^{2\\pi i\\theta }|\\psi \\rangle =\\cdots =e^{2\\pi i2^{m}\\theta }|\\psi \\rangle$$\n",
    "\n",
    "\n",
    "Aplicando todas las operaciones controladas $m$ $CU^{2^j}$ con $0\\leq j\\leq m-1$, y usando la relación $|0\\rangle \\otimes |\\psi \\rangle +|1\\rangle \\otimes e^{2\\pi i\\theta }|\\psi \\rangle =\\left(|0\\rangle +e^{2\\pi i\\theta }|1\\rangle \\right)\\otimes |\\psi \\rangle$\n",
    "\n",
    "\n",
    "\\begin{aligned}\n",
    "|\\psi_{2}\\rangle = \\frac {1}{\\sqrt{2^m}} \\sum _{k=0}^{2^{m}-1}e^{\\boldsymbol{2\\pi i} \\theta k}|k\\rangle \\otimes \\lvert \\psi \\rangle = QFT \\vert2^m\\theta\\rangle \\otimes \\lvert \\psi \\rangle  \n",
    "\\end{aligned}\n",
    "\n",
    "\n",
    "\n",
    "\\begin{aligned}\n",
    "|\\psi_{2}\\rangle & =  \\frac {1}{\\sqrt{2^m}} [ \\left(|0\\rangle+{e^{\\boldsymbol{2\\pi i} \\theta 2^{m-1}}}|1\\rangle \\right) \\otimes \\cdots \\otimes \\left(|0\\rangle+{e^{\\boldsymbol{2\\pi i} \\theta 2^{1}}}\\vert1\\rangle \\right) \\otimes \\left(|0\\rangle+{e^{\\boldsymbol{2\\pi i} \\theta 2^{0}}}\\vert1\\rangle \\right)] \\otimes \\lvert \\psi \\rangle = \\frac {1}{\\sqrt{2^m}} \\sum _{k=0}^{2^{m}-1}e^{\\boldsymbol{2\\pi i} \\theta k}|k\\rangle \\otimes \\lvert \\psi \\rangle\n",
    "\\end{aligned}\n",
    "donde $k$ denota la representación entera de números binarios de m bits.\n",
    "\n",
    "iv. **Transformada de Fourier inversa**: Observamos que la expresión anterior es exactamente el resultado de aplicar una transformada cuántica de Fourier. Recordamos que la QFT asigna un estado de entrada de m-qubit $\\vert j\\rangle$ a una salida como\n",
    "\n",
    "$$\\vert j \\rangle \\mapsto \\frac{1}{\\sqrt{2^m}}\\sum_{k=0}^{2^m-1}e^{2\\pi i \\frac{jk}{2^m}} \\vert k \\rangle$$\n",
    "\n",
    "$$\n",
    "QFT\\vert j_{m-1}j_{m-2}...j_0 \\rangle = \\frac{1}{\\sqrt{2^m}}\n",
    "\\left(\\vert0\\rangle + e^{\\frac{2\\pi i}{2}j} \\vert1\\rangle\\right)\n",
    "\\otimes\n",
    "\\left(\\vert0\\rangle + e^{\\frac{2\\pi i}{2^2}j} \\vert1\\rangle\\right)\n",
    "\\otimes  \n",
    "\\ldots\n",
    "\\otimes\n",
    "\\left(\\vert0\\rangle + e^{\\frac{2\\pi i}{2^{m-1}}j} \\vert1\\rangle\\right)\n",
    "\\otimes\n",
    "\\left(\\vert0\\rangle + e^{\\frac{2\\pi i}{2^m}j} \\vert1\\rangle\\right)\n",
    "$$\n",
    "\n",
    "Reemplazar $j$ por $2^m\\theta$ en la expresión anterior da exactamente la expresión derivada en el paso 2 anterior. Por lo tanto, para recuperar el estado $\\vert2^m\\theta\\rangle$, apliquamos una transformada de Fourier inversa en el registro de conteo auxiliar. Al hacerlo, encontramos $(2^m \\theta)$ en el registro de conteo.\n",
    "\n",
    "3. **Medición**:\n",
    "Al medir los $m$ qubits del registro contador encontraremos un máximo de resultados cerca de $j = 2^m\\theta$. Para el caso en que $2^m\\theta$ es un número entero, medir en la base computacional da la fase exacta en el registro auxiliar con alta probabilidad:\n",
    "\n",
    "$$ |\\psi_4\\rangle = | 2^m \\theta \\rangle $$\n",
    "\n",
    "Para el caso en el que $2^n\\theta$ no sea un número entero, se puede demostrar que la expresión anterior todavía alcanza su punto máximo cerca de $j = 2^m\\theta$ con una probabilidad mejor que $4/\\pi^2 \\approx 40\\%$."
   ]
  },
  {
   "cell_type": "markdown",
   "metadata": {
    "id": "GNl_Mud4mtsS"
   },
   "source": [
    "## QPE para la puerta T"
   ]
  },
  {
   "cell_type": "markdown",
   "metadata": {
    "id": "NRSVyEJGmtsS"
   },
   "source": [
    "Tomemos una puerta que conocemos bien, la puerta $T$, y usemos la estimación de fase cuántica para estimar su fase. Recordamos que la puerta $T$ agrega una fase de $e^\\frac{i\\pi}{4}$ al estado $|1\\rangle$:\n",
    "\n",
    "$$ T|1\\rangle =\n",
    "\\begin{bmatrix}\n",
    "1 & 0\\\\\n",
    "0 & e^\\frac{i\\pi}{4}\\\\\n",
    "\\end{bmatrix}\n",
    "\\begin{bmatrix}\n",
    "0\\\\\n",
    "1\\\\\n",
    "\\end{bmatrix}\n",
    "= e^\\frac{i\\pi}{4}|1\\rangle $$\n",
    "\n",
    "Dado que QPE nos dará el angulo $\\theta$ que cumple:\n",
    "\n",
    "$$ T|1\\rangle = e^{2i\\pi\\theta}|1\\rangle $$\n",
    "\n",
    "De forma que esperamos encontrar:\n",
    "\n",
    "$$\\theta = \\frac{1}{8}$$\n",
    "\n",
    "Utilizaremos $m=3$ qubits en el registro contador para obtener **un resultado exacto**. Esto es asi porque en este caso $2^m \\theta=1$ es un numero entero y vamos a poder medir con total certidumbre la fase(no una estimacion!)."
   ]
  },
  {
   "cell_type": "markdown",
   "metadata": {
    "id": "UWr7r2LsmtsU"
   },
   "source": [
    "### EJERCICIO\n",
    "\n",
    "Crea el circuito cuantico de la QPE para el operador T.\n",
    "\n",
    "*   En nuestro caso tenemos $n=1$ qubit del registro del vector propio del operador T y tomaremos $m=3$ qubits para la resolucion de la medida de fase en el registro de conteo\n",
    "\n",
    "*   Crea un circuito cuantico de $n+m$ qubits y $m$ bits clasicos para recoger la medida de la fase\n",
    "\n",
    "*   Inicializa el primer qubit $q_0$ a $\\vert\\psi\\rangle = \\vert1\\rangle$ aplicando una puerta $X$\n",
    "\n",
    "*   El resto de qubits ponlos en superposicion con la puesta de Hadamard $H$\n",
    "\n",
    "*   Aplica las puertas $CU$, control $U$, que seguiran el siguiente patron: $U$ para el $qn$, $U^2$ para $q_{n+1}$ ... y $U^{2^{m-1}}$ para $q_{n+m-1}$. Recuerda que $U^k$ es equivalente a aplicar la puerta $U$ $k$ veces.\n",
    "\n",
    "* Dibuja el circuito\n",
    "\n"
   ]
  },
  {
   "cell_type": "code",
   "execution_count": null,
   "metadata": {
    "id": "2QBqdmhtlawT",
    "tags": []
   },
   "outputs": [],
   "source": [
    "m=3\n",
    "n=1\n",
    "qpe = \n",
    "\n",
    "\n",
    "qpe.draw()"
   ]
  },
  {
   "cell_type": "markdown",
   "metadata": {
    "id": "OpvG7hQ-mtsW"
   },
   "source": [
    "Ahora definimos la siguiente funcion que construye la QFT inversa para aplicarla a los $m$ ultimos qubits de un circuito de $n+m$ qubits:"
   ]
  },
  {
   "cell_type": "code",
   "execution_count": null,
   "metadata": {
    "id": "m0SaPnFQmtsX",
    "outputId": "53e6fb4a-a71c-468a-cf65-5e0450844937",
    "tags": []
   },
   "outputs": [],
   "source": [
    "def qft_dagger(qc, n, m):\n",
    "    \"\"\"n-qubit QFTdagger the m qubits in circ that are located after n qubits\"\"\"\n",
    "    # Don't forget the Swaps!\n",
    "    for qubit in range(m//2):\n",
    "        qc.swap(n+qubit, n+m-qubit-1)\n",
    "    for j in range(m):\n",
    "        for k in range(j):\n",
    "            qc.cp(-math.pi/float(2**(j-k)), n+k, n+j)\n",
    "        qc.h(n+j)"
   ]
  },
  {
   "cell_type": "markdown",
   "metadata": {
    "id": "rIQfpagFmtsX"
   },
   "source": [
    "Finalmente en nuestro de circuito de calculo de la QPE :\n",
    "\n",
    "*   Ponemos una barrera\n",
    "*   Añadimos el circuito de la QFT Inversa\n",
    "*   Ponemos otra barrera y añadimos las puertas de medida\n",
    "*   Dibujamos el circuito en una sola linea"
   ]
  },
  {
   "cell_type": "code",
   "execution_count": null,
   "metadata": {
    "id": "XRlo6bJvmtsY",
    "tags": []
   },
   "outputs": [],
   "source": [
    "#barrier\n",
    "\n",
    "# Apply inverse QFT\n",
    "\n",
    "# Measure\n"
   ]
  },
  {
   "cell_type": "markdown",
   "metadata": {
    "id": "k1U0BxAhmtsZ"
   },
   "source": [
    "Ahora ejecutaremos el circuito y obtendremos la medida en el registro contador auxiliar\n",
    "\n",
    "Obten el histograma de medidas en numerico y visualizandolo en una figura"
   ]
  },
  {
   "cell_type": "code",
   "execution_count": null,
   "metadata": {
    "id": "7WfLblZxmtsZ",
    "outputId": "ec2202e5-da85-4068-c37c-270287943054",
    "tags": []
   },
   "outputs": [],
   "source": [
    "# Hacemos un transpile del circuito para el simulador\n",
    "\n",
    "# lo corremos y obtenemos los resultados\n",
    "\n",
    "\n",
    "#print numeric results con la funcion count_to_digital_values\n"
   ]
  },
  {
   "cell_type": "markdown",
   "metadata": {
    "id": "IPqUKrpPmtsa"
   },
   "source": [
    "Vemos que debemos de obtener es (`001`) con total certeza, lo que se traduce al decimal: `1`. Ahora necesitamos dividir nuestro resultado (`1`) por $2^m$ para obtener el resultado exacto de $\\theta$:\n",
    "\n",
    "$$ \\theta = \\frac{1}{2^3} = \\frac{1}{8} $$\n",
    "\n",
    "En este caso, hemos obtenido el resultado exacto porque $\\theta$ es un numero entero."
   ]
  },
  {
   "cell_type": "markdown",
   "metadata": {
    "id": "ZIRMcwO9mtsa"
   },
   "source": [
    "### EJERCICIO\n",
    "\n",
    "En lugar de una puerta $T$, usemos otra puerta de un qubit, la puerta $P(\\frac{2\\pi}{3})$  de rotacion con un angulo $\\theta = \\frac{1}{3}= 0.333$. El vector propio de este operador que es |1>.\n",
    "\n",
    "Crea el circuito y mide los resultados de estimacion de fase tomando $m=3$ como numero de qubits en el registro de conteo\n",
    "\n",
    "En este caso $2^m \\theta=2.666$ no es un numero entero, por lo que no vamos a poder medir con total certidumbre la fase."
   ]
  },
  {
   "cell_type": "code",
   "execution_count": null,
   "metadata": {
    "id": "dtTeHCC4mtsa",
    "outputId": "80cab654-2619-4fd1-e313-6c3ec3837e76",
    "tags": []
   },
   "outputs": [],
   "source": [
    "m=3\n",
    "n=1\n",
    "angle=2*math.pi/3\n",
    "qpe = \n"
   ]
  },
  {
   "cell_type": "markdown",
   "metadata": {
    "id": "GmHJIC6Mmtsb"
   },
   "source": [
    "Estamos esperando el resultado $\\theta = 0.3333\\dots$, y pero con este circuito tenemos que obtener que nuestros resultados más probables son `010(bin) = 2(dec)` y `011(bin) = 3(dec)`. Estos dos resultados nos dirían que $\\theta = 0,25$ (desviación del 25%) y $\\theta = 0,375$ (desviación del 13%) respectivamente. El verdadero valor de $\\theta$ se encuentra entre los valores que podemos obtener de nuestros bits de conteo, y esto nos da incertidumbre e imprecisión."
   ]
  },
  {
   "cell_type": "markdown",
   "metadata": {
    "id": "H7RBZSgFqt8h"
   },
   "source": [
    "### EJERCICIO\n",
    "\n",
    "Para obtener más precisión, simplemente agregamos más qubits de conteo. Vamos a agregar dos qubits de conteo más, tomando $m=5$"
   ]
  },
  {
   "cell_type": "code",
   "execution_count": null,
   "metadata": {
    "id": "jH9dclECmtsb",
    "outputId": "53fe1ee7-ec68-4416-80f0-4b0592956f4c",
    "tags": []
   },
   "outputs": [],
   "source": [
    "m=5\n",
    "n=1\n",
    "angle=2*math.pi/3\n",
    "qpe = \n",
    "\n"
   ]
  },
  {
   "cell_type": "markdown",
   "metadata": {
    "id": "4n-XsNCKmtsc"
   },
   "source": [
    "Las dos medidas más probables que debemos de obtener ahora son  \"01011\" (11 decimal) y \"01010\" (10 decimal). Medir estos resultados nos diría que $\\theta$ es:\n",
    "\n",
    "$$\n",
    "\\theta = \\frac{11}{2^5} = 0.344,\\;\\text{ o }\\;\\; \\theta = \\frac{10}{2^5} = 0,313\n",
    "$$\n",
    "\n",
    "Estos dos resultados difieren de $\\frac{1}{3}$ en un 3% y un 6% respectivamente. ¡Una precisión mucho mejor!"
   ]
  },
  {
   "cell_type": "markdown",
   "metadata": {
    "id": "pQr4svafrmbl"
   },
   "source": [
    "## Ejecucion en un Simulador con ruido"
   ]
  },
  {
   "cell_type": "markdown",
   "metadata": {
    "id": "6PfMqiJ4r8-O"
   },
   "source": [
    "### EJERCICIO\n",
    "\n",
    "Ejecuta el circuito los ejercicios anteriores, donde estimamos la fase de los operadores $T$ y $P(\\frac{2\\pi}{3})$  en un simulador con ruido"
   ]
  },
  {
   "cell_type": "code",
   "execution_count": null,
   "metadata": {
    "id": "tmvg6jRqsLOz"
   },
   "outputs": [],
   "source": [
    "from qiskit import IBMQ, transpile\n",
    "from qiskit import QuantumCircuit\n",
    "from qiskit.providers.aer import Aer, AerSimulator\n",
    "from qiskit.tools.visualization import plot_histogram\n",
    "from qiskit.providers.fake_provider import FakeVigo"
   ]
  },
  {
   "cell_type": "code",
   "execution_count": null,
   "metadata": {
    "id": "t26NQI8otcLK"
   },
   "outputs": [],
   "source": [
    "#qpe T \\thta = 1\n"
   ]
  },
  {
   "cell_type": "code",
   "execution_count": null,
   "metadata": {
    "id": "urCfWBHrtbzh"
   },
   "outputs": [],
   "source": [
    "#qpe P \\theta 1/3\n"
   ]
  },
  {
   "cell_type": "markdown",
   "metadata": {
    "id": "YlZFXymTmtsc"
   },
   "source": [
    "## Ejecucion en un BackEnd cuántico"
   ]
  },
  {
   "cell_type": "markdown",
   "metadata": {
    "id": "bLKFP8pNtWSA"
   },
   "source": [
    "### EJERCICIO\n",
    "\n",
    "Ejecuta los circuitos anteriores en Backend cuantico real"
   ]
  },
  {
   "cell_type": "code",
   "execution_count": null,
   "metadata": {
    "id": "M8gxDiDGuJ5i"
   },
   "outputs": [],
   "source": []
  }
 ],
 "metadata": {
  "colab": {
   "provenance": [],
   "toc_visible": true
  },
  "kernelspec": {
   "display_name": "Qiskit v0.45.2 (ipykernel)",
   "language": "python",
   "name": "python3"
  },
  "language_info": {
   "codemirror_mode": {
    "name": "ipython",
    "version": 3
   },
   "file_extension": ".py",
   "mimetype": "text/x-python",
   "name": "python",
   "nbconvert_exporter": "python",
   "pygments_lexer": "ipython3",
   "version": "3.10.8"
  },
  "widgets": {
   "application/vnd.jupyter.widget-state+json": {
    "state": {},
    "version_major": 2,
    "version_minor": 0
   }
  }
 },
 "nbformat": 4,
 "nbformat_minor": 4
}
