{
 "cells": [
  {
   "cell_type": "markdown",
   "metadata": {},
   "source": [
    "<div>\n",
    "<img src=\"https://www.nebrija.com/images/logos/logotipo-universidad-nebrija.jpg\" width=\"200\">\n",
    "</div>\n",
    "\n",
    "**ALGORITMOS** -\n",
    "Prof: Carmen Pellicer Lostao"
   ]
  },
  {
   "cell_type": "markdown",
   "metadata": {},
   "source": [
    "# Optimizacion cuantica con algoritmos variacionales (VQE y QAOA)"
   ]
  },
  {
   "cell_type": "markdown",
   "metadata": {
    "id": "ebrq-plaZgKS"
   },
   "source": [
    "## Introduccion a la Optimizacion en Qiskit"
   ]
  },
  {
   "cell_type": "markdown",
   "metadata": {
    "id": "CQ8vST8jZpn_"
   },
   "source": [
    "Muchos problemas prácticos en varios campos son problemas de optimización y tienen amplia aplicacion en diferentes problemas de empresa.\n",
    "\n",
    "Los problemas de optimización se encuentran en el centro de la compleja toma de decisiones y definición de estrategias.\n",
    "\n",
    "Son problemas de búsqueda de una solución óptima en un conjunto finito o contablemente infinito de soluciones potenciales. La optimidad se define con respecto a alguna función criterio (llamada función objetivo), que se quiere minimizar o maximizar.\n",
    "\n",
    "Podemos clasificarlos como de:\n",
    "- Minimización: coste, distancia, longitud de un recorrido, peso, tiempo de procesamiento, material, consumo de energía, número de objetos.\n",
    "  - P.ej. Encuentre el camino más corto de A a B\n",
    "- Maximización: beneficio, valor, producción, retorno, rendimiento, utilidad, eficiencia, capacidad, número de objetos.\n",
    "  - P.ej. Planeación de producción\n",
    "\n",
    "\n",
    "La Optimización de Qiskit tiene las siguientes características:\n",
    "- Cubre toda la gama de resolución de problemas de optimización.\n",
    "- Modelado de alto nivel de problemas de optimización.\n",
    "- Conversión automática de problemas a representaciones requeridas (Ising Hamiltoniano)\n",
    "- Permite a los usuarios resolver problemas utilizando un gran conjunto de algoritmos.\n",
    "  - VQE, QAOA, búsqueda adaptativa de Grover, solucionadores clásicos"
   ]
  },
  {
   "cell_type": "markdown",
   "metadata": {},
   "source": [
    "Instalaremos la version de las librerias de algoritmos de qiskit [qiskit_algoritnms](https://qiskit.org/ecosystem/algorithms/index.html)"
   ]
  },
  {
   "cell_type": "code",
   "execution_count": null,
   "metadata": {
    "tags": []
   },
   "outputs": [],
   "source": [
    "!pip install qiskit-algorithms"
   ]
  },
  {
   "cell_type": "markdown",
   "metadata": {},
   "source": [
    "Importamos las librerias necesarias"
   ]
  },
  {
   "cell_type": "code",
   "execution_count": null,
   "metadata": {
    "tags": []
   },
   "outputs": [],
   "source": [
    "from qiskit import Aer, transpile\n",
    "from qiskit.circuit.library import TwoLocal\n",
    "from qiskit.utils import QuantumInstance\n",
    "from qiskit.providers.fake_provider import FakeVigo\n",
    "from qiskit_optimization.algorithms import MinimumEigenOptimizer\n",
    "from qiskit_optimization.applications import OptimizationApplication\n",
    "from qiskit_optimization.converters import QuadraticProgramToQubo\n",
    "from qiskit.utils import algorithm_globals\n",
    "from qiskit.quantum_info import Statevector\n",
    "from qiskit.tools.visualization import plot_histogram, plot_state_city\n",
    "\n",
    "from qiskit.primitives import Estimator  #RUNTIME PRIMITIVE ESTIMATOR\n",
    "from qiskit.circuit.library import TwoLocal\n",
    "\n",
    "import pandas as pd\n",
    "import numpy as np\n",
    "import matplotlib.pyplot as plt\n",
    "import datetime"
   ]
  },
  {
   "cell_type": "code",
   "execution_count": null,
   "metadata": {
    "tags": []
   },
   "outputs": [],
   "source": [
    "from qiskit.algorithms.minimum_eigensolvers import VQE, QAOA, NumPyMinimumEigensolver  # new import!!!\n",
    "from qiskit_algorithms import NumPyMinimumEigensolver\n",
    "\n",
    "from qiskit.algorithms.optimizers import SPSA, COBYLA, L_BFGS_B, SLSQP\n",
    "from qiskit.primitives import Estimator, Sampler"
   ]
  },
  {
   "cell_type": "markdown",
   "metadata": {
    "id": "Z-39cOBlacNR"
   },
   "source": [
    "## Modelizacion de problemas de optimizacion en Qiskit"
   ]
  },
  {
   "cell_type": "markdown",
   "metadata": {
    "id": "PqqybwWUbZ7x"
   },
   "source": [
    "Para modelizar y resolver un problema de optimizacion en Qiskit se realizan los siguientes pasos:\n",
    "\n",
    "1.  Construir el modelo matematico del problema de optimizacion cuadratico. Para ello tendremos que **construir un objeto de la clase `Quadratic Program`**\n",
    "\n",
    "2.   **Conversión de `Quadratic Program` a un QUBO y a un Hamiltoniano de Ising**\n",
    "\n",
    "3.   **Encontrar la solución mediante la funcion `MinimumEigenOptimizer`** utilizando el algoritmo de resolucion que nosotros deseemos (p.e. VQE o QAOA)\n",
    "\n"
   ]
  },
  {
   "cell_type": "markdown",
   "metadata": {
    "id": "8U0j_tfkaXhJ"
   },
   "source": [
    "### 1. Construir el objeto `QuadraticProgram`que recoje el problema de Optimizacion"
   ]
  },
  {
   "cell_type": "markdown",
   "metadata": {
    "id": "TP_hCmRkajJg"
   },
   "source": [
    "La optimización de Qiskit admite programas cuadráticos restringidos cuadráticamente\n",
    "  - Variables binarias, enteras y continuas.\n",
    "  - Restricciones de igualdad y desigualdad.\n",
    "$$\n",
    "\\begin{aligned}\n",
    "\\text{minimizar}\\quad& x^\\top Q_0 x + c^\\top x\\\\\n",
    "\\text{sujeto a}\\quad& A x \\leq b\\\\\n",
    "& x^\\top Q_i x + a_i^\\top x \\leq r_i, \\quad 1,\\dots,i,\\dots,q\\\\\n",
    "& l_i \\leq x_i \\leq u_i, \\quad 1,\\dots,i,\\dots,n,\n",
    "\\end{aligned}\n",
    "$$\n",
    "\n",
    "    donde $Q_i$ son matrices $n \\times n$, $A$ es una matriz $m \\times n$, $x$ y $c$ son vectores $n$-dimensionales\n",
    "\n",
    "- Ejemplo simple de programa cuadrático.\n",
    "$$\n",
    "\\begin{aligned}\n",
    "\\text{maximizar}\\quad& 2xy+x+y+z\\\\\n",
    "\\text{sujeto a}\\quad& x+y+z \\leq 2\\\\\n",
    "& x,y,z \\in \\{0,1\\} \\\\\n",
    "\\end{aligned}\n",
    "$$\n",
    "  \n",
    "\n",
    "Cubre varios tipos de problemas.\n",
    "  - Problema del viajante (TSP), corte máximo, cobertura de vértices, problema de mochila, etc.\n",
    "- Qiskit introduce la clase `QuadraticProgram` para crear un modelo de optimización, que formula el problema con un QUBO"
   ]
  },
  {
   "cell_type": "markdown",
   "metadata": {
    "id": "CEq66LV1c7Q5"
   },
   "source": [
    "Qiskit tiene la librería dedicada a la [optimización](https://qiskit.org/ecosystem/optimization/index.html) y en ella podemos encontrar la clase [`Quadratic Program`](https://qiskit.org/ecosystem/optimization/stubs/qiskit_optimization.QuadraticProgram.html) que permite crearlos desde cero.\n",
    "\n",
    "La clase `QuadraticProgram` expresa en una formulacion matematica el problema a optimizar. Es una representación del programa cuadrático que admite restricciones de desigualdad e igualdad, así como variables continuas, binarias y enteras. No es portanto una representacion QUBO o Ising."
   ]
  },
  {
   "cell_type": "code",
   "execution_count": null,
   "metadata": {
    "id": "8LuiA9JyZGTK",
    "tags": []
   },
   "outputs": [],
   "source": [
    "from qiskit_optimization import QuadraticProgram\n",
    "# Define QuadraticProgram\n",
    "qp = QuadraticProgram()\n",
    "\n",
    "# Add variables\n",
    "qp.binary_var('x')\n",
    "qp.binary_var('y')\n",
    "qp.integer_var(lowerbound=0, upperbound=7, name='z')\n",
    "\n",
    "# Add an objective function\n",
    "qp.maximize(linear={'x': 2, 'y': 1, 'z': 1})\n",
    "\n",
    "# Add a constraint\n",
    "qp.linear_constraint(linear={'x': 1, 'y': 1, 'z': 1}, sense='LE', rhs=2, name='xyz_leq')\n",
    "\n",
    "#vemos la representacion CPLEX que es un estandar de formato de problemas de optimizacion\n",
    "print(qp.export_as_lp_string())  "
   ]
  },
  {
   "cell_type": "markdown",
   "metadata": {
    "id": "Oqt9mT-9fqAN"
   },
   "source": [
    "Tambien tiene implementadas otras clases que nos calculan el objeto de esta clase para problemas especificos de optimizacion. Ver librería [Aplicaciones de optimizacion](https://qiskit.org/ecosystem/optimization/apidocs/qiskit_optimization.applications.html)"
   ]
  },
  {
   "cell_type": "markdown",
   "metadata": {},
   "source": [
    "#### EJERCICIO"
   ]
  },
  {
   "cell_type": "markdown",
   "metadata": {
    "id": "Jy8yyz_9f9UU"
   },
   "source": [
    "Un problema tipico de optimizacion en teoria de grafos es el denominado [MaxCut](https://en.wikipedia.org/wiki/Maximum_cut) donde el objetivo es:\n",
    "- Dividir los nodos en dos subconjuntos e igual tamaño\n",
    "- Maximizar el número de aristas que conectan los nodos de los dos subconjuntos\n",
    "\n",
    "Se trata de un Problema NP-completo, conocido como problema clásicamente intratable y tiene aplicaciones en clustering, ciencia de redes, física estadística, etc.\n",
    "\n",
    "Creamos un grafo con las librerías [NetworkX](https://networkx.org/) y utilizando la aplicacion de optimizacion de Qiskit [MaxCut](https://qiskit-community.github.io/qiskit-optimization/stubs/qiskit_optimization.applications.Maxcut.html#qiskit_optimization.applications.Maxcut) calculamos el objeto `Quadratic Program` que representa la ecuacion QUBO para optimizar el problema MaxCut del grafo generado\n"
   ]
  },
  {
   "cell_type": "code",
   "execution_count": null,
   "metadata": {
    "id": "ZSChjJzBf4rL",
    "tags": []
   },
   "outputs": [],
   "source": [
    "import networkx as nx\n",
    "from qiskit_optimization.applications import Maxcut  #estas librerias de qiskit tienen helper functions para interpretar resultados\n",
    "\n",
    "# Make a graph with degree=2 and #node=5\n",
    "#graph = # crea un grafo regular con parametros (d=2, n=5, seed=111) # https://networkx.org/documentation/stable/reference/generated/networkx.generators.random_graphs.random_regular_graph.html#random-regular-graph\n",
    "graph = # crea un grafo erdos_renyi_graph con parametros (5, 0.8, seed=111)   #https://networkx.org/documentation/stable/reference/generated/networkx.generators.random_graphs.erdos_renyi_graph.html\n",
    "pos = nx.spring_layout(graph, seed=111)\n",
    "\n",
    "# Application class for a Max-cut problem\n",
    "# Make a Max-cut problem from the graph and draw it\n",
    "maxcut = \n"
   ]
  },
  {
   "cell_type": "code",
   "execution_count": null,
   "metadata": {
    "id": "VGzXJ8e2gaYV",
    "tags": []
   },
   "outputs": [],
   "source": [
    "# Make a QuadraticProgram by calling to_quadratic_program()\n",
    "qp = \n",
    "print(qp)"
   ]
  },
  {
   "cell_type": "markdown",
   "metadata": {
    "id": "HcGZWSC4hIe0",
    "tags": []
   },
   "source": [
    "### 2 Convertir el `Quadratic Program` a un QUBO y Hamiltoniano de Ising"
   ]
  },
  {
   "cell_type": "markdown",
   "metadata": {
    "id": "A0NS5v3xhQ5N"
   },
   "source": [
    "La clase `QuadraticProgram` es una representación genérica y bastante potente para problemas de optimización.\n",
    "\n",
    "Sin embargo, los algoritmos cuánticos no no pueden manejar `QuadraticProgram` directamente. Necesitamos convertirlos a problemas de optimización binaria con una formulacion de programa cuadrático binario sin restricciones (QUBO) y quiza tambien como hamiltonianos de Ising:\n",
    "\n",
    "  - QUBO: formulacion de un problema cadrático binario sin restricciones (Quadratic Unconstrained Binary Optimization)\n",
    "  - Hamiltoniano de Ising: formulacion de un problema cuadratico Ising como $H = \\sum_i w_i Z_i + \\sum_{i<j} w_{ij} Z_i Z_j$ donde $Z_i$ es el operador pauli Z\n",
    "\n",
    "![convertidor](https://raw.githubusercontent.com/qiskit-community/qiskit-application-modules-demo-sessions/cbba1cb845d3f1e0d88f782f288f6c7a78c86a02/qiskit-optimization/images/converter.png)\n",
    "  \n",
    "Qiskit ofrece una variedad de [conversores](https://qiskit.org/ecosystem/optimization/apidocs/qiskit_optimization.converters.html) y convierte automáticamente problemas representados en un `QuadraticProgram` a QUBO y Hamiltonianos Ising. "
   ]
  },
  {
   "cell_type": "markdown",
   "metadata": {},
   "source": [
    "#### EJERCICIO"
   ]
  },
  {
   "cell_type": "markdown",
   "metadata": {},
   "source": [
    "Utilizando las funciones de conversion de Qiskit convierte nuestro problema a QUBO y ISING y muestra los modelos obtenidos"
   ]
  },
  {
   "cell_type": "code",
   "execution_count": null,
   "metadata": {
    "tags": []
   },
   "outputs": [],
   "source": [
    "#converting to QUBO\n",
    "qubo = \n",
    "print(\"QUBO:\")\n",
    "print(str(qubo)+'\\n')\n",
    "\n",
    "#converting QUBO task to Ising Hamiltonian for simulation on quantum computer\n",
    "ising, offset = \n",
    "print(\"ISING Hamiltonian:\")\n",
    "print(ising)\n",
    "print(offset)"
   ]
  },
  {
   "cell_type": "markdown",
   "metadata": {
    "id": "Vj1BkRj6i34k"
   },
   "source": [
    "### 3. Resolver la optimizacion con `MinimumEigenOptimizer`\n"
   ]
  },
  {
   "cell_type": "markdown",
   "metadata": {
    "id": "G4FudLcDjUml"
   },
   "source": [
    "La funcion [`MinimumEigenOptimizer`](https://qiskit.org/ecosystem/optimization/stubs/qiskit_optimization.algorithms.MinimumEigenOptimizer.html) de Qiskit es la rutina para encontrar la solución a un QUBO y su funcionamiento es equivalente a encontrar el estado fundamental (el valor propio mínimo y el vector propio mínimo) del hamiltoniano de Ising correspondiente al problema QUBO.\n",
    "\n",
    "Esta funcion puede tomar diferentes algoritmos de busqueda de ese valor propio minimo. Nosotros utilizaremos los algoritmos variacionales siguientes:\n",
    "\n",
    "- [`NumpyMinimumEigensolver`](https://qiskit-community.github.io/qiskit-algorithms/stubs/qiskit_algorithms.NumPyEigensolver.html): calculo de la solucion con algoritmos numericos clásicos de la librería `numpy`\n",
    "- `VQE`: Variational Quantum Eigensolver\n",
    "- `QAOA`: Quantum Approximate Optimizartion Algorithm\n",
    "\n",
    "Qiskit permite tambien utilizar otros. La informacion sobre la libreria que implementa estos algoritmos puede encontrrse en [qiskit_algorithms](https://qiskit.org/ecosystem/algorithms/apidocs/qiskit_algorithms.html)"
   ]
  },
  {
   "cell_type": "markdown",
   "metadata": {
    "id": "pp6Hio2hkxDk"
   },
   "source": [
    "Utilizaremos las librerías de `MinimumEigenOptimizer` y de los algoritmos variacionales VQE y QAOA para resolver el problema MaxCut del ejercicio anterior"
   ]
  },
  {
   "cell_type": "markdown",
   "metadata": {
    "id": "grlCGZTSmocz",
    "tags": []
   },
   "source": [
    "#### Solucion Clásica"
   ]
  },
  {
   "cell_type": "markdown",
   "metadata": {
    "id": "ns8DOHFlnlGV"
   },
   "source": [
    "Lo primero usamos computacion clasica para resolver el algoritmo y chequear posteriormente con las soluciones cuánticas.\n",
    "\n",
    "Hacemos la optimizacion clásica utilizando las librerias numericas de python `numpy`. Esto esta ya programado en Qiskit gracias a la clase `NumPyMinimumEigensolver` a la que podemos pasar una funcion de coste en forma de programa cuadrático (`QuadraticProgram`) y nos devuelve la solucion optima con los datos en un diccionario.\n",
    "\n",
    "Esta clase, toma el operador hamiltoniano de la funcion de coste y calcula el valor propio minimo de forma numerica clasica. En este caso como necesitamos un Hamiltoniano, tomamos el Hamiltoniano de Ising que hemos obtenido en el paso de convertir el `Quadratic Program` a QUBO y ISING."
   ]
  },
  {
   "cell_type": "markdown",
   "metadata": {
    "tags": []
   },
   "source": [
    "#### EJERCICIO"
   ]
  },
  {
   "cell_type": "markdown",
   "metadata": {},
   "source": [
    "Utiliza el método `compute_minimum_eigenvalue` de la clase [`NumpyMinimumEigensolver`](https://qiskit-community.github.io/qiskit-algorithms/stubs/qiskit_algorithms.NumPyEigensolver.html) para resolver la optimizacion del operador H (el problema formulado como Ising) , encontrando el vector propio de minima energia.\n",
    "\n",
    "Convierte en un objeto tipo `Statevector` con el resultado e imprime el diccionario de probabilidades que tiene con el metodo `probabilities_dict()`"
   ]
  },
  {
   "cell_type": "code",
   "execution_count": null,
   "metadata": {
    "tags": []
   },
   "outputs": [],
   "source": [
    "from qiskit.quantum_info import Operator\n",
    "\n",
    "#solve the optimization problem\n",
    "npme = NumPyMinimumEigensolver()\n",
    "result = #your code\n",
    "print('result:\\n', result)\n",
    "\n",
    "\n",
    "#create Statevector with the eigenvector or eigenstate and print the probabilities dictionary\n"
   ]
  },
  {
   "cell_type": "markdown",
   "metadata": {},
   "source": [
    "Crea un array que contenga la lista binaria de etiquetas de los nodos ya clasificados tras la optimizacion para dibujar el grafo."
   ]
  },
  {
   "cell_type": "code",
   "execution_count": null,
   "metadata": {
    "tags": []
   },
   "outputs": [],
   "source": [
    "nd= # your code, create a list of labels for nodes of the type array([0,0,1,1,1])\n",
    "print(nd)\n",
    "maxcut.draw(nd,pos=pos)"
   ]
  },
  {
   "cell_type": "markdown",
   "metadata": {
    "id": "Z7X9OTvhmaYV",
    "tags": []
   },
   "source": [
    "#### VQE"
   ]
  },
  {
   "cell_type": "markdown",
   "metadata": {
    "id": "mClI8CvzmdBz"
   },
   "source": [
    "Utilizaremos el algoritmo Variational Quantum Eigensolver (VQE) para resolver el problema MaxCut.\n",
    "\n",
    "Para ello necesitamos unos pasos previos:\n",
    "\n",
    "1) Construir un circuito variacional o `Ansatz` con unos parametros. Utilizaremos la clase `TwoLocal` de Qiskit que construye un circuito variacional a conveniencia, con diferentes parametros y configuraciones.\n",
    "\n",
    "2) Seleccionar una funcion de optimizacion clasica que nos guia para encontrar el minimo.\n",
    "\n",
    "3) Definimos un backend de ejecucion, un simulador\n",
    "\n",
    "Después usaremos la clase `VQE` de Qiskit para definir el optimizador y le pasaremos el Ansatz, la funcion de optimizacion y el backend de ejecucion.\n",
    "\n",
    "Utilizamos la clase `MinimumEigenOptimizer` para lanzar el proceso de optimizacion y le pasaremos la funcion de coste cuadratica del problema que deseamos optimizar para que evalue los costes y encuentre el minimo"
   ]
  },
  {
   "cell_type": "markdown",
   "metadata": {
    "id": "HsYFjCC3ohAs"
   },
   "source": [
    "Para el primer paso vamos a usar el circuito variacional [TwoLocal](https://qiskit.org/documentation/stubs/qiskit.circuit.library.TwoLocal.html). En principio, si no se tiene informacion sobre el espacio de estados que ha de buscarse, se construye un circuito heurístico de este tipo que suele dar buenso resultados. La versatilidad de su configuracion, nos permite crear un espacio de busqueda de estados muy amplio. Tambien hay que tener en cuenta que hay siempre un compromiso en la eleccion del numero de parametros de busqueda que si por ejemplo, es muy alto nos dará mas precision en la solucion pero menor velocidad de convergencia.\n",
    "\n",
    "Probamos varios circuitos `TwoLocal` y podemos probar varias configuraciones para ver el tipo de cirsuitos que genera."
   ]
  },
  {
   "cell_type": "code",
   "execution_count": null,
   "metadata": {
    "id": "Gjq8qqmronGU",
    "tags": []
   },
   "outputs": [],
   "source": [
    "n=5\n",
    "#ansatz = TwoLocal(3, 'ry', 'cx', 'linear', reps=2, insert_barriers=True)\n",
    "ansatz =TwoLocal(n, \"ry\", \"cz\", reps=3, entanglement=\"full\")\n",
    "print(ansatz.num_parameters)\n",
    "ansatz.decompose().draw(fold=-1)"
   ]
  },
  {
   "cell_type": "markdown",
   "metadata": {
    "id": "29epwaRNqQxc"
   },
   "source": [
    "Resolveremos ahora el problema de optimizacion con la clase [`SamplingVQE`](https://qiskit-community.github.io/qiskit-algorithms/stubs/qiskit_algorithms.SamplingVQE.html#qiskit_algorithms.SamplingVQE) y las librerías `Runtime`\n",
    "\n",
    "En este caso necesitamos un Hamiltoniano, así que tomamos el Hamiltoniano de Ising que hemos optenido en el paso de convertir el `Quadratic Program` a QUBO y ISING."
   ]
  },
  {
   "cell_type": "markdown",
   "metadata": {},
   "source": [
    "#### EJERCICIO"
   ]
  },
  {
   "cell_type": "markdown",
   "metadata": {},
   "source": [
    "Utiliza el método `compute_minimum_eigenvalue()` de la clase [`SamplingVQE`](https://qiskit-community.github.io/qiskit-algorithms/stubs/qiskit_algorithms.SamplingVQE.html#qiskit_algorithms.SamplingVQE) para resolver la optimizacion del operador H (el problema formulado como Ising), encontrando el vector propio de minima energia.\n",
    "\n",
    "Investiga la clase de resultado que devuelve este algoritmo [SamplingVQEResult](https://qiskit-community.github.io/qiskit-algorithms/stubs/qiskit_algorithms.SamplingVQEResult.html) y utilizando el metodo `best_measuretments()` imprime el resultado binario y dibuja el grafo obteindo de la minimizacion."
   ]
  },
  {
   "cell_type": "code",
   "execution_count": null,
   "metadata": {
    "tags": []
   },
   "outputs": [],
   "source": [
    "ansatz = TwoLocal(n, 'ry', 'cz')\n",
    "opt = SPSA(maxiter=50)\n",
    " \n",
    "# shot-based simulation\n",
    "sampler = Sampler(options={\"shots\": 2048})\n",
    "vqe = SamplingVQE(sampler, ansatz, opt, aggregation=0.2)\n",
    "\n",
    "#find min eigenvalue\n",
    "result = #your code\n",
    "print(result)\n",
    "\n",
    "#display results in the graph\n",
    "nd=# your code, create a list of labels for nodes of the type array([0,0,1,1,1])\n",
    "print(nd)\n",
    "maxcut.draw(nd,pos=pos)"
   ]
  },
  {
   "cell_type": "markdown",
   "metadata": {},
   "source": [
    "Tenemos la resolucion del VQE que nos da tambien los parametros del `Ansatz` que construyen el estado que minimiza la energia y podemos encontrar el estado a partir del circuito parametrico. Para ello lo calculamos a partir de los resultados del algoritmo. Vease la clase [SamplingVQEResult](https://qiskit-community.github.io/qiskit-algorithms/stubs/qiskit_algorithms.SamplingVQEResult.html) donde estan los metodos que necesitamos para este calculo"
   ]
  },
  {
   "cell_type": "markdown",
   "metadata": {
    "tags": []
   },
   "source": [
    "#### EJERCICIO"
   ]
  },
  {
   "cell_type": "markdown",
   "metadata": {},
   "source": [
    "Investiga la estructura de la clase de los resultados ejecutando la instruccion `dir(result)`\n",
    "\n",
    "Muestra el circuito variacional optimo que ha encontrado el optimizador, ejecuta el circuito y muestra el histograma de salida, para ver el estado optimo que hemos encontrado"
   ]
  },
  {
   "cell_type": "code",
   "execution_count": null,
   "metadata": {},
   "outputs": [],
   "source": [
    "dir(result)"
   ]
  },
  {
   "cell_type": "code",
   "execution_count": null,
   "metadata": {
    "tags": []
   },
   "outputs": [],
   "source": [
    "#podemos ver el circuito optimo\n",
    "\n",
    "#podemos ejecutarlo, uno de esos estados que ha muestreado el circuito variacional ha dado minima energia\n",
    "circuit = \n",
    "\n",
    "# Hacemos un transpile del circuito para el simulador\n",
    "simulator = Aer.get_backend('aer_simulator')\n",
    "circ = transpile(circuit, simulator)  #opcional\n",
    "\n",
    "# lo corremos y obtenemos los resultados\n"
   ]
  },
  {
   "cell_type": "markdown",
   "metadata": {
    "id": "MDy07oSamWWc",
    "tags": []
   },
   "source": [
    "#### QAOA"
   ]
  },
  {
   "cell_type": "markdown",
   "metadata": {
    "id": "GNxcLhdWmdu1"
   },
   "source": [
    "Utilizaremos el algoritmo Qantum Approximate Optimization Algorithm (QAOA) para resolver el problema de MaxCut. Este es otro algoritmo que utiliza un circuito variacional definido internamente y no necesitamos crear ningun `Ansatz`explicitamente.\n",
    "\n",
    "Para ejecutarlo necesitamos los pasos previos anteriores:\n",
    "\n",
    "1) Seleccionar una funcion de optimizacion clasica que nos guia para encontrar el minimo.\n",
    "\n",
    "2) Definimos un backend de ejecucion, un simulador\n",
    "\n",
    "Después usaremos la clase `QAOA` de Qiskit para definir el optimizador y le pasaremos la funcion de optimizacion y el backend de ejecucion. Tambien tendremos que especificar el numero de repeticiones que ejecutaremos en el algoritmo `QAOA`.\n",
    "\n",
    "Utilizamos la clase `MinimumEigenOptimizer` para lanzar el proceso de optimizacion y le pasaremos la funcion de coste cuadratica del problema que queremos optimizar para que evalue los costes y encuentre el minimo"
   ]
  },
  {
   "cell_type": "markdown",
   "metadata": {},
   "source": [
    "#### EJERCICIO"
   ]
  },
  {
   "cell_type": "markdown",
   "metadata": {},
   "source": [
    "Utiliza el método `compute_minimum_eigenvalue()` de la clase [`QAOA`](https://qiskit-community.github.io/qiskit-algorithms/stubs/qiskit_algorithms.QAOA.html) para resolver la optimizacion del operador H (el problema formulado como Ising), encontrando el vector propio de minima energia.\n",
    "\n",
    "La clase `QAOA` se contruye a partir de la clase `SamplingVQE`por lo que devuelve la misma clase de resultados, [SamplingVQEResult](https://qiskit-community.github.io/qiskit-algorithms/stubs/qiskit_algorithms.SamplingVQEResult.html). Utiliza el metodo `best_measuretments()` imprime el resultado binario y dibuja el grafo obteindo de la minimizacion."
   ]
  },
  {
   "cell_type": "code",
   "execution_count": null,
   "metadata": {
    "tags": []
   },
   "outputs": [],
   "source": [
    "# shot-based simulation\n",
    "sampler = Sampler()\n",
    " \n",
    "optimizer = COBYLA()\n",
    "qaoa = QAOA(sampler, optimizer, reps=2) #include number of repetitions for QAOA\n",
    " \n",
    "#find min eigenvalue\n",
    "result = #yout code\n",
    "print(result)\n",
    "\n",
    "#display results in the graph\n",
    "nd= #your code\n",
    "print(nd)\n",
    "maxcut.draw(nd,pos=pos)"
   ]
  },
  {
   "cell_type": "markdown",
   "metadata": {},
   "source": [
    "#### EJERCICIO"
   ]
  },
  {
   "cell_type": "markdown",
   "metadata": {},
   "source": [
    "Muestra el circuito variacional optimo que ha encontrado el optimizador, ejecuta el circuito y muestra el histograma de salida, para ver el estado optimo que hemos encontrado"
   ]
  },
  {
   "cell_type": "code",
   "execution_count": null,
   "metadata": {},
   "outputs": [],
   "source": [
    "#podemos ver el circuito optimo\n",
    "\n",
    "#podemos ejecutarlo, uno de esos estados que ha muestreado el circuito variacional ha dado minima energia\n",
    "circuit = \n",
    "\n",
    "# Hacemos un transpile del circuito para el simulador\n",
    "simulator = Aer.get_backend('aer_simulator')\n",
    "circ = transpile(circuit, simulator)  #opcional\n",
    "\n",
    "# lo corremos y obtenemos los resultados\n"
   ]
  }
 ],
 "metadata": {
  "colab": {
   "authorship_tag": "ABX9TyN53r9sH6rpmf13B/ScONoy",
   "provenance": []
  },
  "kernelspec": {
   "display_name": "Qiskit v0.45.2 (ipykernel)",
   "language": "python",
   "name": "python3"
  },
  "language_info": {
   "codemirror_mode": {
    "name": "ipython",
    "version": 3
   },
   "file_extension": ".py",
   "mimetype": "text/x-python",
   "name": "python",
   "nbconvert_exporter": "python",
   "pygments_lexer": "ipython3",
   "version": "3.10.8"
  },
  "widgets": {
   "application/vnd.jupyter.widget-state+json": {
    "state": {},
    "version_major": 2,
    "version_minor": 0
   }
  }
 },
 "nbformat": 4,
 "nbformat_minor": 4
}
