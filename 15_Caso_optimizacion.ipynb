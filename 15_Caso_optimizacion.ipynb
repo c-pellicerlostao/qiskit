{
 "cells": [
  {
   "cell_type": "markdown",
   "metadata": {},
   "source": [
    "<div>\n",
    "<img src=\"https://www.nebrija.com/images/logos/logotipo-universidad-nebrija.jpg\" width=\"200\">\n",
    "</div>\n",
    "\n",
    "**ALGORITMOS** -\n",
    "Prof: Carmen Pellicer Lostao"
   ]
  },
  {
   "cell_type": "markdown",
   "metadata": {},
   "source": [
    "# Optimizacion de Carteras o Portfolio\n"
   ]
  },
  {
   "cell_type": "markdown",
   "metadata": {},
   "source": [
    "En este notebook vamos a utilizar el método de optimizacion de carteras de activos llamado MVO (Mean Variance Optimization) para calcular la composicion optima de una cartera. Resolveremos este ejercicio de forma clásica y cuantica, utilizando [algoritmos cuánticos variacionales](https://learning.quantum-computing.ibm.com/course/variational-algorithm-design) de optimizacion.\n",
    "\n",
    "Dado un conjunto de $n$ activos $A_1, A_2,...,A_n$ podemos encontrar la composicion de una cartera optima expresada con un vector de pesos binario $x \\in \\{0, 1\\}^n$, tal que maximice para el inversor los beneficios descontando riesgos (o que minimice la expresion opuesta)."
   ]
  },
  {
   "cell_type": "markdown",
   "metadata": {
    "tags": []
   },
   "source": [
    "## Método de optimizacion de carteras de activos llamado MVO (Mean Variance Optimization) "
   ]
  },
  {
   "cell_type": "markdown",
   "metadata": {},
   "source": [
    "El método MVO se basa en la hipotesis de que la distribucion de rentabilidades diarias de las acciones es normal y mide el beneficio como la media de esta distribucion y el riesgo como su varianza.\n",
    "\n",
    "La rentabilidad y el riesgo de una cartera se modelan utilizando la *media* y la *varianza* de las fluctuaciones de los beneficios de los valores respectivamente.\n",
    "\n",
    "Sea P una cartera de valores $A_1, A_2,...A_n$ con pesos binarios $x_1, x_2,...x_n$ y las rentabilidades $\\mu_1, \\mu_2, ...\\mu_n$.\n",
    "\n",
    "La **rentabilidad de la cartera $\\mu$**  viene determinada por la suma de las medias ponderada de las rentabilidades diarias $\\mu_i$de los valores que la componen:\n",
    "\n",
    "$\\mu= \\mu^T x = \\Sigma_{i=1}^{n} x_i * \\mu_i$\n",
    "\n",
    "El **riesgo de la cartera $\\sigma$** es la desviacion estandar de la rentabilidad, que podemos calcular a partir de la matriz de covarianzas:\n",
    "\n",
    "$\\sigma = x^T \\sigma x = \\sqrt{\\Sigma_{i=1}^{n} \\Sigma_{j=1}^{n} x_i x_j \\sigma_{i,j}}$"
   ]
  },
  {
   "cell_type": "markdown",
   "metadata": {},
   "source": [
    "Por tanto, el método MVO propone que una cartera optima será aquella que cumpla la siguiente ecuacion:\n",
    "\n",
    "$$\\begin{aligned}\n",
    "\\min_{x \\in \\{0, 1\\}^n}  q x^T \\sigma x - \\mu^T x\\\\\n",
    "\\text{sujeto a que: } 1^T x = B\n",
    "\\end{aligned}$$\n",
    "\n",
    "donde se tiene:\n",
    "\n",
    "- $x \\in \\{0, 1\\}^n$ es un vector binario que indica si un valor esta o no en la cartera. Le llamamos el vector de decision, que indica que la acción $i$ esta en la cartera si $x[i] = 1$ y no esta si $x[i] = 0$,\n",
    "- $\\mu \\in \\mathbb{R}^n$ son las medias de las rentabilidades diarias de las acciones,\n",
    "- $\\sigma \\in \\mathbb{R}^{n \\times n}$ son las covarianzas entre las rentabilidades de las acciones, lo que varia una si varia otra,\n",
    "- $q > 0$ es un parametro con el que codificamos la afinidad al riesgo del inversor que diseña la cartera,\n",
    "- y $B$ es el presupuesto o 'budget', i.e. limita el numero de acciones que podemos seleccionar sin superarlo.\n",
    "\n",
    "La restriccion de que $1^T x = B$ se codifica como un termino de penalizacion $(1^T x - B)^2$ escalado por un parámetro y que se resta a la función objetivo o funcion de coste que vamos a minimizar. \n",
    "\n",
    "El problema resultante, es un problema QUBO (Quadratic Unconstrained Binary Optimization) y puede mapearse a una funcion de coste cuantica o Hamiltoniano cuyo estado minimo es la solucion optima.\n",
    "\n",
    "Utilizaremos dos metodos de optimizacion cuántica para resolverlo:\n",
    "- El Variational Quantum Eigensolver (VQE) \n",
    "- El Quantum Approximate Optimization Algorithm (QAOA)"
   ]
  },
  {
   "cell_type": "markdown",
   "metadata": {},
   "source": [
    "Instalamos la librería de algoritmos e importamos las librerias necesarias"
   ]
  },
  {
   "cell_type": "code",
   "execution_count": null,
   "metadata": {
    "tags": []
   },
   "outputs": [],
   "source": [
    "#!pip install qiskit-algorithms"
   ]
  },
  {
   "cell_type": "code",
   "execution_count": null,
   "metadata": {
    "tags": []
   },
   "outputs": [],
   "source": [
    "#!pip install qiskit_finance"
   ]
  },
  {
   "cell_type": "code",
   "execution_count": null,
   "metadata": {
    "ExecuteTime": {
     "end_time": "2020-07-13T20:35:05.710593Z",
     "start_time": "2020-07-13T20:34:57.647535Z"
    },
    "tags": []
   },
   "outputs": [],
   "source": [
    "from qiskit import Aer, transpile\n",
    "from qiskit.circuit.library import TwoLocal\n",
    "from qiskit.utils import QuantumInstance\n",
    "from qiskit.providers.fake_provider import FakeVigo\n",
    "from qiskit_optimization.algorithms import MinimumEigenOptimizer\n",
    "from qiskit_optimization.applications import OptimizationApplication\n",
    "from qiskit_optimization.converters import QuadraticProgramToQubo\n",
    "from qiskit_finance.applications.optimization import PortfolioOptimization\n",
    "from qiskit.utils import algorithm_globals\n",
    "from qiskit.quantum_info import Statevector\n",
    "from qiskit.tools.visualization import plot_histogram, plot_state_city\n",
    "\n",
    "from qiskit.primitives import Estimator  #RUNTIME PRIMITIVE ESTIMATOR\n",
    "from qiskit.circuit.library import TwoLocal\n",
    "\n",
    "import pandas as pd\n",
    "import numpy as np\n",
    "import matplotlib.pyplot as plt\n",
    "import datetime"
   ]
  },
  {
   "cell_type": "code",
   "execution_count": null,
   "metadata": {
    "tags": []
   },
   "outputs": [],
   "source": [
    "from qiskit.algorithms.minimum_eigensolvers import VQE, QAOA, SamplingVQE, NumPyMinimumEigensolver  # new import!!!\n",
    "from qiskit_algorithms import NumPyMinimumEigensolver\n",
    "\n",
    "from qiskit.algorithms.optimizers import SPSA, COBYLA, L_BFGS_B, SLSQP\n",
    "from qiskit.primitives import Estimator, Sampler\n",
    "from qiskit_ibm_runtime import QiskitRuntimeService, Session, Options, Sampler, Estimator"
   ]
  },
  {
   "cell_type": "markdown",
   "metadata": {},
   "source": [
    "### Seleccion de valores para la cartera"
   ]
  },
  {
   "cell_type": "markdown",
   "metadata": {},
   "source": [
    "Utilizamos las librerias de Yahoo Finance para obtener un historico de cotizaciones de los valores que queramos utilizar en el ejercicio.\n",
    "\n",
    "Algunos tickers de acciones que podriamos utilizar para el ejercicio podrían ser:\n",
    "\n",
    "- valores o tickers Dow Jones:\n",
    "\n",
    "['AAPL', 'AXP', 'BA', 'CAT', 'CSCO', 'CVX', 'DIS', 'GS', 'HD', 'IBM', 'INTC', 'JNJ', 'JPM', 'KO', 'MCD', 'MMM', 'MRK', 'MSFT', 'NKE', 'PFE', 'PG', 'TRV', 'UNH', 'UTX', 'V', 'VZ', 'WBA', 'WMT', 'XOM']\n",
    "\n",
    "- valores o tickers España Mercado Continuo podrían ser: \n",
    "\n",
    "['FDR.MC','AMS.MC','PHM.MC','IBE.MC','REE.MC','ENG.MC','CABK.MC','GRF.MC','SAB.MC','ACS.MC','BBVA.MC','MTS.MC','ELE.MC','FER.MC','CLNX.MC','BKT.MC','TEF.MC','ACX.MC','ITX.MC','MAP.MC','AENA.MC','SAN.MC','REP.MC','SGRE.MC','NTGY.MC','MEL.MC','IAG.MC','MRL.MC','COL.MC','ANA.MC']\n"
   ]
  },
  {
   "cell_type": "markdown",
   "metadata": {},
   "source": [
    "Instalamos las librerias"
   ]
  },
  {
   "cell_type": "code",
   "execution_count": null,
   "metadata": {
    "tags": []
   },
   "outputs": [],
   "source": [
    "#!pip install yfinance"
   ]
  },
  {
   "cell_type": "code",
   "execution_count": null,
   "metadata": {
    "tags": []
   },
   "outputs": [],
   "source": [
    "#!pip install yfinance\n",
    "import yfinance as yfin"
   ]
  },
  {
   "cell_type": "code",
   "execution_count": null,
   "metadata": {
    "tags": []
   },
   "outputs": [],
   "source": [
    "#Podemos obtner datos de valores de las cotizaciones bursatiles de Yahoo que usamos para nuestro proyecto\n",
    "tickers=['BBVA.MC', 'ACX.MC', 'NTGY.MC', 'REP.MC', 'CABK.MC']  #tomamos solo 5 valores, cada valor va a ser una variable binaria y requiere de 1 qubit\n",
    "num_assets=len(tickers)\n",
    "\n",
    "df_stocks = yfin.download(tickers=tickers, start='2023-01-01',end='2024-02-01')\n",
    "df_stocks_aclose=df_stocks['Adj Close']\n",
    "df_stocks_aclose.head()"
   ]
  },
  {
   "cell_type": "markdown",
   "metadata": {},
   "source": [
    "Preparamos los datos comprobando que no hay nulos y si los hay completamos los valores con las cotizaciones pasadas mas cercanas. \n",
    "\n",
    "Para ello transformamos un `DataFrame` para que los valores de cotizaciones que no vienen informados, tomen la cotizacion del dia anterior.\n",
    "\n",
    "Utilizamos los metodos `.fillna()` con valor `ffill` **fill forward** y luego `bfill ` **fill backwards** para completar los datos de cotizaciones sin introducir informacion adicional"
   ]
  },
  {
   "cell_type": "code",
   "execution_count": null,
   "metadata": {
    "tags": []
   },
   "outputs": [],
   "source": [
    "no_info=df_stocks_aclose.isnull().sum().sum()\n",
    "\n",
    "if  no_info != 0:\n",
    "    print('Hay datos no informados')\n",
    "    #ffill se debe de ejecutar primero para no meter datos del futuro (por si hacemos prediccion)\n",
    "    #rellena hacia abajo, hacia el futuro - si el primer dato del pasado esta vacio no se podra llenar\n",
    "    #se ejecuta entonces despues bfill para rellenar ese valor\n",
    "    df_stocks_aclose=df_stocks_aclose.fillna(method='ffill').fillna(method='bfill').head(10) #el priner metodo que se ejecuta es el mas interno y a su resultado ejecuta el externo\n",
    "        \n",
    "else:\n",
    "    print('Todos los datos estan informados')"
   ]
  },
  {
   "cell_type": "markdown",
   "metadata": {},
   "source": [
    "Creamos el vector de medias de beneficios y la matriz de covarianzas o riesgos"
   ]
  },
  {
   "cell_type": "code",
   "execution_count": null,
   "metadata": {
    "tags": []
   },
   "outputs": [],
   "source": [
    "stockReturns=pd.DataFrame()\n",
    "#computamos la rentabilidad diaria de cada accion\n",
    "stockReturns= (df_stocks_aclose/df_stocks_aclose.shift() - 1)* 100\n",
    "stockReturns.head()"
   ]
  },
  {
   "cell_type": "code",
   "execution_count": null,
   "metadata": {
    "tags": []
   },
   "outputs": [],
   "source": [
    "#quitamos la primera fila\n",
    "stockReturns.drop(labels=stockReturns.index[0], axis=0, inplace=True)\n",
    "stockReturns"
   ]
  },
  {
   "cell_type": "code",
   "execution_count": null,
   "metadata": {
    "tags": []
   },
   "outputs": [],
   "source": [
    "mu=stockReturns.mean().to_numpy()\n",
    "print('Vector de valores medios de los beneficios diarios de las acciones:',mu)"
   ]
  },
  {
   "cell_type": "code",
   "execution_count": null,
   "metadata": {
    "tags": []
   },
   "outputs": [],
   "source": [
    "stockReturns.hist(figsize=(10,10));"
   ]
  },
  {
   "cell_type": "code",
   "execution_count": null,
   "metadata": {
    "tags": []
   },
   "outputs": [],
   "source": [
    "#computamos la matriz de covarianzas de las rentabilidades \n",
    "sigma = stockReturns.cov().to_numpy()\n",
    "print('Matriz de varianza covarianza de las acciones:\\n', sigma)"
   ]
  },
  {
   "cell_type": "code",
   "execution_count": null,
   "metadata": {
    "tags": [
     "nbsphinx-thumbnail"
    ]
   },
   "outputs": [],
   "source": [
    "# plot sigma\n",
    "plt.imshow(sigma, interpolation=\"nearest\")\n",
    "plt.colorbar()\n",
    "plt.xticks(range(num_assets))\n",
    "plt.yticks(range(num_assets))\n",
    "plt.show()"
   ]
  },
  {
   "cell_type": "markdown",
   "metadata": {
    "tags": []
   },
   "source": [
    "## Definicion de la funcion de coste\n",
    "\n",
    "A partir de la funcion objetivo de la optimizacion de la cartera, construimos una clase que la expresa como un problema tipo CUBO a partir de la cual podemos construir el circuito de coste para la optimizacion.\n",
    "\n",
    "En Qiskit, exite una clase [`PortfolioOptimization`](https://qiskit-community.github.io/qiskit-finance/stubs/qiskit_finance.applications.PortfolioOptimization.html#) que nos permite escribir de una forma muy sencilla la funcion objetivo de la optimizacion de la cartera.\n",
    "\n",
    "Esta clase contiene el metodo `to_quadratic_program()` que permite formular la ecuacion como un operador hamiltoniano y construir de forma mas o menos inmediata el circuito para computar el coste en los pasos de optimizacion."
   ]
  },
  {
   "cell_type": "markdown",
   "metadata": {
    "tags": []
   },
   "source": [
    "#### EJERCICIO"
   ]
  },
  {
   "cell_type": "markdown",
   "metadata": {},
   "source": [
    "Obten el objeto `QuadraticProgram` de nuestro problema de optimizacion MVO y su formulacion como objetos QUBO y operador Ising."
   ]
  },
  {
   "cell_type": "code",
   "execution_count": null,
   "metadata": {
    "ExecuteTime": {
     "end_time": "2020-07-13T20:35:15.231767Z",
     "start_time": "2020-07-13T20:35:15.226490Z"
    },
    "tags": []
   },
   "outputs": [],
   "source": [
    "num_assets = len(tickers)\n",
    "q = 0.5  # fijamos un factor de riesgo para el diseño de la cartera optima\n",
    "budget = num_assets // 2  # fijamos un budget\n",
    "penalty = num_assets  # fijamos un parametro de penalizacion para incorporar la restriccion en el problema QUBO\n",
    "\n",
    "portfolio = PortfolioOptimization(\n",
    "    expected_returns=mu, covariances=sigma, risk_factor=q, budget=budget\n",
    ")\n",
    "\n",
    "qp = #tu codigo\n",
    "print(qp.prettyprint())"
   ]
  },
  {
   "cell_type": "code",
   "execution_count": 1,
   "metadata": {},
   "outputs": [],
   "source": [
    "#Para ver todos las propiedades y metodos de la clase PortfolioOptimization convertida a quadratic program\n",
    "#dir(qp)"
   ]
  },
  {
   "cell_type": "code",
   "execution_count": null,
   "metadata": {
    "tags": []
   },
   "outputs": [],
   "source": [
    "#converting to QUBO\n",
    "qubo = \n",
    "print(\"QUBO:\")\n",
    "print(str(qubo)+'\\n')\n",
    "\n",
    "#converting QUBO task to Ising Hamiltonian for simulation on quantum computer\n",
    "ising, offset = \n",
    "print(\"ISING Hamiltonian:\")\n",
    "print(ising)\n",
    "print(offset)"
   ]
  },
  {
   "cell_type": "markdown",
   "metadata": {
    "tags": []
   },
   "source": [
    "## Optimizacion clásica\n",
    "\n",
    "Vamos a resolver el problema de forma clásica para poder contrartar los resultados con la forma cuántica y ver que se optiene la misma solucion.\n",
    "\n",
    "Podemos hacer una optimizacion clásica utilizando las librerias numericas de python `numpy`. Esto esta ya programado en Qiskit gracias a la clase `NumPyMinimumEigensolver` a la que podemos pasar una funcion de coste en forma de programa cuadrático y nos devuelve la solucion optima con los datos en un diccionario.\n",
    "\n",
    "Esta clase, toma el operador hamiltoniano de la funcion de coste y calcula el valor propio minimo de forma numerica clasica."
   ]
  },
  {
   "cell_type": "markdown",
   "metadata": {},
   "source": [
    "#### EJERCICIO"
   ]
  },
  {
   "cell_type": "markdown",
   "metadata": {},
   "source": [
    "Utiliza el método `compute_minimum_eigenvalue` de la clase [`NumpyMinimumEigensolver`](https://qiskit-community.github.io/qiskit-algorithms/stubs/qiskit_algorithms.NumPyEigensolver.html) para resolver la optimizacion del operador H (el problema formulado como Ising el vector propio encontrando el vector propio de minima energia.\n",
    "\n",
    "Convierte en un objeto tipo `Statevector` el resultado e imprime el diccionario de probabilidades que tiene con el metodo `probabilities_dict()`"
   ]
  },
  {
   "cell_type": "code",
   "execution_count": null,
   "metadata": {
    "tags": []
   },
   "outputs": [],
   "source": [
    "#solve the optimization problem\n",
    "\n",
    "#create Statevector with the eigenvector or eigenstate and print the probabilities dictionary\n"
   ]
  },
  {
   "cell_type": "markdown",
   "metadata": {
    "tags": []
   },
   "source": [
    "## Optimizacion cuántica utilizando el algoritmo VQE\n",
    "\n",
    "Utilizaremos el algoritmo Variational Quantum Eigensolver (VQE) para resolver el problema de optimizacion de la cartera.\n",
    "\n",
    "Para ello necesitamos unos pasos previos:\n",
    "\n",
    "1) construir un circuito variacional o `ansatz` con unos parametros. Utilizaremos la clase [TwoLocal](https://qiskit.org/documentation/stubs/qiskit.circuit.library.TwoLocal.html) de Qiskit que construye un circuito variacional a conveniencia, con diferentes parametros y configuraciones.\n",
    "\n",
    "2) Seleccionar una funcion de optimizacion clasica que nos guia para encontrar el minimo.\n",
    "\n",
    "3) Definimos un backend de ejecucion, un simulador\n",
    "\n",
    "Después usaremos la clase `VQE` de Qiskit para definir el optimizador y le pasaremos el ansatz, la funcion de optimizacion y el backend de ejecucion.\n",
    "\n",
    "Utilizamos la clase `MinimumEigenOptimizer` para lanzar el proceso de optimizacion y le pasaremos la funcion de coste cuadratica del metodo MVO para que evalue los costes y encuentre el minimo"
   ]
  },
  {
   "cell_type": "markdown",
   "metadata": {},
   "source": [
    "#### EJERCICIO"
   ]
  },
  {
   "cell_type": "markdown",
   "metadata": {},
   "source": [
    "Utiliza el método `compute_minimum_eigenvalue()` de la clase [`SamplingVQE`](https://qiskit-community.github.io/qiskit-algorithms/stubs/qiskit_algorithms.SamplingVQE.html#qiskit_algorithms.SamplingVQE) para resolver la optimizacion del operador H (el problema formulado como Ising), encontrando el vector propio de minima energia.\n",
    "\n",
    "Investiga la clase de resultado que devuelve este algoritmo [SamplingVQEResult](https://qiskit-community.github.io/qiskit-algorithms/stubs/qiskit_algorithms.SamplingVQEResult.html) y utilizando el metodo `best_measuretments()` imprime el resultado binario y dibuja el grafo obteindo de la minimizacion."
   ]
  },
  {
   "cell_type": "code",
   "execution_count": null,
   "metadata": {
    "tags": []
   },
   "outputs": [],
   "source": [
    "n=num_assets\n"
   ]
  },
  {
   "cell_type": "markdown",
   "metadata": {},
   "source": [
    "#### EJERCICIO"
   ]
  },
  {
   "cell_type": "markdown",
   "metadata": {},
   "source": [
    "Muestra el circuito variacional optimo que ha encontrado el optimizador, ejecuta el circuito y muestra el histograma de salida, para ver el estado optimo que hemos encontrado"
   ]
  },
  {
   "cell_type": "code",
   "execution_count": null,
   "metadata": {},
   "outputs": [],
   "source": [
    "#podemos ver el circuito optimo\n",
    "\n",
    "\n",
    "#podemos ejecutarlo, uno de esos estados que ha muestreado el circuito variacional ha dado minima energia\n",
    "\n",
    "\n",
    "# Hacemos un transpile del circuito para el simulador\n",
    "simulator = Aer.get_backend('aer_simulator')\n",
    "circ = transpile(circuit, simulator)  #opcional\n",
    "\n",
    "# lo corremos y obtenemos los resultados"
   ]
  },
  {
   "cell_type": "markdown",
   "metadata": {
    "tags": []
   },
   "source": [
    "## Optimizacion cuántica utilizando el algoritmo QAOA\n",
    "\n",
    "Utilizaremos el algoritmo Qantum Approximate Optimization Algorithm (QAOA) para resolver el problema de optimizacion de la cartera. Este es otro algoritmo que utiliza un circuito variacional definido internamente y no necesitamos crearlo explicitamente.\n",
    "\n",
    "Para ejecutarlo necesitamos los pasos previos anteriores:\n",
    "\n",
    "1) Seleccionar una funcion de optimizacion clasica que nos guia para encontrar el minimo.\n",
    "\n",
    "2) Definimos un backend de ejecucion, un simulador\n",
    "\n",
    "Después usaremos la clase `QAOA` de Qiskit para definir el optimizador y le pasaremos el ansatz, la funcion de optimizacion y el backend de ejecucion. Tambien tendremos que especificar el numero de repeticiones que ejecutaremos en el algoritmo `QAOA`.\n",
    "\n",
    "Utilizamos la clase `MinimumEigenOptimizer` para lanzar el proceso de optimizacion y le pasaremos la funcion de coste cuadratica del metodo MVO para que evalue los costes y encuentre el minimo"
   ]
  },
  {
   "cell_type": "markdown",
   "metadata": {},
   "source": [
    "#### EJERCICIO"
   ]
  },
  {
   "cell_type": "markdown",
   "metadata": {},
   "source": [
    "Utiliza el método `compute_minimum_eigenvalue()` de la clase [`QAOA`](https://qiskit-community.github.io/qiskit-algorithms/stubs/qiskit_algorithms.QAOA.html) para resolver la optimizacion del operador H (el problema formulado como Ising), encontrando el vector propio de minima energia.\n",
    "\n",
    "La clase `QAOA` se contruye a partir de la clase `SamplingVQE`por lo que devuelve la misma clase de resultados, [SamplingVQEResult](https://qiskit-community.github.io/qiskit-algorithms/stubs/qiskit_algorithms.SamplingVQEResult.html). Utiliza el metodo `best_measuretments()` imprime el resultado binario y dibuja el grafo obteindo de la minimizacion."
   ]
  },
  {
   "cell_type": "code",
   "execution_count": 2,
   "metadata": {
    "tags": []
   },
   "outputs": [],
   "source": [
    "#resuelve el problema de optimizacion con el algoritmo QAOA\n"
   ]
  },
  {
   "cell_type": "markdown",
   "metadata": {},
   "source": [
    "#### EJERCICIO"
   ]
  },
  {
   "cell_type": "markdown",
   "metadata": {},
   "source": [
    "Muestra el circuito variacional optimo que ha encontrado el optimizador, ejecuta el circuito y muestra el histograma de salida, para ver el estado optimo que hemos encontrado"
   ]
  },
  {
   "cell_type": "code",
   "execution_count": null,
   "metadata": {},
   "outputs": [],
   "source": [
    "#podemos ver el circuito optimo\n",
    "\n",
    "\n",
    "#podemos ejecutarlo, uno de esos estados que ha muestreado el circuito variacional ha dado minima energia\n",
    "\n",
    "\n",
    "# Hacemos un transpile del circuito para el simulador\n",
    "simulator = Aer.get_backend('aer_simulator')\n",
    "circ = transpile(circuit, simulator)  #opcional\n",
    "\n",
    "# lo corremos y obtenemos los resultados\n"
   ]
  }
 ],
 "metadata": {
  "celltoolbar": "Tags",
  "kernelspec": {
   "display_name": "Qiskit v0.45.2 (ipykernel)",
   "language": "python",
   "name": "python3"
  },
  "language_info": {
   "codemirror_mode": {
    "name": "ipython",
    "version": 3
   },
   "file_extension": ".py",
   "mimetype": "text/x-python",
   "name": "python",
   "nbconvert_exporter": "python",
   "pygments_lexer": "ipython3",
   "version": "3.10.8"
  },
  "varInspector": {
   "cols": {
    "lenName": 16,
    "lenType": 16,
    "lenVar": 40
   },
   "kernels_config": {
    "python": {
     "delete_cmd_postfix": "",
     "delete_cmd_prefix": "del ",
     "library": "var_list.py",
     "varRefreshCmd": "print(var_dic_list())"
    },
    "r": {
     "delete_cmd_postfix": ") ",
     "delete_cmd_prefix": "rm(",
     "library": "var_list.r",
     "varRefreshCmd": "cat(var_dic_list()) "
    }
   },
   "types_to_exclude": [
    "module",
    "function",
    "builtin_function_or_method",
    "instance",
    "_Feature"
   ],
   "window_display": false
  },
  "widgets": {
   "application/vnd.jupyter.widget-state+json": {
    "state": {},
    "version_major": 2,
    "version_minor": 0
   }
  }
 },
 "nbformat": 4,
 "nbformat_minor": 4
}
