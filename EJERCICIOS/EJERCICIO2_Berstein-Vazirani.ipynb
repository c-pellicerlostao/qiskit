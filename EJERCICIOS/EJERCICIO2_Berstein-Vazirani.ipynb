{
 "cells": [
  {
   "cell_type": "markdown",
   "id": "89785f9e-7aaf-41c9-a083-84bca2c216e0",
   "metadata": {
    "id": "89785f9e-7aaf-41c9-a083-84bca2c216e0"
   },
   "source": [
    "<div>\n",
    "<img src=\"https://www.nebrija.com/images/logos/logotipo-universidad-nebrija.jpg\" width=\"200\">\n",
    "</div>\n",
    "\n",
    "**ALGORITMOS** -\n",
    "Prof: Carmen Pellicer Lostao"
   ]
  },
  {
   "cell_type": "markdown",
   "id": "8391e1bc-96c7-4014-9a13-9333da95b766",
   "metadata": {
    "id": "8391e1bc-96c7-4014-9a13-9333da95b766"
   },
   "source": [
    "# Algoritmo de Bernstein-Vazirani"
   ]
  },
  {
   "cell_type": "code",
   "execution_count": null,
   "id": "215f9631-1d14-4c4c-b782-5eeb514a2eec",
   "metadata": {
    "id": "215f9631-1d14-4c4c-b782-5eeb514a2eec",
    "outputId": "c0f0c873-81a4-4693-e943-af5bc9ce20d9",
    "tags": []
   },
   "outputs": [],
   "source": [
    "# initialisation\n",
    "import numpy as np\n",
    "import math, cmath\n",
    "\n",
    "# Importing standard Qiskit libraries\n",
    "from qiskit.providers.aer import Aer, AerSimulator\n",
    "from qiskit import QuantumCircuit, transpile, assemble, Aer, IBMQ, execute\n",
    "from qiskit.providers.ibmq import least_busy, IBMQBackend\n",
    "from qiskit.tools.jupyter import *\n",
    "\n",
    "# basic plot tools\n",
    "from qiskit.visualization import plot_histogram\n",
    "from qiskit.visualization import plot_bloch_multivector\n",
    "from qiskit.visualization import array_to_latex\n",
    "\n",
    "# Loading your IBM Quantum account(s)\n",
    "provider = IBMQ.load_account()\n"
   ]
  },
  {
   "cell_type": "markdown",
   "id": "a49c72cd-eda4-4d8f-ac1a-b11e8b828665",
   "metadata": {
    "id": "a49c72cd-eda4-4d8f-ac1a-b11e8b828665"
   },
   "source": [
    "#### EJERCICIO\n",
    "\n",
    "Crea las siguientes funciones auxiliares:\n",
    "\n",
    "- __count_to_digital_values__: una funcion que tome el resultado de cuenas del histograma de salida de una ejecucion de una funcion binaria de n a 1 qubit cuantica y los imprima en el siguiente formato:\n",
    "```\n",
    "INPUT------OUTPUT-----count----percent\n",
    "000 ------ 0 ----- 106 ----- 0.103515625\n",
    "001 ------ 1 ----- 136 ----- 0.1328125\n",
    "010 ------ 1 ----- 135 ----- 0.1318359375\n",
    "011 ------ 0 ----- 141 ----- 0.1376953125\n",
    "100 ------ 1 ----- 104 ----- 0.1015625\n",
    "101 ------ 0 ----- 125 ----- 0.1220703125\n",
    "110 ------ 0 ----- 135 ----- 0.1318359375\n",
    "111 ------ 1 ----- 142 ----- 0.138671875\n",
    "shots totales 1024\n",
    "```\n",
    "- __get_probabilities__: que tome como entrada un vector de estados y devuelva las probabilidades de todos sus compoentes\n",
    "- __get__phases__: que tome como entrada un vector de estados y devuelva las fases de todos sus compoentes\n"
   ]
  },
  {
   "cell_type": "code",
   "execution_count": null,
   "id": "dc8b3e00-0fd9-402e-9355-b6d23644bff6",
   "metadata": {
    "id": "dc8b3e00-0fd9-402e-9355-b6d23644bff6",
    "tags": []
   },
   "outputs": [],
   "source": [
    "def count_to_digital_values(counts):\n",
    "\n",
    "\n",
    "def get_probabilities(svector):\n",
    "\n",
    "    \n",
    "def get_phases(svector):\n",
    "\n",
    "    "
   ]
  },
  {
   "cell_type": "markdown",
   "id": "58491b13-4c33-49d7-9c73-a0e1bd169423",
   "metadata": {
    "id": "58491b13-4c33-49d7-9c73-a0e1bd169423"
   },
   "source": [
    "# ORACULOS\n",
    "\n",
    "Podemos crear una __funcion de oráculo__ para n qubits que codifique el producto interno binario con una cadena dada $s$:\n",
    "\n",
    "$$f(\\{x_0,x_1,x_2,...\\}) \\rightarrow 0 \\textrm{ or } 1 \\textrm{ where } x_n \\textrm{ is }0 \\textrm{ or } 1$$\n",
    "\n",
    "$$f_s(x) = s \\cdot x \\mod 2$$"
   ]
  },
  {
   "cell_type": "markdown",
   "id": "fa8afaf0-1a4c-4a3f-b441-959e0c3ab746",
   "metadata": {
    "id": "fa8afaf0-1a4c-4a3f-b441-959e0c3ab746"
   },
   "source": [
    "## Oráculo para una cadena binaria dada"
   ]
  },
  {
   "cell_type": "markdown",
   "id": "sXTGecKVKYez",
   "metadata": {
    "id": "sXTGecKVKYez"
   },
   "source": [
    "#### EJERCICIO\n",
    "\n",
    "Dada una cadena $s$ de n bits, construye un circuito con n qubits de entrada y 1 qubit de salida, que compute el resultado de la funcion del oráculo de Berstein-Vazirani para una funcion caracterizada por esta cadena.\n",
    "\n",
    "Ejecuta el circuito y construye el histograma de resultados"
   ]
  },
  {
   "cell_type": "code",
   "execution_count": null,
   "id": "a61e218d-deb7-4d77-9e6a-8b9692ce5b9a",
   "metadata": {
    "id": "a61e218d-deb7-4d77-9e6a-8b9692ce5b9a",
    "outputId": "f6d05e64-65ba-488d-8524-7cb98f8b167a",
    "tags": []
   },
   "outputs": [],
   "source": [
    "n = 3 # number of qubits used to represent s\n",
    "s = '011'   # s2s1s0 the hidden binary string\n",
    "print('s', s)\n",
    "\n",
    "#creamos el circuito\n",
    "oracle_qc = \n",
    "\n",
    "# Apply the inner-product oracle\n",
    "\n",
    "\n",
    "#ponemos las puertas de medida\n",
    "\n",
    "\n",
    "#lo dibujamos\n",
    "\n",
    "\n",
    "#Medimos que resultados da este circuito funcion\n"
   ]
  },
  {
   "cell_type": "markdown",
   "id": "88ab431b-df00-4cb6-8c23-6c48bb71942d",
   "metadata": {
    "id": "88ab431b-df00-4cb6-8c23-6c48bb71942d"
   },
   "source": [
    "Si ponemos los n __qubits del input__ en superposicion vemos que es la funcion que realiza la operacion que hemos definado. Estamos ejecutando todas los valores de input posibles a la vez."
   ]
  },
  {
   "cell_type": "markdown",
   "id": "8m6alhV1LvZw",
   "metadata": {
    "id": "8m6alhV1LvZw"
   },
   "source": [
    "#### EJERCICIO\n",
    "\n",
    "Pon todos los n qubits de la entrada en superposicion y calcula la salida del ciruito.\n",
    "\n",
    "Para ello ejecuta el circuito, obten el histograma y muestra el resultado de las medidas obtendas con el siguiente formato:\n",
    "\n",
    "```\n",
    "INPUT------OUTPUT-----count----percent\n",
    "000 ------ 0 ----- 129 ----- 0.1259765625\n",
    "001 ------ 1 ----- 131 ----- 0.1279296875\n",
    "010 ------ 1 ----- 107 ----- 0.1044921875\n",
    "011 ------ 0 ----- 122 ----- 0.119140625\n",
    "100 ------ 0 ----- 127 ----- 0.1240234375\n",
    "101 ------ 1 ----- 122 ----- 0.119140625\n",
    "110 ------ 1 ----- 150 ----- 0.146484375\n",
    "111 ------ 0 ----- 136 ----- 0.1328125\n",
    "shots totales 1024\n",
    "```\n",
    "\n"
   ]
  },
  {
   "cell_type": "code",
   "execution_count": null,
   "id": "16e011ae-c408-4d5f-8ec0-d87d86f3019f",
   "metadata": {
    "id": "16e011ae-c408-4d5f-8ec0-d87d86f3019f",
    "outputId": "3cb894fd-a950-47ae-ca5d-6761177e10f7",
    "tags": []
   },
   "outputs": [],
   "source": [
    "n=3\n",
    "s = '011'   # s2s1s0 the hidden binary string\n",
    "print('s',s)\n",
    "\n",
    "#creamos el circuito\n",
    "oracle_qc = \n",
    "\n",
    "#ejecucion todas las entradas posibles de input en paralelo\n",
    "\n",
    "# Apply the inner-product oracle\n",
    "\n",
    "#ponemos las puertas de medida\n",
    "\n",
    "\n",
    "#lo dibujamos\n",
    "\n",
    "\n",
    "\n",
    "#Medimos que resultados da este circuito funcion\n"
   ]
  },
  {
   "cell_type": "markdown",
   "id": "c932a32b-8edc-427a-8a45-0219b2b1e5b7",
   "metadata": {
    "id": "c932a32b-8edc-427a-8a45-0219b2b1e5b7"
   },
   "source": [
    "## Oraculo con funcion aleatoria\n",
    "\n",
    "Con todo el codigo anterior definimos una funcion que de forma aleatoria va a decidir como crea el oraculo"
   ]
  },
  {
   "cell_type": "markdown",
   "id": "c4f98265-ceda-4acb-88dc-3f757db19dc8",
   "metadata": {
    "id": "c4f98265-ceda-4acb-88dc-3f757db19dc8"
   },
   "source": [
    "### EJERCICIO\n",
    "\n",
    "Crea una funcion de oráculo de n qubits que genere una cadena binaria aleatoria s y devuelva un circuito que computa la funcion $s.xmod(2)$ que viene caracterizada por ella "
   ]
  },
  {
   "cell_type": "code",
   "execution_count": null,
   "id": "4b42fdb6-e65e-46c8-8b8d-6f1323ff622f",
   "metadata": {
    "tags": []
   },
   "outputs": [],
   "source": [
    "#crea una cadena aleatoria s de longitud n bits\n"
   ]
  },
  {
   "cell_type": "code",
   "execution_count": null,
   "id": "c01f7b12-3611-44fb-b45e-127779842522",
   "metadata": {
    "id": "c01f7b12-3611-44fb-b45e-127779842522",
    "tags": []
   },
   "outputs": [],
   "source": [
    "### HACER LA FUNCION\n",
    "\n",
    "def bv_oracle(n):\n",
    "    #La funcion crea un objeto de QuantumCircuit y lo devuelve\n",
    "    #El circuito del oraculo tiene n qubit de entrada y uno de salida -> en total n+1 qubits\n",
    "\n",
    "    oracle_qc = \n",
    "\n",
    "    #crea una cadena aleatoria s de longitud n bits\n",
    "    s=\n",
    "    print('Creado BV-oraculo con s',s)\n",
    "    \n",
    "    #Crea el oraculo\n",
    "\n",
    "\n",
    "    oracle_qc.name = 'BV-Oracle' #to show in the display circuit\n",
    "    return oracle_qc"
   ]
  },
  {
   "cell_type": "markdown",
   "id": "55363dda-bd78-4d98-a64a-7b2d65712b71",
   "metadata": {
    "id": "55363dda-bd78-4d98-a64a-7b2d65712b71"
   },
   "source": [
    "Lo ejecutamos en superposicion para ver la salida de la funcion del oráculo"
   ]
  },
  {
   "cell_type": "code",
   "execution_count": null,
   "id": "45fde93f-569a-4a2b-8203-59382b42a031",
   "metadata": {
    "id": "45fde93f-569a-4a2b-8203-59382b42a031",
    "outputId": "762a4a47-f54c-4b35-f052-f0b0e6a3d47b",
    "tags": []
   },
   "outputs": [],
   "source": [
    "#Creamos un circuito de n qubits+1\n",
    "n=3\n",
    "circuit = \n",
    "\n",
    "#ponemos los qubits de entrada en superposicion\n",
    "\n",
    "\n",
    "# Le añadimos el oráculo con funcion aleatoria -> Utilizar el metodo.compose de la clase QuantumCircuit -> recordar el parametro inplace del metodo\n",
    "\n",
    "#ponemos las puertas de medida\n",
    "\n",
    "\n",
    "#Mostramos el circuito\n",
    "\n",
    "\n",
    "backend = Aer.get_backend('aer_simulator')\n",
    "\n",
    "#mostramos histograma resultado\n",
    "\n",
    "#mostramos la ejecucion de la funcion en binario\n"
   ]
  },
  {
   "cell_type": "markdown",
   "id": "03db4e26-50d4-4d68-b524-2e5c4d62c78e",
   "metadata": {
    "id": "03db4e26-50d4-4d68-b524-2e5c4d62c78e"
   },
   "source": [
    "# Ejecucion del Algoritmo de Berstein-Vazirani"
   ]
  },
  {
   "cell_type": "markdown",
   "id": "de4425ce-1548-42b2-b7b6-cd0107653cd7",
   "metadata": {
    "id": "de4425ce-1548-42b2-b7b6-cd0107653cd7"
   },
   "source": [
    "## Ejecucion Paso a Paso en el simulador\n",
    "\n",
    "Vamos a hacer una ejecucion paso a paso viendo el vector de estados. Para ello vamos definir una funcion que nos ayudará a visualizar el vector de estados paso a paso"
   ]
  },
  {
   "cell_type": "markdown",
   "id": "l8PQuYkvfmaL",
   "metadata": {
    "id": "l8PQuYkvfmaL"
   },
   "source": [
    "### EJERCICIO\n",
    "\n",
    "Construye una funcion que tome como entrada un ciruito cuantico, lo ejecute, obtenga el vector de estados resultado y muestre por pantalla su valor en formato latex, las probabilidades y las fases de cada componente del vector y la visualizacion de plot_bloch_multivector"
   ]
  },
  {
   "cell_type": "code",
   "execution_count": null,
   "id": "160b4f83-6382-4e37-b089-9912afc22f43",
   "metadata": {
    "id": "160b4f83-6382-4e37-b089-9912afc22f43"
   },
   "outputs": [],
   "source": [
    "def svector_viz(qc):\n",
    "    #tomamos un circuito sin medidas\n",
    "    #medimos el estado, hay que salvar el vector de estados del circuito (en lugar de poner puertas de medida)\n",
    "    \n",
    "    #ejecutamos en el simulador\n",
    "    \n",
    "    #obtenemos el vector de estados resultado\n",
    "    \n",
    "    #imprimimos el vector en latex\n",
    "    \n",
    "    #imprimimos las probabilidades de cada estado de la base\n",
    "    \n",
    "    #imprimimos las pases de cada estado de la base\n",
    "    \n",
    "    #visualizamos el plot_bloch_multivector\n"
   ]
  },
  {
   "cell_type": "markdown",
   "id": "7a86adba-9d0a-4c3b-b661-4c0e7619f677",
   "metadata": {
    "id": "7a86adba-9d0a-4c3b-b661-4c0e7619f677"
   },
   "source": [
    "Ejecutamos paso a paso el algoritmo, que no es más que poner en superposicion los estados de los qubits del registro de entrada y de salida:\n",
    "\n",
    "- en el registro de entrada, todos los qubits deben de estar en el estado |+>\n",
    "- en el registro de salida el qubit debe de estar en el estado |->\n",
    "\n",
    "El oraculo es aleatorio y el algoritmo nos dira en una sola ejecucion si la funcion es constante cuando el registro de entrada quede en estado |00...0>. En caso contrario la funcion es balanceada"
   ]
  },
  {
   "cell_type": "code",
   "execution_count": null,
   "id": "b1283e07-5222-4a61-8ab0-a8c67fe19e33",
   "metadata": {
    "id": "b1283e07-5222-4a61-8ab0-a8c67fe19e33",
    "outputId": "f0985e97-41f0-42b4-c15a-832b356d84f6"
   },
   "outputs": [],
   "source": [
    "#Creamos un circuito de n qubits+1\n",
    "n=3\n",
    "circuit = \n",
    "\n",
    "#PASO 1 - ponemos los qubits de entrada en superposicion\n",
    "\n",
    "\n",
    "#ponemos el qubit de salida\n",
    "\n",
    "#descomentar para mostrar el circuito y vector de estados en este paso\n",
    "#display(circuit.draw())\n",
    "#svector_viz(circuit)\n",
    "\n",
    "# PASO 2- Le añadimos el oráculo con funcion aleatoria\n",
    "\n",
    "\n",
    "\n",
    "#PASO 3 - Le añadimos las puertas Hadamard\n",
    "\n",
    "\n",
    "#PASO 4- ponemos las puertas de medida solo para los qubits de la entrada\n",
    "\n",
    "\n",
    "#PASO 5- Medimos resultados finales\n",
    "\n",
    "\n",
    "#mostramos histograma resultado"
   ]
  },
  {
   "cell_type": "markdown",
   "id": "566b9bb6-83be-4cca-8a67-aea84ce493e1",
   "metadata": {
    "id": "566b9bb6-83be-4cca-8a67-aea84ce493e1",
    "tags": []
   },
   "source": [
    "# Ejecucion en un Simulador con ruido"
   ]
  },
  {
   "cell_type": "markdown",
   "id": "f7083881-9fd7-456f-9976-469a2379c794",
   "metadata": {},
   "source": [
    "### EJERCICIO\n",
    "\n",
    "Ejecuta en un simulador con ruido el circuito con el algoritmo de Bersntein-Vazirani, para ello:\n",
    "\n",
    "- Creamos el circuito cuántico, que llamamos <b>bv_circuit </b>\n",
    "- Preparamos un simulador con el ruido de un dispositivo real, el `ibmq_vigo`.\n",
    "- Transpilamos el circuito y lo ejecutamos en el simulador"
   ]
  },
  {
   "cell_type": "code",
   "execution_count": null,
   "id": "7cda9a0e-413c-4f86-90a7-c89f5543681d",
   "metadata": {
    "id": "7cda9a0e-413c-4f86-90a7-c89f5543681d",
    "outputId": "72527290-2ec9-4fa6-c97b-1d364c63bcbb"
   },
   "outputs": [],
   "source": [
    "#Creamos un circuito de n qubits+1\n",
    "n=3\n",
    "circuit = \n",
    "\n",
    "#PASO 1 - ponemos los qubits de entrada en superposicion\n",
    "\n",
    "\n",
    "#ponemos el qubit de salida\n",
    "\n",
    "\n",
    "# PASO 2- Le añadimos el oráculo con funcion aleatoria\n",
    "\n",
    "\n",
    "#PASO 3 - Le añadimos las puertas Hadamard\n",
    "\n",
    "\n",
    "\n",
    "#PASO 4- ponemos las puertas de medida solo para los qubits de la entrada\n",
    "\n",
    "\n",
    "\n",
    "#Mostramos el circuito\n"
   ]
  },
  {
   "cell_type": "code",
   "execution_count": null,
   "id": "84cd980c-8a27-4149-8441-0d8bfd42adc6",
   "metadata": {},
   "outputs": [],
   "source": [
    "from qiskit.providers.fake_provider import FakeVigo\n",
    "\n",
    "# Tomamos un backend ruidoso ficticio de fake providers\n",
    "\n",
    "\n",
    "# creamos el simulador\n",
    "\n",
    "\n",
    "# Transpilamos el circuito para mapearlo a las puertas ruidosass\n",
    "\n",
    "\n",
    "# Ejecutamos el circuito y obtenemos el resultado"
   ]
  },
  {
   "cell_type": "markdown",
   "id": "a4e4a05a-33a8-4948-9321-08e2975b71c2",
   "metadata": {
    "id": "a4e4a05a-33a8-4948-9321-08e2975b71c2"
   },
   "source": [
    "# Ejecucion en un BackEnd cuántico real"
   ]
  },
  {
   "cell_type": "markdown",
   "id": "750a3b5b-c8bb-432a-95f8-7fc0c76ab9f7",
   "metadata": {},
   "source": [
    "### EJERCICIO\n",
    "\n",
    "Ejecuta en un backend real cuantico el circuito con el algoritmo de Bersntein-Vazirani, para ello:\n",
    "\n",
    "- Creamos el circuito cuántico, que llamamos <b>bv_circuit </b>\n",
    "- Lo ejecutamos primero en el simulador para ver si funciona bien antes de enviarlo a un BackEnd cuántico real\n",
    "- Buscamos el backend que este menos cargado de trabajos\n",
    "- Transpilamos el circuito y lo enviamos para ejecucion"
   ]
  },
  {
   "cell_type": "code",
   "execution_count": null,
   "id": "22f76996-5229-48d4-a3f1-6c7f296c0b4d",
   "metadata": {},
   "outputs": [],
   "source": [
    "#Construimos el circuito\n",
    "\n",
    "#ejecutamos en simulador para comprobar que esta ok"
   ]
  },
  {
   "cell_type": "code",
   "execution_count": null,
   "id": "18f62d58-da24-4aa8-9cfa-2e40a254b3f3",
   "metadata": {},
   "outputs": [],
   "source": [
    "# buscamos el backend menos ocupado - using a real qc backend: lest busy\n"
   ]
  },
  {
   "cell_type": "code",
   "execution_count": null,
   "id": "774f673a-22ad-4e09-9a0b-481f8c2d8b82",
   "metadata": {},
   "outputs": [],
   "source": [
    "#lanzamos la ejecucion del job"
   ]
  },
  {
   "cell_type": "markdown",
   "id": "2836ca88-b0ba-463c-a437-d099176692c2",
   "metadata": {},
   "source": [
    "Y cuando termine la ejecucion, consultaremos el resultado"
   ]
  }
 ],
 "metadata": {
  "colab": {
   "provenance": [],
   "toc_visible": true
  },
  "kernelspec": {
   "display_name": "Python 3 (ipykernel)",
   "language": "python",
   "name": "python3"
  },
  "language_info": {
   "codemirror_mode": {
    "name": "ipython",
    "version": 3
   },
   "file_extension": ".py",
   "mimetype": "text/x-python",
   "name": "python",
   "nbconvert_exporter": "python",
   "pygments_lexer": "ipython3",
   "version": "3.10.8"
  },
  "widgets": {
   "application/vnd.jupyter.widget-state+json": {
    "state": {},
    "version_major": 2,
    "version_minor": 0
   }
  }
 },
 "nbformat": 4,
 "nbformat_minor": 5
}
