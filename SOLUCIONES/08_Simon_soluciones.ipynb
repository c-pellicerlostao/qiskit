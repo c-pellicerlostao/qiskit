{
 "cells": [
  {
   "cell_type": "markdown",
   "id": "89785f9e-7aaf-41c9-a083-84bca2c216e0",
   "metadata": {
    "id": "89785f9e-7aaf-41c9-a083-84bca2c216e0"
   },
   "source": [
    "<div>\n",
    "<img src=\"https://www.nebrija.com/images/logos/logotipo-universidad-nebrija.jpg\" width=\"200\">\n",
    "</div>\n",
    "\n",
    "**ALGORITMOS** -\n",
    "Prof: Carmen Pellicer Lostao"
   ]
  },
  {
   "cell_type": "markdown",
   "id": "8391e1bc-96c7-4014-9a13-9333da95b766",
   "metadata": {
    "id": "8391e1bc-96c7-4014-9a13-9333da95b766"
   },
   "source": [
    "# Algoritmo de Simon"
   ]
  },
  {
   "cell_type": "code",
   "execution_count": 1,
   "id": "215f9631-1d14-4c4c-b782-5eeb514a2eec",
   "metadata": {
    "id": "215f9631-1d14-4c4c-b782-5eeb514a2eec",
    "outputId": "c0f0c873-81a4-4693-e943-af5bc9ce20d9",
    "tags": []
   },
   "outputs": [
    {
     "name": "stderr",
     "output_type": "stream",
     "text": [
      "/tmp/ipykernel_100/3406932148.py:17: DeprecationWarning: The qiskit.IBMQ entrypoint and the qiskit-ibmq-provider package (accessible from 'qiskit.providers.ibmq`) are deprecated and will be removed in a future release. Instead you should use the qiskit-ibm-provider package which is accessible from 'qiskit_ibm_provider'. You can install it with 'pip install qiskit_ibm_provider'. Just replace 'qiskit.IBMQ' with 'qiskit_ibm_provider.IBMProvider'\n",
      "  provider = IBMQ.load_account()\n"
     ]
    }
   ],
   "source": [
    "# initialisation\n",
    "import numpy as np\n",
    "import math, cmath\n",
    "\n",
    "# Importing standard Qiskit libraries\n",
    "from qiskit.providers.aer import Aer, AerSimulator\n",
    "from qiskit import QuantumCircuit, transpile, assemble, Aer, IBMQ, execute\n",
    "from qiskit.providers.ibmq import least_busy, IBMQBackend\n",
    "from qiskit.tools.jupyter import *\n",
    "\n",
    "# basic plot tools\n",
    "from qiskit.visualization import plot_histogram\n",
    "from qiskit.visualization import plot_bloch_multivector\n",
    "from qiskit.visualization import array_to_latex\n",
    "\n",
    "# Loading your IBM Quantum account(s)\n",
    "provider = IBMQ.load_account()\n"
   ]
  },
  {
   "cell_type": "markdown",
   "id": "58491b13-4c33-49d7-9c73-a0e1bd169423",
   "metadata": {
    "id": "58491b13-4c33-49d7-9c73-a0e1bd169423"
   },
   "source": [
    "# ORACULOS\n",
    "\n",
    "En el algoritmo de Simon tenemos una funcion de Oráculo desconocida $f$, que se garantiza que será uno a uno ($1:1$) o dos a uno ($2:1$), donde __uno-a-uno__ y __dos-a-uno__, significa que la funcion tiene las siguientes propiedades:\n",
    "\n",
    "- **uno-a-uno**: asigna exactamente una salida única para cada entrada. Un ejemplo con una función que toma 4 entradas es:\n",
    "\n",
    "$$f(1) \\rightarrow 1, \\quad f(2) \\rightarrow 2, \\quad f(3) \\rightarrow 3, \\quad f(4) \\rightarrow 4$$\n",
    "\n",
    "- **dos-a-uno**: asigna exactamente dos entradas a cada salida única. Un ejemplo con una función que toma 4 entradas es:\n",
    "\n",
    "$$f(1) \\rightarrow 1, \\quad f(2) \\rightarrow 2, \\quad f(3) \\rightarrow 1, \\quad f(4) \\rightarrow 2$$\n",
    "\n",
    "Y donde el mapeo dos-a-uno se realiza según una cadena de bits oculta, $s$, donde:\n",
    "\n",
    "$$\n",
    "\\textrm{dado }x_1,x_2: \\quad f(x_1) = f(x_2) \\\\\n",
    "\\textrm{está garantizado }: \\quad x_1 \\oplus x_2 = s\n",
    "$$\n",
    "\n",
    "Y resulta que ambos casos se reducen al mismo problema de encontrar $s$, donde una cadena de bits de $s={000...}$ representa el $f$ uno a uno.\n",
    "\n",
    "Podemos crear una __funcion de oráculo__ para n qubits que codifique una funcion binaria de este tipo."
   ]
  },
  {
   "cell_type": "markdown",
   "id": "30081aed-1214-49e0-86fe-0525aa9f70a1",
   "metadata": {},
   "source": [
    "#### EJERCICIO\n",
    "\n",
    "Escribe una funcion que tome dos cadenas de bits $x1$ y $x2$ devuelva la cadena $s$ que cumple $x_1 \\oplus x_2 = s$\n"
   ]
  },
  {
   "cell_type": "code",
   "execution_count": 2,
   "id": "b0c80134-2ec7-4975-9a54-f7b768c89efd",
   "metadata": {
    "tags": []
   },
   "outputs": [],
   "source": [
    "def xor_bitstrings(bitstring1, bitstring2):\n",
    "    ''' input are two strings of length n bits\n",
    "        output one string of n bits with bitstring1 XOR bitstring2 operation\n",
    "    '''\n",
    "    # Ensure both bit strings are of the same length\n",
    "    if len(bitstring1) != len(bitstring2):\n",
    "        raise ValueError(\"Bit strings must be of the same length\")\n",
    "\n",
    "    # Use a list comprehension to calculate the XOR of corresponding bits\n",
    "    # ^ bit XOR operation\n",
    "    result = [str(int(bit1) ^ int(bit2)) for bit1, bit2 in zip(bitstring1, bitstring2)]\n",
    "\n",
    "    # Join the list of XOR results to form the final bit string\n",
    "    xor_result = ''.join(result)\n",
    "\n",
    "    return xor_result"
   ]
  },
  {
   "cell_type": "code",
   "execution_count": 3,
   "id": "8e3ea2e4-fa9d-4ba6-9425-5444d51bb780",
   "metadata": {
    "tags": []
   },
   "outputs": [
    {
     "name": "stdout",
     "output_type": "stream",
     "text": [
      "The XOR of 00 and 01 is: 01\n"
     ]
    }
   ],
   "source": [
    "# Example usage:\n",
    "bitstring1 = \"00\"\n",
    "bitstring2 = \"01\"\n",
    "result = xor_bitstrings(bitstring1, bitstring2)\n",
    "\n",
    "print(f\"The XOR of {bitstring1} and {bitstring2} is: {result}\")"
   ]
  },
  {
   "cell_type": "markdown",
   "id": "fa8afaf0-1a4c-4a3f-b441-959e0c3ab746",
   "metadata": {
    "id": "fa8afaf0-1a4c-4a3f-b441-959e0c3ab746"
   },
   "source": [
    "## Oráculo para una cadena binaria dada"
   ]
  },
  {
   "cell_type": "markdown",
   "id": "3a603f46-314d-4b6a-82fa-fb075addf534",
   "metadata": {
    "tags": []
   },
   "source": [
    "### EJERCICIO\n",
    "\n",
    "Dada la siguiente funcion binaria (2:1) de n= 2 bits:\n",
    "\n",
    "```\n",
    "x_1 x_0   f(x_1 x_0)$\n",
    "0   0       0   0\n",
    "0   1       1   1\n",
    "1   0       1   1\n",
    "1   1       0   0\n",
    "```\n",
    "\n",
    "Calcula mediante un programa la cadena $s$ que cumple que:\n",
    "\n",
    "$$\n",
    "\\textrm{dado }x_1,x_2: \\quad f(x_1) = f(x_2) \\\\\n",
    "\\textrm{está garantizado }: \\quad x_1 \\oplus x_2 = s\n",
    "$$"
   ]
  },
  {
   "cell_type": "code",
   "execution_count": 4,
   "id": "4058e87b-e2c5-486f-8271-f062395aea2b",
   "metadata": {
    "tags": []
   },
   "outputs": [
    {
     "name": "stdout",
     "output_type": "stream",
     "text": [
      "11\n",
      "11\n"
     ]
    }
   ],
   "source": [
    "# utiliza la funcion xor anterior y computa la cadena b a partir de los valores de x1 y x2 que cumplen f(x1=f(x2)\n",
    "\n",
    "x1 = \"00\"\n",
    "x2 = \"11\"\n",
    "result = xor_bitstrings(x1, x2)\n",
    "print(result)\n",
    "\n",
    "x1 = \"01\"\n",
    "x2 = \"10\"\n",
    "result = xor_bitstrings(x1, x2)\n",
    "print(result)\n"
   ]
  },
  {
   "cell_type": "markdown",
   "id": "C7G4pTXlABw-",
   "metadata": {
    "id": "C7G4pTXlABw-"
   },
   "source": [
    "Utiliza el Composer para construir un circuito sea un Oráculo de Simon con esta cadena $s$\n",
    "\n",
    "Ponemos los n qubits del input en superposicion y la ejecutamos para ver que es la funcion que realiza la operacion que hemos definido. Estamos ejecutando todos los valores de input posibles a la vez. "
   ]
  },
  {
   "cell_type": "code",
   "execution_count": 5,
   "id": "00714734-f8ac-46ba-b857-67dc2701190e",
   "metadata": {
    "tags": []
   },
   "outputs": [
    {
     "data": {
      "image/png": "[encoded data removed]",
      "text/plain": [
       "<Figure size 789.163x451.5 with 1 Axes>"
      ]
     },
     "metadata": {},
     "output_type": "display_data"
    },
    {
     "data": {
      "image/png": "[encoded data removed]",
      "text/plain": [
       "<Figure size 700x500 with 1 Axes>"
      ]
     },
     "metadata": {},
     "output_type": "display_data"
    }
   ],
   "source": [
    "from qiskit import QuantumRegister, ClassicalRegister, QuantumCircuit\n",
    "from numpy import pi\n",
    "\n",
    "qreg_q = QuantumRegister(4, 'q')\n",
    "creg_c = ClassicalRegister(4, 'c')\n",
    "circuit = QuantumCircuit(qreg_q, creg_c)\n",
    "\n",
    "circuit.h(qreg_q[0])\n",
    "circuit.h(qreg_q[1])\n",
    "circuit.cx(qreg_q[0], qreg_q[3])\n",
    "circuit.cx(qreg_q[1], qreg_q[3])\n",
    "circuit.cx(qreg_q[0], qreg_q[2])\n",
    "circuit.cx(qreg_q[1], qreg_q[2])\n",
    "\n",
    "#ponemos las puertas de medida\n",
    "for i in range(4):\n",
    "    circuit.measure(i, i)\n",
    "\n",
    "#lo dibujamos\n",
    "display(circuit.draw('mpl'))\n",
    "\n",
    "\n",
    "#Medimos que resultados da este circuito funcion\n",
    "backend = Aer.get_backend('aer_simulator')\n",
    "counts=backend.run(circuit).result().get_counts()\n",
    "display(plot_histogram(counts))"
   ]
  },
  {
   "cell_type": "markdown",
   "id": "495817c3-85cb-47df-87cc-5f52cdb21f38",
   "metadata": {},
   "source": [
    "#### EJERCICIO\n",
    "\n",
    "Dada una cadena de n=2 bits, construye un circuito con n qubits de entrada y n qubits de salida, que compute el resultado de la funcion (2:1) del oráculo de Simon siguiente:\n",
    "\n",
    "```\n",
    "x_1 x_0   f(x_1 x_0)$\n",
    "0   0       0   0\n",
    "0   1       0   1\n",
    "1   0       0   0\n",
    "1   1       0   1\n",
    "```\n",
    "\n",
    "Calcula mediante un programa la cadena $s$ que cumple que:\n",
    "\n",
    "$$\n",
    "\\textrm{dado }x_1,x_2: \\quad f(x_1) = f(x_2) \\\\\n",
    "\\textrm{está garantizado }: \\quad x_1 \\oplus x_2 = s\n",
    "$$"
   ]
  },
  {
   "cell_type": "code",
   "execution_count": 6,
   "id": "6a6bef05-7278-49f9-aa86-334ad73855b2",
   "metadata": {
    "tags": []
   },
   "outputs": [
    {
     "name": "stdout",
     "output_type": "stream",
     "text": [
      "10\n",
      "10\n"
     ]
    }
   ],
   "source": [
    "# utiliza la funcion xor anterior y computa la cadena b a partir de los valores de x1 y x2 que cumplen f(x1=f(x2)\n",
    "\n",
    "x1 = \"00\"\n",
    "x2 = \"10\"\n",
    "result = xor_bitstrings(x1, x2)\n",
    "print(result)\n",
    "\n",
    "x1 = \"01\"\n",
    "x2 = \"11\"\n",
    "result = xor_bitstrings(x1, x2)\n",
    "print(result)\n"
   ]
  },
  {
   "cell_type": "markdown",
   "id": "sXTGecKVKYez",
   "metadata": {
    "id": "sXTGecKVKYez"
   },
   "source": [
    "Utiliza el Composer para construir un circuito sea un Oráculo de Simon con esta cadena $s$\n",
    "\n",
    "Ponemos los n qubits del input en superposicion y la ejecutamos para ver que es la funcion que realiza la operacion que hemos definado. Estamos ejecutando todas los valores de input posibles a la vez. "
   ]
  },
  {
   "cell_type": "code",
   "execution_count": 7,
   "id": "a61e218d-deb7-4d77-9e6a-8b9692ce5b9a",
   "metadata": {
    "id": "a61e218d-deb7-4d77-9e6a-8b9692ce5b9a",
    "outputId": "f6d05e64-65ba-488d-8524-7cb98f8b167a",
    "tags": []
   },
   "outputs": [
    {
     "data": {
      "image/png": "[encoded data removed]",
      "text/plain": [
       "<Figure size 538.33x451.5 with 1 Axes>"
      ]
     },
     "metadata": {},
     "output_type": "display_data"
    },
    {
     "data": {
      "image/png": "[encoded data removed]",
      "text/plain": [
       "<Figure size 700x500 with 1 Axes>"
      ]
     },
     "metadata": {},
     "output_type": "display_data"
    }
   ],
   "source": [
    "qreg_q = QuantumRegister(4, 'q')\n",
    "creg_c = ClassicalRegister(4, 'c')\n",
    "circuit = QuantumCircuit(qreg_q, creg_c)\n",
    "\n",
    "qreg_q = QuantumRegister(4, 'q')\n",
    "creg_c = ClassicalRegister(4, 'c')\n",
    "circuit = QuantumCircuit(qreg_q, creg_c)\n",
    "\n",
    "circuit.h(qreg_q[0])\n",
    "circuit.h(qreg_q[1])\n",
    "circuit.cx(qreg_q[0], qreg_q[2])\n",
    "\n",
    "#ponemos las puertas de medida\n",
    "for i in range(4):\n",
    "    circuit.measure(i, i)\n",
    "\n",
    "#lo dibujamos\n",
    "display(circuit.draw('mpl'))\n",
    "\n",
    "\n",
    "#Medimos que resultados da este circuito funcion\n",
    "backend = Aer.get_backend('aer_simulator')\n",
    "counts=backend.run(circuit).result().get_counts()\n",
    "display(plot_histogram(counts))"
   ]
  },
  {
   "cell_type": "markdown",
   "id": "c4f98265-ceda-4acb-88dc-3f757db19dc8",
   "metadata": {
    "id": "c4f98265-ceda-4acb-88dc-3f757db19dc8"
   },
   "source": [
    "## Creacion de un oraculo aleatorio\n",
    "\n",
    "Creamos una funcion de oráculo para un numero de bits n que genera una cadena binaria aleatoria y devuelve un circuito que computa una funcion (2:1) que es un Oraculo de Simon caracterizado por esta cadena"
   ]
  },
  {
   "cell_type": "code",
   "execution_count": 8,
   "id": "c01f7b12-3611-44fb-b45e-127779842522",
   "metadata": {
    "id": "c01f7b12-3611-44fb-b45e-127779842522",
    "tags": []
   },
   "outputs": [],
   "source": [
    "### HACEMOS LA FUNCOIN DEL ORACULO\n",
    "\n",
    "def simon_oracle(n):\n",
    "    #La funcion crea un objeto de QuantumCircuit y lo devuelve\n",
    "    #El circuito del oraculo tiene n qubit de entrada y uno de salida -> en total n+1 qubits\n",
    "\n",
    "    oracle_qc = QuantumCircuit(2*n,n)\n",
    "    #generation of string s and printing it for further comprobations\n",
    "    s= ''.join([str(np.random.randint(2)) for b in range(n)])\n",
    "    print('s',s[::-1]) # la cadena caracteristica es esta, puesto que se codifica en el circuito tiene orden invertido de qubits\n",
    "    \n",
    "    #draw a barrier before oracle\n",
    "    oracle_qc.barrier()\n",
    "\n",
    "    # copy the content of the first register to the second register\n",
    "    for i in range(n):\n",
    "        oracle_qc.cx(i, n+i)\n",
    "\n",
    "    # get the least index j such that s_j is \"1\"\n",
    "    j = -1\n",
    "    for i, c in enumerate(s):\n",
    "        if c == \"1\":\n",
    "            j = i\n",
    "            break\n",
    "\n",
    "    # Creating 1-to-1 or 2-to-1 mapping with the j-th qubit of x as control to XOR the second register with s\n",
    "    for i, c in enumerate(s):\n",
    "        if c == \"1\" and j >= 0:\n",
    "            oracle_qc.cx(j, n+i) #the i-th qubit is flipped if s_i is 1\n",
    "\n",
    "    # get random permutation of n qubits\n",
    "    perm = list(np.random.permutation(n))\n",
    "\n",
    "    #initial position\n",
    "    init = list(range(n))\n",
    "    i = 0\n",
    "    while i < n:\n",
    "        if init[i] != perm[i]:\n",
    "            k = perm.index(init[i])\n",
    "            oracle_qc.swap(n+i, n+k) #swap qubits\n",
    "            init[i], init[k] = init[k], init[i] #marked swapped qubits\n",
    "        else:\n",
    "            i += 1\n",
    "\n",
    "    # randomly flip the qubit\n",
    "    for i in range(n):\n",
    "        if np.random.random() > 0.5:\n",
    "            oracle_qc.x(n+i)\n",
    "\n",
    "    # Apply the barrier to mark the end of the blackbox function\n",
    "    oracle_qc.barrier()\n",
    "\n",
    "\n",
    "    oracle_qc.name = 'Simon-Oracle' #to show in the display circuit\n",
    "    return oracle_qc"
   ]
  },
  {
   "cell_type": "markdown",
   "id": "55363dda-bd78-4d98-a64a-7b2d65712b71",
   "metadata": {
    "id": "55363dda-bd78-4d98-a64a-7b2d65712b71"
   },
   "source": [
    "#### EJERCICIO\n",
    "\n",
    "Lo ejecutamos en superposicion para ver la salida de la funcion del oráculo"
   ]
  },
  {
   "cell_type": "code",
   "execution_count": 9,
   "id": "45fde93f-569a-4a2b-8203-59382b42a031",
   "metadata": {
    "colab": {
     "base_uri": "https://localhost:8080/",
     "height": 245
    },
    "id": "45fde93f-569a-4a2b-8203-59382b42a031",
    "outputId": "011b08f2-a0c9-4287-ca2a-eff2661202fa",
    "tags": []
   },
   "outputs": [
    {
     "name": "stdout",
     "output_type": "stream",
     "text": [
      "s 11\n"
     ]
    },
    {
     "data": {
      "image/png": "[encoded data removed]",
      "text/plain": [
       "<Figure size 1040x451.5 with 1 Axes>"
      ]
     },
     "metadata": {},
     "output_type": "display_data"
    },
    {
     "data": {
      "image/png": "[encoded data removed]",
      "text/plain": [
       "<Figure size 700x500 with 1 Axes>"
      ]
     },
     "metadata": {},
     "output_type": "display_data"
    }
   ],
   "source": [
    "#Creamos un circuito de n qubits+1\n",
    "n=2\n",
    "circuit = QuantumCircuit(2*n, 2*n)\n",
    "\n",
    "#ponemos los qubits de entrada en superposicion\n",
    "for qubit in range(n):\n",
    "    circuit.h(qubit)\n",
    "\n",
    "# Le añadimos el oráculo con funcion aleatoria\n",
    "new_circuit = circuit.compose(simon_oracle(n),range(2*n))\n",
    "\n",
    "#ponemos las puertas de medida\n",
    "for i in range(2*n):\n",
    "    new_circuit.measure(i, i)\n",
    "    \n",
    "    \n",
    "#Mostramos el circuito\n",
    "display(new_circuit.draw())\n",
    "\n",
    "backend = Aer.get_backend('aer_simulator')\n",
    "#results = execute(new_circuit, backend=backend).result()\n",
    "#counts = results.get_counts()\n",
    "counts=backend.run(new_circuit, shots=5000).result().get_counts()\n",
    "\n",
    "#mostramos histograma resultado\n",
    "display(plot_histogram(counts))\n"
   ]
  },
  {
   "cell_type": "markdown",
   "id": "187c562e-e6fb-4310-88dd-f2ef7195ef02",
   "metadata": {},
   "source": [
    "Comprobamos que las cadenas que cumplen $ x_1 \\oplus x_2 = s$ son las que tienen el mismo resultado de la funcion del Oráculo"
   ]
  },
  {
   "cell_type": "code",
   "execution_count": 10,
   "id": "f827fbb7-63d0-4acc-ad5c-ed7bd1deee8b",
   "metadata": {
    "tags": []
   },
   "outputs": [
    {
     "data": {
      "text/plain": [
       "'11'"
      ]
     },
     "execution_count": 10,
     "metadata": {},
     "output_type": "execute_result"
    }
   ],
   "source": [
    "xor_bitstrings('01', '10')"
   ]
  },
  {
   "cell_type": "markdown",
   "id": "03db4e26-50d4-4d68-b524-2e5c4d62c78e",
   "metadata": {
    "id": "03db4e26-50d4-4d68-b524-2e5c4d62c78e"
   },
   "source": [
    "# Ejecucion del Algoritmo de Simon"
   ]
  },
  {
   "cell_type": "markdown",
   "id": "c4c98e9f-3eef-498f-ad8e-e6324bfff63b",
   "metadata": {},
   "source": [
    "#### EJERCICIO\n",
    "\n",
    "Construye un circuito que ejecute el algoritmo de Simon para un Oraculo aleatorio.\n",
    "\n",
    "Ejecutalo y obten los resultados de las medidas para determinar la cadena s del Oraculo en un proceso posterior de postprocesado."
   ]
  },
  {
   "cell_type": "code",
   "execution_count": 11,
   "id": "aa5ff97a-a95f-4545-8c1a-adab811ea3f7",
   "metadata": {
    "tags": []
   },
   "outputs": [
    {
     "name": "stdout",
     "output_type": "stream",
     "text": [
      "s 01\n"
     ]
    },
    {
     "data": {
      "image/png": "[encoded data removed]",
      "text/plain": [
       "<Figure size 956.385x451.5 with 1 Axes>"
      ]
     },
     "metadata": {},
     "output_type": "display_data"
    },
    {
     "data": {
      "image/png": "[encoded data removed]",
      "text/plain": [
       "<Figure size 700x500 with 1 Axes>"
      ]
     },
     "metadata": {},
     "output_type": "display_data"
    }
   ],
   "source": [
    "#Creamos un circuito de n qubits+1\n",
    "n=2\n",
    "circuit = QuantumCircuit(2*n, n)\n",
    "\n",
    "#ponemos los qubits de entrada en superposicion\n",
    "for qubit in range(n):\n",
    "    circuit.h(qubit)\n",
    "\n",
    "# Le añadimos el oráculo con funcion aleatoria\n",
    "new_circuit = circuit.compose(simon_oracle(n),range(2*n))\n",
    "\n",
    "#le añadimos las puertas de Hadamard finales\n",
    "for qubit in range(n):\n",
    "    new_circuit.h(qubit)\n",
    "\n",
    "#ponemos las puertas de medida\n",
    "for i in range(n):\n",
    "    new_circuit.measure(i, i)\n",
    "    \n",
    "    \n",
    "#Mostramos el circuito\n",
    "display(new_circuit.draw())\n",
    "\n",
    "\n",
    "#Ejecutamos el circuito\n",
    "aer_sim = Aer.get_backend('aer_simulator')\n",
    "results = aer_sim.run(new_circuit, shots=5000).result()\n",
    "counts = results.get_counts()\n",
    "plot_histogram(counts)\n",
    "\n",
    "#mostramos histograma resultado\n",
    "display(plot_histogram(counts))"
   ]
  },
  {
   "cell_type": "markdown",
   "id": "ca20cd87-2801-4259-bcf5-4cd7a004604e",
   "metadata": {},
   "source": [
    "#### EJERCICIO\n",
    "\n",
    "Realizaremos la etapa de postporcesado del algoritmo para descubrir la cadena s del Oráculo y lo haremos inicialmente con una aproximacion de fuerza bruta.\n",
    "\n",
    "Construye las siguientes funciones binarias:\n",
    "\n",
    "- __dot_product_modulo_2__: que tome dos bitstrings y calcule el producto escalar binario (modulo 2) de ambas\n",
    "\n",
    "- __generate_all_bitstrings__: que tome un numero de bits y genere todos los bitstreams posibles para ese numero de bits dado\n",
    "\n",
    "Y utilizalas para recorrer todas las posibles cadenas s y encontrar aquellas que cumplen $ s.x mod 2 = 0 $ para todas las cadenas $x$ medidas en la salida del circuito del algoritmo de Simon anterior\n"
   ]
  },
  {
   "cell_type": "code",
   "execution_count": 12,
   "id": "65ee0066-eb6e-4afd-9675-cd2ee8ec353d",
   "metadata": {
    "tags": []
   },
   "outputs": [
    {
     "name": "stdout",
     "output_type": "stream",
     "text": [
      "The dot product modulo 2 of 11110 and 10100 is: 0\n"
     ]
    }
   ],
   "source": [
    "def dot_product_modulo_2(bitstring1, bitstring2):\n",
    "    # Ensure both bit strings are of the same length\n",
    "    if len(bitstring1) != len(bitstring2):\n",
    "        raise ValueError(\"Bit strings must be of the same length\")\n",
    "\n",
    "    # Use a list comprehension to calculate the XOR of corresponding bits\n",
    "    result = [int(bit1) * int(bit2) for bit1, bit2 in zip(bitstring1, bitstring2)]\n",
    "\n",
    "    # Take the XOR sum and calculate modulo 2\n",
    "    dot_product_mod_2 = sum(result) % 2\n",
    "\n",
    "    return dot_product_mod_2\n",
    "\n",
    "# Example usage:\n",
    "bitstring1 = \"11110\"\n",
    "bitstring2 = \"10100\"\n",
    "result = dot_product_modulo_2(bitstring1, bitstring2)\n",
    "\n",
    "print(f\"The dot product modulo 2 of {bitstring1} and {bitstring2} is: {result}\")\n"
   ]
  },
  {
   "cell_type": "code",
   "execution_count": 13,
   "id": "bd8c163e-511e-4497-a029-97bf34dcec71",
   "metadata": {
    "tags": []
   },
   "outputs": [
    {
     "data": {
      "text/plain": [
       "[1, 0]"
      ]
     },
     "execution_count": 13,
     "metadata": {},
     "output_type": "execute_result"
    }
   ],
   "source": [
    "bitstring1 = \"11\"\n",
    "bitstring2 = \"10\"\n",
    "[int(bit1) * int(bit2) for bit1, bit2 in zip(bitstring1, bitstring2)]"
   ]
  },
  {
   "cell_type": "code",
   "execution_count": 14,
   "id": "cf02b82f-2b85-4334-ae31-7a6367d5428b",
   "metadata": {
    "tags": []
   },
   "outputs": [
    {
     "name": "stdout",
     "output_type": "stream",
     "text": [
      "All possible bitstrings of length 2 :\n",
      "00\n",
      "01\n",
      "10\n",
      "11\n"
     ]
    }
   ],
   "source": [
    "def generate_all_bitstrings(length):\n",
    "    # Use binary format to generate all possible bitstrings\n",
    "    bitstrings = [format(i, '0' + str(length) + 'b') for i in range(2**length)]\n",
    "    return bitstrings\n",
    "\n",
    "# Set the length of the bitstrings\n",
    "bitstring_length = 2\n",
    "\n",
    "# Generate all possible bitstrings of 3 bits\n",
    "all_bitstrings = generate_all_bitstrings(bitstring_length)\n",
    "\n",
    "# Print the result\n",
    "print(\"All possible bitstrings of length\", bitstring_length, \":\")\n",
    "for bitstring in all_bitstrings:\n",
    "    print(bitstring)\n"
   ]
  },
  {
   "cell_type": "code",
   "execution_count": 15,
   "id": "84e6dea4-5745-4860-8da0-e005a35f4377",
   "metadata": {
    "tags": []
   },
   "outputs": [
    {
     "data": {
      "text/plain": [
       "['10', '00']"
      ]
     },
     "execution_count": 15,
     "metadata": {},
     "output_type": "execute_result"
    }
   ],
   "source": [
    "#todos los valores obtenidos con el circuito del algoritmo de Simon son\n",
    "valores_resultado_simon=list(counts.keys())\n",
    "valores_resultado_simon"
   ]
  },
  {
   "cell_type": "code",
   "execution_count": 18,
   "id": "2933f3ac-7f6e-4bc6-92f7-da2b086cbec1",
   "metadata": {
    "tags": []
   },
   "outputs": [
    {
     "name": "stdout",
     "output_type": "stream",
     "text": [
      "s 01\n",
      "00\n",
      "01\n"
     ]
    }
   ],
   "source": [
    "#Tenemos la cadena del Oráculo, que copiamos aqui para cerciorarnos de que encontramos la misma cadena\n",
    "s='01'\n",
    "print('s',s)\n",
    "\n",
    "n=2\n",
    "#algoritmo de fuerza bruta que encuentra la cadena s\n",
    "for b in generate_all_bitstrings(n):  #para todas las posibles cadenas\n",
    "    valid=True\n",
    "    #print(b[::-1],'----------')\n",
    "    contador=0\n",
    "    for c in valores_resultado_simon:  #comprobamos si el producto escalar binario es uno o no\n",
    "        contador+=1\n",
    "        if dot_product_modulo_2(c,b) == 1: #si el producto es uno en para algun c no comprobamos más\n",
    "            break\n",
    "        elif contador==len(list(counts.keys())): # si todos los productos no han sido uno, esta cadena es la que buscamos\n",
    "            print(b)\n",
    "\n",
    "#SOLUCION: Obteneos la solucion trivial 00..0 y la cadena s del Oráculo"
   ]
  },
  {
   "cell_type": "code",
   "execution_count": 20,
   "id": "3be5999e-4001-4a17-aa07-cdbd307245a6",
   "metadata": {
    "tags": []
   },
   "outputs": [
    {
     "name": "stdout",
     "output_type": "stream",
     "text": [
      "s 01\n",
      "valor resultado simon y - bitstring prueba s - dot_product_mod2\n",
      "b= 00 -------------------\n",
      "---------------------------------\n",
      "10  -  00  -  0\n",
      "---------------------------------\n",
      "00  -  00  -  0\n",
      "b= 01 -------------------\n",
      "---------------------------------\n",
      "10  -  01  -  0\n",
      "---------------------------------\n",
      "00  -  01  -  0\n",
      "b= 10 -------------------\n",
      "---------------------------------\n",
      "10  -  10  -  1\n",
      "---------------------------------\n",
      "00  -  10  -  0\n",
      "b= 11 -------------------\n",
      "---------------------------------\n",
      "10  -  11  -  1\n",
      "---------------------------------\n",
      "00  -  11  -  0\n"
     ]
    }
   ],
   "source": [
    "#Tenemos la cadena del Oráculo, que copiamos aqui para cerciorarnos de que encontramos la misma cadena\n",
    "s='01'\n",
    "print('s',s)\n",
    "\n",
    "n=2\n",
    "#algoritmo de fuerza bruta que encuentra la cadena s\n",
    "print('valor resultado simon y - bitstring prueba s - dot_product_mod2')\n",
    "for b in generate_all_bitstrings(n):  #para todas las posibles cadenas\n",
    "    print('b=',b,'-------------------')\n",
    "    for y in valores_resultado_simon:  #comprobamos si el producto escalar binario es uno o no\n",
    "        print('---------------------------------')\n",
    "        #if dot_product_modulo_2(y,b) == 1: break\n",
    "        #else:\n",
    "        print(y, ' - ', b, ' - ',dot_product_modulo_2(y,b))\n",
    "\n",
    "#SOLUCION: Obteneos la solucion trivial 00..0 y la cadena s del Oráculo"
   ]
  },
  {
   "cell_type": "markdown",
   "id": "df6a3b9e-f46c-4003-b92c-94aa36ef65a4",
   "metadata": {},
   "source": [
    "A continuación se recoge un metodo algebraico para encontrar la cadena s que podemos utilizar tambien en lugar del metodo de fuerza bruta anterior"
   ]
  },
  {
   "cell_type": "code",
   "execution_count": 58,
   "id": "4237d96a-1b43-4fe4-9184-d8ba0f1ca6e2",
   "metadata": {
    "tags": []
   },
   "outputs": [
    {
     "name": "stdout",
     "output_type": "stream",
     "text": [
      "The hidden bistring s[ 0 ], s[ 1 ]....s[ 5 ] is the one satisfying the following system of linear equations:\n",
      "s[ 0 ] + s[ 1 ] = 0\n",
      "s[ 2 ] = 0\n",
      "s[ 3 ] = 0\n",
      "s[ 4 ] = 0\n",
      "s[ 5 ] = 0\n"
     ]
    }
   ],
   "source": [
    "# Post-processing step\n",
    "# Constructing the system of linear equations Y s = 0\n",
    "# By k[::-1], we reverse the order of the bitstring\n",
    "lAnswer = [ (k[::-1],v) for k,v in counts.items() if k != \"0\"*n  ] #excluding the trivial all-zero\n",
    "#Sort the basis by their probabilities\n",
    "lAnswer.sort(key = lambda x: x[1], reverse=True)\n",
    "\n",
    "Y = []\n",
    "for k, v in lAnswer:\n",
    "    Y.append( [ int(c) for c in k ] )\n",
    "\n",
    "\n",
    "#import tools from sympy\n",
    "from sympy import Matrix, pprint, MatrixSymbol, expand, mod_inverse\n",
    "\n",
    "\n",
    "Y = Matrix(Y)\n",
    "\n",
    "#pprint(Y)\n",
    "\n",
    "#Perform Gaussian elimination on Y\n",
    "Y_transformed = Y.rref(iszerofunc=lambda x: x % 2==0) # linear algebra on GF(2) \n",
    "\n",
    "#to convert rational and negatives in rref of linear algebra on GF(2)\n",
    "def mod(x,modulus):\n",
    "    numer, denom = x.as_numer_denom()\n",
    "    return numer*mod_inverse(denom,modulus) % modulus\n",
    "\n",
    "Y_new = Y_transformed[0].applyfunc(lambda x: mod(x,2)) #must takecare of negatives and fractional values\n",
    "#pprint(Y_new)\n",
    "\n",
    "print(\"The hidden bistring s[ 0 ], s[ 1 ]....s[\",n-1,\"] is the one satisfying the following system of linear equations:\")\n",
    "rows, cols = Y_new.shape\n",
    "for r in range(rows):\n",
    "    Yr = [ \"s[ \"+str(i)+\" ]\" for i, v in enumerate(list(Y_new[r,:])) if v == 1 ]\n",
    "    if len(Yr) > 0:\n",
    "        tStr = \" + \".join(Yr)\n",
    "        print(tStr, \"= 0\")"
   ]
  },
  {
   "cell_type": "markdown",
   "id": "566b9bb6-83be-4cca-8a67-aea84ce493e1",
   "metadata": {
    "id": "566b9bb6-83be-4cca-8a67-aea84ce493e1",
    "tags": []
   },
   "source": [
    "# Ejecucion en un Simulador con ruido"
   ]
  },
  {
   "cell_type": "markdown",
   "id": "33f7d700-e557-4a80-b230-033804f2f2f8",
   "metadata": {},
   "source": [
    "### EJERCICIO\n",
    "\n",
    "Ejecuta en un simulador con ruido el circuito con el algoritmo de Simon, para ello:\n",
    "\n",
    "- Creamos el circuito cuántico, que llamamos <b>simon_circuit </b>\n",
    "- Preparamos un simulador con el ruido de un dispositivo real, el `ibmq_vigo`.\n",
    "- Transpilamos el circuito y lo ejecutamos en el simulador\n",
    "- Realizamos el postprocesado de los resultados obtenidos para encontrar la cadena s\n",
    "\n",
    "Debido al ruido de los calculos no es sencillo ontener un calculo concluyente de la cadena s"
   ]
  },
  {
   "cell_type": "code",
   "execution_count": null,
   "id": "7cda9a0e-413c-4f86-90a7-c89f5543681d",
   "metadata": {
    "id": "7cda9a0e-413c-4f86-90a7-c89f5543681d",
    "outputId": "72527290-2ec9-4fa6-c97b-1d364c63bcbb"
   },
   "outputs": [
    {
     "name": "stdout",
     "output_type": "stream",
     "text": [
      "funcion constante output siempre 1\n"
     ]
    },
    {
     "data": {
      "image/png": "[encoded data removed]",
      "text/plain": [
       "<Figure size 688.597x325.08 with 1 Axes>"
      ]
     },
     "metadata": {},
     "output_type": "display_data"
    }
   ],
   "source": [
    "#Creamos un circuito de n qubits+1\n",
    "n=3\n",
    "circuit = QuantumCircuit(n+1, n+1)\n",
    "\n",
    "#PASO 1 - ponemos los qubits de entrada en superposicion\n",
    "for qubit in range(n):\n",
    "    circuit.h(qubit)\n",
    "\n",
    "#ponemos el qubit de salida\n",
    "circuit.x(n)\n",
    "circuit.h(n)\n",
    "circuit.barrier(range(n+1))\n",
    "\n",
    "# PASO 2- Le añadimos el oráculo con funcion aleatoria\n",
    "dj_circuit = circuit.compose(dj_oracle(n),range(n+1))\n",
    "dj_circuit.barrier(range(n+1))\n",
    "\n",
    "\n",
    "#PASO 3 - Le añadimos las puertas Hadamard\n",
    "for i in range(n):\n",
    "    dj_circuit.h(i)\n",
    "dj_circuit.barrier(range(n+1))\n",
    "\n",
    "\n",
    "#PASO 4- ponemos las puertas de medida solo para los qubits de la entrada\n",
    "for i in range(n):\n",
    "    dj_circuit.measure(i, i)\n",
    "\n",
    "\n",
    "#Mostramos el circuito\n",
    "display(dj_circuit.draw())"
   ]
  },
  {
   "cell_type": "markdown",
   "id": "acc0e40a-ae3f-4d59-a1f9-d0e93d87c6ff",
   "metadata": {
    "id": "acc0e40a-ae3f-4d59-a1f9-d0e93d87c6ff"
   },
   "source": [
    "Preparamos un simulador con el ruido de un dispositivo real, el `ibmq_vigo`."
   ]
  },
  {
   "cell_type": "code",
   "execution_count": null,
   "id": "aa42e7f1-df3b-4ea1-8b3e-fc3290bdc3a4",
   "metadata": {
    "id": "aa42e7f1-df3b-4ea1-8b3e-fc3290bdc3a4"
   },
   "outputs": [],
   "source": [
    "from qiskit.providers.fake_provider import FakeVigo\n",
    "\n",
    "# Tomamos un backend ruidoso ficticio de fake providers\n",
    "device_backend = FakeVigo()\n",
    "\n",
    "#creamos el simulador\n",
    "sim_vigo = AerSimulator.from_backend(device_backend)"
   ]
  },
  {
   "cell_type": "markdown",
   "id": "e7b99468-9a61-4548-84cd-201ffd8b2924",
   "metadata": {
    "id": "e7b99468-9a61-4548-84cd-201ffd8b2924"
   },
   "source": [
    "Transpilamos el circuito y lo ejecutamos en el simulador"
   ]
  },
  {
   "cell_type": "code",
   "execution_count": null,
   "id": "3d58986a-2a11-4147-8bc3-eac191ae02d6",
   "metadata": {
    "id": "3d58986a-2a11-4147-8bc3-eac191ae02d6",
    "outputId": "e70751b8-d144-4c82-9ab0-44048dd630cd"
   },
   "outputs": [
    {
     "data": {
      "image/png": "[encoded data removed]",
      "text/plain": [
       "<Figure size 504x360 with 1 Axes>"
      ]
     },
     "execution_count": 28,
     "metadata": {},
     "output_type": "execute_result"
    }
   ],
   "source": [
    "# Transpilamos el circuito para mapearlo a las puertas ruidosass\n",
    "tcirc = transpile(dj_circuit, sim_vigo)\n",
    "\n",
    "# Ejecutamos el circuito y obtenemos el resultado\n",
    "result_noise = sim_vigo.run(dj_circuit).result()\n",
    "counts_noise = result_noise.get_counts(0)\n",
    "plot_histogram(counts_noise,\n",
    "               title=\"Counts for DJ algorithm with device noise model\")"
   ]
  },
  {
   "cell_type": "markdown",
   "id": "bca4f161-2baa-41bd-93e8-2485a62c7732",
   "metadata": {},
   "source": [
    "Y cuando termine la ejecucion, realizamos el postprocesado y obtencion de la cadena $s$ resultado"
   ]
  },
  {
   "cell_type": "code",
   "execution_count": null,
   "id": "3414d86c-b338-4abc-904a-d14cfac16a46",
   "metadata": {},
   "outputs": [],
   "source": []
  },
  {
   "cell_type": "markdown",
   "id": "a4e4a05a-33a8-4948-9321-08e2975b71c2",
   "metadata": {
    "id": "a4e4a05a-33a8-4948-9321-08e2975b71c2"
   },
   "source": [
    "# Ejecucion en un BackEnd cuántico real"
   ]
  },
  {
   "cell_type": "markdown",
   "id": "0766d7b8-27d8-466c-bda7-e0d200d2d055",
   "metadata": {
    "tags": []
   },
   "source": [
    "### EJERCICIO\n",
    "\n",
    "Ejecuta en un backend real cuantico el circuito con el algoritmo de Simno, para ello:\n",
    "\n",
    "- Creamos el circuito cuántico, que llamamos <b>simon_circuit </b>\n",
    "- Lo ejecutamos primero en el simulador para ver si funciona bien antes de enviarlo a un BackEnd cuántico real\n",
    "- Buscamos el backend que este menos cargado de trabajos\n",
    "- Transpilamos el circuito y lo enviamos para ejecucion\n",
    "- Realizamos el postprocesado de los resultados obtenidos para encontrar la cadena s\n",
    "\n",
    "Debido a la imperfeccion de los ordenadores reales y el ruido de los calculos no es sencillo ontener un calculo concluyente de la cadena s"
   ]
  },
  {
   "cell_type": "code",
   "execution_count": null,
   "id": "83ff2285-c052-4719-8663-878d8e45493e",
   "metadata": {
    "id": "83ff2285-c052-4719-8663-878d8e45493e",
    "outputId": "932ffd1c-3e95-4b63-d195-e94e29b88541"
   },
   "outputs": [
    {
     "name": "stdout",
     "output_type": "stream",
     "text": [
      "funcion constante output siempre 1\n"
     ]
    },
    {
     "data": {
      "image/png": "[encoded data removed]",
      "text/plain": [
       "<Figure size 688.597x325.08 with 1 Axes>"
      ]
     },
     "metadata": {},
     "output_type": "display_data"
    }
   ],
   "source": [
    "#Creamos un circuito de n qubits+1\n",
    "n=3\n",
    "circuit = QuantumCircuit(n+1, n+1)\n",
    "\n",
    "#PASO 1 - ponemos los qubits de entrada en superposicion\n",
    "for qubit in range(n):\n",
    "    circuit.h(qubit)\n",
    "\n",
    "#ponemos el qubit de salida\n",
    "circuit.x(n)\n",
    "circuit.h(n)\n",
    "circuit.barrier(range(n+1))\n",
    "\n",
    "# PASO 2- Le añadimos el oráculo con funcion aleatoria\n",
    "dj_circuit = circuit.compose(dj_oracle(n),range(n+1))\n",
    "dj_circuit.barrier(range(n+1))\n",
    "\n",
    "\n",
    "#PASO 3 - Le añadimos las puertas Hadamard\n",
    "for i in range(n):\n",
    "    dj_circuit.h(i)\n",
    "dj_circuit.barrier(range(n+1))\n",
    "\n",
    "\n",
    "#PASO 4- ponemos las puertas de medida solo para los qubits de la entrada\n",
    "for i in range(n):\n",
    "    dj_circuit.measure(i, i)\n",
    "\n",
    "\n",
    "#Mostramos el circuito\n",
    "display(dj_circuit.draw())"
   ]
  },
  {
   "cell_type": "markdown",
   "id": "9cf0b94b-53ba-4118-82b4-7049cb53cb70",
   "metadata": {
    "id": "9cf0b94b-53ba-4118-82b4-7049cb53cb70"
   },
   "source": [
    "### EJERCICIO\n",
    "\n",
    "Lo ejecutamos en el simulador para ver si funciona bien antes de enviarlo a un BackEnd cuántico real"
   ]
  },
  {
   "cell_type": "code",
   "execution_count": null,
   "id": "0a65eaa3-977f-486f-b6ee-2f9ae8b71dcd",
   "metadata": {
    "id": "0a65eaa3-977f-486f-b6ee-2f9ae8b71dcd",
    "outputId": "2a9e51fb-a102-43ff-b4d5-7b1357a86d30"
   },
   "outputs": [
    {
     "data": {
      "image/png": "[encoded data removed]",
      "text/plain": [
       "<Figure size 504x360 with 1 Axes>"
      ]
     },
     "execution_count": 12,
     "metadata": {},
     "output_type": "execute_result"
    }
   ],
   "source": [
    "# use local simulator\n",
    "backend = Aer.get_backend('aer_simulator')\n",
    "shots = 1000  # up to 65536\n",
    "#dj_circuit = dj_algorithm(n)\n",
    "results = execute(dj_circuit, backend=backend, shots=shots).result()\n",
    "counts = results.get_counts()\n",
    "\n",
    "plot_histogram(counts)"
   ]
  },
  {
   "cell_type": "markdown",
   "id": "b655d804-9bcb-40e4-9e7f-ab65f2276856",
   "metadata": {
    "id": "b655d804-9bcb-40e4-9e7f-ab65f2276856",
    "tags": []
   },
   "source": [
    "Elejimos un backend que tenga pocos jobs en la cola de ejecucion"
   ]
  },
  {
   "cell_type": "code",
   "execution_count": null,
   "id": "9ba99d67-42c0-480d-a5d4-0ec18d2e0d13",
   "metadata": {
    "id": "9ba99d67-42c0-480d-a5d4-0ec18d2e0d13",
    "outputId": "d92c2393-b766-4d94-eb14-0689f9db518b"
   },
   "outputs": [
    {
     "name": "stdout",
     "output_type": "stream",
     "text": [
      "least busy backend:  ibmq_belem\n"
     ]
    }
   ],
   "source": [
    "# using a real qc backend: lest busy\n",
    "backend = least_busy(provider.backends(filters=lambda x: x.configuration().n_qubits >= (n+1) \\\n",
    "                                      and not x.configuration().simulator \\\n",
    "                                      and x.status().operational == True))\n",
    "print(\"least busy backend: \", backend)"
   ]
  },
  {
   "cell_type": "code",
   "execution_count": null,
   "id": "31a6dafa-e46b-46d8-9958-0fe755794515",
   "metadata": {
    "id": "31a6dafa-e46b-46d8-9958-0fe755794515",
    "outputId": "2c2f27f4-9689-426a-be74-e55a7578cf3f"
   },
   "outputs": [
    {
     "name": "stdout",
     "output_type": "stream",
     "text": [
      "Traceback \u001b[1;36m(most recent call last)\u001b[0m:\n",
      "  Input \u001b[0;32mIn [14]\u001b[0m in \u001b[0;35m<cell line: 2>\u001b[0m\n",
      "    backend = provider.get_backend(name='ibmq_XXXX')\n",
      "\u001b[1;36m  File \u001b[1;32m/opt/conda/lib/python3.8/site-packages/qiskit/providers/provider.py:55\u001b[1;36m in \u001b[1;35mget_backend\u001b[1;36m\u001b[0m\n",
      "\u001b[1;33m    raise QiskitBackendNotFoundError(\"No backend matches the criteria\")\u001b[0m\n",
      "\u001b[1;31mQiskitBackendNotFoundError\u001b[0m\u001b[1;31m:\u001b[0m 'No backend matches the criteria'\n",
      "\n",
      "Use %tb to get the full traceback.\n"
     ]
    },
    {
     "data": {
      "text/html": [
       "\n",
       "<style>\n",
       ".button {\n",
       "  border: none;\n",
       "  color: white;\n",
       "  padding: 4px 8px;\n",
       "  text-align: center;\n",
       "  text-decoration: none;\n",
       "  display: inline-block;\n",
       "  font-size: 12px;\n",
       "  margin: 4px 2px;\n",
       "  transition-duration: 0.2s;\n",
       "  cursor: pointer;\n",
       "}\n",
       ".iqx-button {\n",
       "  background-color: #0f62fe; \n",
       "  color: white; \n",
       "}\n",
       ".iqx-button:hover {\n",
       "  background-color: #0043ce;\n",
       "  color: white;\n",
       "}\n",
       "</style>\n",
       "<a href=\"https://stackoverflow.com/search?q=QiskitBackendNotFoundError: No backend matches the criteria\" target='_blank'><button class='button iqx-button'>Search for solution online</button></a>\n"
      ],
      "text/plain": [
       "<IPython.core.display.HTML object>"
      ]
     },
     "metadata": {},
     "output_type": "display_data"
    }
   ],
   "source": [
    "# using a real backend by name\n",
    "backend = provider.get_backend(name='ibmq_XXXX')\n",
    "print(\"selected backend: \", backend)"
   ]
  },
  {
   "cell_type": "code",
   "execution_count": null,
   "id": "adf71525-23dd-412e-a98c-fc3dc1430595",
   "metadata": {
    "id": "adf71525-23dd-412e-a98c-fc3dc1430595"
   },
   "outputs": [],
   "source": [
    "shots = 20000\n",
    "%qiskit_job_watcher\n",
    "job = execute(dj_circuit, backend=backend, shots=shots, optimization_level=3)  #optimiza automaticamente para el layout map de qubits (coge el layout optimio y simplifica puertas si puede hacerlo)\n",
    "# layout = [0, 4, 2, 3, 1]   # hanoi\n",
    "# job = execute(dj_circuit, backend=backend, shots=shots, initial_layout=layout, optimization_level=3)\n",
    "print('backend: ', backend)\n",
    "print(job.job_id())"
   ]
  },
  {
   "cell_type": "code",
   "execution_count": 1,
   "id": "797bd0be-0494-49cd-bff2-2758aeba8c0e",
   "metadata": {
    "id": "797bd0be-0494-49cd-bff2-2758aeba8c0e",
    "tags": []
   },
   "outputs": [
    {
     "name": "stdout",
     "output_type": "stream",
     "text": [
      "Traceback \u001b[1;36m(most recent call last)\u001b[0m:\n",
      "\u001b[1;36m  Cell \u001b[1;32mIn[1], line 3\u001b[1;36m\n",
      "\u001b[1;33m    backend = provider.get_backend('ibmq_belem')\u001b[1;36m\n",
      "\u001b[1;31mNameError\u001b[0m\u001b[1;31m:\u001b[0m name 'provider' is not defined\n",
      "\n",
      "Use %tb to get the full traceback.\n"
     ]
    },
    {
     "data": {
      "text/html": [
       "\n",
       "<style>\n",
       ".button {\n",
       "  border: none;\n",
       "  color: white;\n",
       "  padding: 4px 8px;\n",
       "  text-align: center;\n",
       "  text-decoration: none;\n",
       "  display: inline-block;\n",
       "  font-size: 12px;\n",
       "  margin: 4px 2px;\n",
       "  transition-duration: 0.2s;\n",
       "  cursor: pointer;\n",
       "}\n",
       ".iqx-button {\n",
       "  background-color: #0f62fe; \n",
       "  color: white; \n",
       "}\n",
       ".iqx-button:hover {\n",
       "  background-color: #0043ce;\n",
       "  color: white;\n",
       "}\n",
       "</style>\n",
       "<a href=\"https://stackoverflow.com/search?q=NameError: name 'provider' is not defined\" target='_blank'><button class='button iqx-button'>Search for solution online</button></a>\n"
      ],
      "text/plain": [
       "<IPython.core.display.HTML object>"
      ]
     },
     "metadata": {},
     "output_type": "display_data"
    }
   ],
   "source": [
    "# Para comprobar los resultados de un job id\n",
    "#provider = IBMQ.get_provider(hub='ibm-q-internal', group='deployed', project='default')\n",
    "backend = provider.get_backend('ibmq_belem')\n",
    "old_job = backend.retrieve_job('635a55fb7a93ee4ecee25143')\n",
    "\n",
    "results = old_job.result()\n",
    "counts = results.get_counts()\n",
    "plot_histogram(counts)"
   ]
  },
  {
   "cell_type": "markdown",
   "id": "f9a6bde8-887d-4279-b9d8-6101c22fbc39",
   "metadata": {
    "id": "f9a6bde8-887d-4279-b9d8-6101c22fbc39"
   },
   "source": [
    "Y cuando termine la ejecucion, realizamos el postprocesado y obtencion de la cadena $s$ resultado"
   ]
  },
  {
   "cell_type": "code",
   "execution_count": null,
   "id": "96f0486e-b5bc-43b3-a768-bd47324991da",
   "metadata": {},
   "outputs": [],
   "source": []
  }
 ],
 "metadata": {
  "colab": {
   "provenance": [],
   "toc_visible": true
  },
  "kernelspec": {
   "display_name": "Python 3 (ipykernel)",
   "language": "python",
   "name": "python3"
  },
  "language_info": {
   "codemirror_mode": {
    "name": "ipython",
    "version": 3
   },
   "file_extension": ".py",
   "mimetype": "text/x-python",
   "name": "python",
   "nbconvert_exporter": "python",
   "pygments_lexer": "ipython3",
   "version": "3.10.8"
  },
  "widgets": {
   "application/vnd.jupyter.widget-state+json": {
    "state": {
     "0045eb733ca74201baa76f868a57f202": {
      "model_module": "@jupyter-widgets/controls",
      "model_module_version": "2.0.0",
      "model_name": "HBoxModel",
      "state": {
       "children": [
        "IPY_MODEL_2e3ce14ad8874e02b43427cc86538ab7",
        "IPY_MODEL_a294b7c2cd1346419efa05445b91a200",
        "IPY_MODEL_def9ec9daf684f4b828268163298d7a7",
        "IPY_MODEL_7a7282dc496044d38b701d95b7fc3722",
        "IPY_MODEL_da7f8f4b8a0a4a8e9002641868f479ba"
       ],
       "layout": "IPY_MODEL_4211dfe9ba034b0b93edd1811e4127be"
      }
     },
     "09ddf3627ea7470e8198d035f7c4261f": {
      "model_module": "@jupyter-widgets/controls",
      "model_module_version": "2.0.0",
      "model_name": "HTMLStyleModel",
      "state": {
       "description_width": "",
       "font_size": null,
       "text_color": null
      }
     },
     "2e3ce14ad8874e02b43427cc86538ab7": {
      "model_module": "@jupyter-widgets/controls",
      "model_module_version": "2.0.0",
      "model_name": "HTMLModel",
      "state": {
       "layout": "IPY_MODEL_4dff42e86422474cb8bbc97f64fad566",
       "style": "IPY_MODEL_09ddf3627ea7470e8198d035f7c4261f",
       "value": "<h5>Job ID</h5>"
      }
     },
     "326e02cffabc43d2ab0b8a2ae06f5bda": {
      "model_module": "@jupyter-widgets/controls",
      "model_module_version": "2.0.0",
      "model_name": "HTMLStyleModel",
      "state": {
       "description_width": "",
       "font_size": null,
       "text_color": null
      }
     },
     "3ccda7f164024e15b92a42f5fe2e0d2f": {
      "model_module": "@jupyter-widgets/controls",
      "model_module_version": "2.0.0",
      "model_name": "HTMLStyleModel",
      "state": {
       "description_width": "",
       "font_size": null,
       "text_color": null
      }
     },
     "4211dfe9ba034b0b93edd1811e4127be": {
      "model_module": "@jupyter-widgets/base",
      "model_module_version": "2.0.0",
      "model_name": "LayoutModel",
      "state": {
       "margin": "0px 0px 0px 37px",
       "width": "600px"
      }
     },
     "44824e05e048442fa478a430644a990e": {
      "model_module": "@jupyter-widgets/controls",
      "model_module_version": "2.0.0",
      "model_name": "GridBoxModel",
      "state": {
       "children": [
        "IPY_MODEL_f73a67cbb27e407aa27341b18a7730ff"
       ],
       "layout": "IPY_MODEL_7a0b5be232bf488fb04a884524a96979"
      }
     },
     "4dff42e86422474cb8bbc97f64fad566": {
      "model_module": "@jupyter-widgets/base",
      "model_module_version": "2.0.0",
      "model_name": "LayoutModel",
      "state": {
       "width": "190px"
      }
     },
     "524c443ef1594daf9dafdb10b3ba2b48": {
      "model_module": "@jupyter-widgets/controls",
      "model_module_version": "2.0.0",
      "model_name": "HTMLModel",
      "state": {
       "layout": "IPY_MODEL_ff0ba9c98f2c4cb0b7c42f2f21d154f8",
       "style": "IPY_MODEL_326e02cffabc43d2ab0b8a2ae06f5bda",
       "value": "<p style='font-family: IBM Plex Sans, Arial, Helvetica, sans-serif; font-size: 20px; font-weight: medium;'>Circuit Properties</p>"
      }
     },
     "55ae6f68fd364d5e9e92af0f960cc596": {
      "model_module": "@jupyter-widgets/base",
      "model_module_version": "2.0.0",
      "model_name": "LayoutModel",
      "state": {
       "grid_area": "right",
       "padding": "0px 0px 0px 0px",
       "width": "70px"
      }
     },
     "5cc2d5ca2f0747bd898e462647071923": {
      "model_module": "@jupyter-widgets/base",
      "model_module_version": "2.0.0",
      "model_name": "LayoutModel",
      "state": {
       "width": "95px"
      }
     },
     "77e688c914be4ac1b580fa27297522b3": {
      "model_module": "@jupyter-widgets/controls",
      "model_module_version": "2.0.0",
      "model_name": "HTMLStyleModel",
      "state": {
       "description_width": "",
       "font_size": null,
       "text_color": null
      }
     },
     "794407336eb440e89833f83e365e3e7e": {
      "model_module": "@jupyter-widgets/base",
      "model_module_version": "2.0.0",
      "model_name": "LayoutModel",
      "state": {}
     },
     "7a0b5be232bf488fb04a884524a96979": {
      "model_module": "@jupyter-widgets/base",
      "model_module_version": "2.0.0",
      "model_name": "LayoutModel",
      "state": {
       "grid_template_areas": "\n                                       \". . . . right \"\n                                        ",
       "grid_template_columns": "20% 20% 20% 20% 20%",
       "width": "100%"
      }
     },
     "7a7282dc496044d38b701d95b7fc3722": {
      "model_module": "@jupyter-widgets/controls",
      "model_module_version": "2.0.0",
      "model_name": "HTMLModel",
      "state": {
       "layout": "IPY_MODEL_8793d84aacf247fb85856c5e6d125442",
       "style": "IPY_MODEL_a0a67bef7d44461886e49b36c2bf3472",
       "value": "<h5>Queue</h5>"
      }
     },
     "7e54ee2c5b0c4ed687af471f2852bb8c": {
      "model_module": "@jupyter-widgets/base",
      "model_module_version": "2.0.0",
      "model_name": "LayoutModel",
      "state": {
       "width": "145px"
      }
     },
     "8793d84aacf247fb85856c5e6d125442": {
      "model_module": "@jupyter-widgets/base",
      "model_module_version": "2.0.0",
      "model_name": "LayoutModel",
      "state": {
       "width": "70px"
      }
     },
     "a0a67bef7d44461886e49b36c2bf3472": {
      "model_module": "@jupyter-widgets/controls",
      "model_module_version": "2.0.0",
      "model_name": "HTMLStyleModel",
      "state": {
       "description_width": "",
       "font_size": null,
       "text_color": null
      }
     },
     "a147dc7a496f46b89d371590bb85fa2c": {
      "model_module": "@jupyter-widgets/controls",
      "model_module_version": "2.0.0",
      "model_name": "HTMLStyleModel",
      "state": {
       "description_width": "",
       "font_size": null,
       "text_color": null
      }
     },
     "a294b7c2cd1346419efa05445b91a200": {
      "model_module": "@jupyter-widgets/controls",
      "model_module_version": "2.0.0",
      "model_name": "HTMLModel",
      "state": {
       "layout": "IPY_MODEL_7e54ee2c5b0c4ed687af471f2852bb8c",
       "style": "IPY_MODEL_3ccda7f164024e15b92a42f5fe2e0d2f",
       "value": "<h5>Backend</h5>"
      }
     },
     "da7f8f4b8a0a4a8e9002641868f479ba": {
      "model_module": "@jupyter-widgets/controls",
      "model_module_version": "2.0.0",
      "model_name": "HTMLModel",
      "state": {
       "layout": "IPY_MODEL_794407336eb440e89833f83e365e3e7e",
       "style": "IPY_MODEL_a147dc7a496f46b89d371590bb85fa2c",
       "value": "<h5>Message</h5>"
      }
     },
     "def9ec9daf684f4b828268163298d7a7": {
      "model_module": "@jupyter-widgets/controls",
      "model_module_version": "2.0.0",
      "model_name": "HTMLModel",
      "state": {
       "layout": "IPY_MODEL_5cc2d5ca2f0747bd898e462647071923",
       "style": "IPY_MODEL_77e688c914be4ac1b580fa27297522b3",
       "value": "<h5>Status</h5>"
      }
     },
     "e9674a7cd5a34ad99c2406267fefd3f0": {
      "model_module": "@jupyter-widgets/controls",
      "model_module_version": "2.0.0",
      "model_name": "ButtonStyleModel",
      "state": {
       "font_family": null,
       "font_size": null,
       "font_style": null,
       "font_variant": null,
       "font_weight": null,
       "text_color": null,
       "text_decoration": null
      }
     },
     "f73a67cbb27e407aa27341b18a7730ff": {
      "model_module": "@jupyter-widgets/controls",
      "model_module_version": "2.0.0",
      "model_name": "ButtonModel",
      "state": {
       "button_style": "primary",
       "description": "Clear",
       "layout": "IPY_MODEL_55ae6f68fd364d5e9e92af0f960cc596",
       "style": "IPY_MODEL_e9674a7cd5a34ad99c2406267fefd3f0",
       "tooltip": null
      }
     },
     "ff0ba9c98f2c4cb0b7c42f2f21d154f8": {
      "model_module": "@jupyter-widgets/base",
      "model_module_version": "2.0.0",
      "model_name": "LayoutModel",
      "state": {
       "margin": "0px 0px 10px 0px"
      }
     }
    },
    "version_major": 2,
    "version_minor": 0
   }
  }
 },
 "nbformat": 4,
 "nbformat_minor": 5
}
