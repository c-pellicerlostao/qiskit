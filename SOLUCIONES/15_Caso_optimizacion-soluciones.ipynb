{
 "cells": [
  {
   "cell_type": "markdown",
   "metadata": {},
   "source": [
    "<div>\n",
    "<img src=\"https://www.nebrija.com/images/logos/logotipo-universidad-nebrija.jpg\" width=\"200\">\n",
    "</div>\n",
    "\n",
    "**ALGORITMOS** -\n",
    "Prof: Carmen Pellicer Lostao"
   ]
  },
  {
   "cell_type": "markdown",
   "metadata": {},
   "source": [
    "# Optimizacion de Carteras o Portfolio\n"
   ]
  },
  {
   "cell_type": "markdown",
   "metadata": {},
   "source": [
    "En este notebook vamos a utilizar el método de optimizacion de carteras de activos llamado MVO (Mean Variance Optimization) para calcular la composicion optima de una cartera. Resolveremos este ejercicio de forma clásica y cuantica, utilizando [algoritmos cuánticos variacionales](https://learning.quantum-computing.ibm.com/course/variational-algorithm-design) de optimizacion.\n",
    "\n",
    "Dado un conjunto de $n$ activos $A_1, A_2,...,A_n$ podemos encontrar la composicion de una cartera optima expresada con un vector de pesos binario $x \\in \\{0, 1\\}^n$, tal que maximice para el inversor los beneficios descontando riesgos (o que minimice la expresion opuesta)."
   ]
  },
  {
   "cell_type": "markdown",
   "metadata": {
    "tags": []
   },
   "source": [
    "## Método de optimizacion de carteras de activos llamado MVO (Mean Variance Optimization) "
   ]
  },
  {
   "cell_type": "markdown",
   "metadata": {},
   "source": [
    "El método MVO se basa en la hipotesis de que la distribucion de rentabilidades diarias de las acciones es normal y mide el beneficio como la media de esta distribucion y el riesgo como su varianza.\n",
    "\n",
    "La rentabilidad y el riesgo de una cartera se modelan utilizando la *media* y la *varianza* de las fluctuaciones de los beneficios de los valores respectivamente.\n",
    "\n",
    "Sea P una cartera de valores $A_1, A_2,...A_n$ con pesos binarios $x_1, x_2,...x_n$ y las rentabilidades $\\mu_1, \\mu_2, ...\\mu_n$.\n",
    "\n",
    "La **rentabilidad de la cartera $\\mu$**  viene determinada por la suma de las medias ponderada de las rentabilidades diarias $\\mu_i$de los valores que la componen:\n",
    "\n",
    "$\\mu= \\mu^T x = \\Sigma_{i=1}^{n} x_i * \\mu_i$\n",
    "\n",
    "El **riesgo de la cartera $\\sigma$** es la desviacion estandar de la rentabilidad, que podemos calcular a partir de la matriz de covarianzas:\n",
    "\n",
    "$\\sigma = x^T \\sigma x = \\sqrt{\\Sigma_{i=1}^{n} \\Sigma_{j=1}^{n} x_i x_j \\sigma_{i,j}}$"
   ]
  },
  {
   "cell_type": "markdown",
   "metadata": {},
   "source": [
    "Por tanto, el método MVO propone que una cartera optima será aquella que cumpla la siguiente ecuacion:\n",
    "\n",
    "$$\\begin{aligned}\n",
    "\\min_{x \\in \\{0, 1\\}^n}  q x^T \\sigma x - \\mu^T x\\\\\n",
    "\\text{sujeto a que: } 1^T x = B\n",
    "\\end{aligned}$$\n",
    "\n",
    "donde se tiene:\n",
    "\n",
    "- $x \\in \\{0, 1\\}^n$ es un vector binario que indica si un valor esta o no en la cartera. Le llamamos el vector de decision, que indica que la acción $i$ esta en la cartera si $x[i] = 1$ y no esta si $x[i] = 0$,\n",
    "- $\\mu \\in \\mathbb{R}^n$ son las medias de las rentabilidades diarias de las acciones,\n",
    "- $\\sigma \\in \\mathbb{R}^{n \\times n}$ son las covarianzas entre las rentabilidades de las acciones, lo que varia una si varia otra,\n",
    "- $q > 0$ es un parametro con el que codificamos la afinidad al riesgo del inversor que diseña la cartera,\n",
    "- y $B$ es el presupuesto o 'budget', i.e. limita el numero de acciones que podemos seleccionar sin superarlo.\n",
    "\n",
    "La restriccion de que $1^T x = B$ se codifica como un termino de penalizacion $(1^T x - B)^2$ escalado por un parámetro y que se resta a la función objetivo o funcion de coste que vamos a minimizar. \n",
    "\n",
    "El problema resultante, es un problema QUBO (Quadratic Unconstrained Binary Optimization) y puede mapearse a una funcion de coste cuantica o Hamiltoniano cuyo estado minimo es la solucion optima.\n",
    "\n",
    "Utilizaremos dos metodos de optimizacion cuántica para resolverlo:\n",
    "- El Variational Quantum Eigensolver (VQE) \n",
    "- El Quantum Approximate Optimization Algorithm (QAOA)"
   ]
  },
  {
   "cell_type": "markdown",
   "metadata": {},
   "source": [
    "Instalamos la librería de algoritmos e importamos las librerias necesarias"
   ]
  },
  {
   "cell_type": "code",
   "execution_count": 3,
   "metadata": {
    "tags": []
   },
   "outputs": [],
   "source": [
    "#!pip install qiskit-algorithms"
   ]
  },
  {
   "cell_type": "code",
   "execution_count": 4,
   "metadata": {
    "tags": []
   },
   "outputs": [],
   "source": [
    "#!pip install qiskit_finance"
   ]
  },
  {
   "cell_type": "code",
   "execution_count": 5,
   "metadata": {
    "ExecuteTime": {
     "end_time": "2020-07-13T20:35:05.710593Z",
     "start_time": "2020-07-13T20:34:57.647535Z"
    },
    "tags": []
   },
   "outputs": [],
   "source": [
    "from qiskit import Aer, transpile\n",
    "from qiskit.circuit.library import TwoLocal\n",
    "from qiskit.utils import QuantumInstance\n",
    "from qiskit.providers.fake_provider import FakeVigo\n",
    "from qiskit_optimization.algorithms import MinimumEigenOptimizer\n",
    "from qiskit_optimization.applications import OptimizationApplication\n",
    "from qiskit_optimization.converters import QuadraticProgramToQubo\n",
    "from qiskit_finance.applications.optimization import PortfolioOptimization\n",
    "from qiskit.utils import algorithm_globals\n",
    "from qiskit.quantum_info import Statevector\n",
    "from qiskit.tools.visualization import plot_histogram, plot_state_city\n",
    "\n",
    "from qiskit.primitives import Estimator  #RUNTIME PRIMITIVE ESTIMATOR\n",
    "from qiskit.circuit.library import TwoLocal\n",
    "\n",
    "import pandas as pd\n",
    "import numpy as np\n",
    "import matplotlib.pyplot as plt\n",
    "import datetime"
   ]
  },
  {
   "cell_type": "code",
   "execution_count": 28,
   "metadata": {
    "tags": []
   },
   "outputs": [],
   "source": [
    "from qiskit.algorithms.minimum_eigensolvers import VQE, QAOA, SamplingVQE, NumPyMinimumEigensolver  # new import!!!\n",
    "from qiskit_algorithms import NumPyMinimumEigensolver\n",
    "\n",
    "from qiskit.algorithms.optimizers import SPSA, COBYLA, L_BFGS_B, SLSQP\n",
    "from qiskit.primitives import Estimator, Sampler\n",
    "from qiskit_ibm_runtime import QiskitRuntimeService, Session, Options, Sampler, Estimator"
   ]
  },
  {
   "cell_type": "markdown",
   "metadata": {},
   "source": [
    "### Seleccion de valores para la cartera"
   ]
  },
  {
   "cell_type": "markdown",
   "metadata": {},
   "source": [
    "Utilizamos las librerias de Yahoo Finance para obtener un historico de cotizaciones de los valores que queramos utilizar en el ejercicio.\n",
    "\n",
    "Algunos tickers de acciones que podriamos utilizar para el ejercicio podrían ser:\n",
    "\n",
    "- valores o tickers Dow Jones:\n",
    "\n",
    "['AAPL', 'AXP', 'BA', 'CAT', 'CSCO', 'CVX', 'DIS', 'GS', 'HD', 'IBM', 'INTC', 'JNJ', 'JPM', 'KO', 'MCD', 'MMM', 'MRK', 'MSFT', 'NKE', 'PFE', 'PG', 'TRV', 'UNH', 'UTX', 'V', 'VZ', 'WBA', 'WMT', 'XOM']\n",
    "\n",
    "- valores o tickers España Mercado Continuo podrían ser: \n",
    "\n",
    "['FDR.MC','AMS.MC','PHM.MC','IBE.MC','REE.MC','ENG.MC','CABK.MC','GRF.MC','SAB.MC','ACS.MC','BBVA.MC','MTS.MC','ELE.MC','FER.MC','CLNX.MC','BKT.MC','TEF.MC','ACX.MC','ITX.MC','MAP.MC','AENA.MC','SAN.MC','REP.MC','SGRE.MC','NTGY.MC','MEL.MC','IAG.MC','MRL.MC','COL.MC','ANA.MC']\n"
   ]
  },
  {
   "cell_type": "markdown",
   "metadata": {},
   "source": [
    "Instalamos las librerias"
   ]
  },
  {
   "cell_type": "code",
   "execution_count": 9,
   "metadata": {
    "tags": []
   },
   "outputs": [],
   "source": [
    "#!pip install yfinance"
   ]
  },
  {
   "cell_type": "code",
   "execution_count": 10,
   "metadata": {
    "tags": []
   },
   "outputs": [
    {
     "name": "stderr",
     "output_type": "stream",
     "text": [
      "/opt/conda/lib/python3.10/site-packages/yfinance/base.py:48: FutureWarning: The default dtype for empty Series will be 'object' instead of 'float64' in a future version. Specify a dtype explicitly to silence this warning.\n",
      "  _empty_series = pd.Series()\n"
     ]
    }
   ],
   "source": [
    "#!pip install yfinance\n",
    "import yfinance as yfin"
   ]
  },
  {
   "cell_type": "code",
   "execution_count": 12,
   "metadata": {
    "tags": []
   },
   "outputs": [
    {
     "name": "stderr",
     "output_type": "stream",
     "text": [
      "[*********************100%%**********************]  5 of 5 completed\n"
     ]
    },
    {
     "data": {
      "text/html": [
       "<div>\n",
       "<style scoped>\n",
       "    .dataframe tbody tr th:only-of-type {\n",
       "        vertical-align: middle;\n",
       "    }\n",
       "\n",
       "    .dataframe tbody tr th {\n",
       "        vertical-align: top;\n",
       "    }\n",
       "\n",
       "    .dataframe thead th {\n",
       "        text-align: right;\n",
       "    }\n",
       "</style>\n",
       "<table border=\"1\" class=\"dataframe\">\n",
       "  <thead>\n",
       "    <tr style=\"text-align: right;\">\n",
       "      <th>Ticker</th>\n",
       "      <th>ACX.MC</th>\n",
       "      <th>BBVA.MC</th>\n",
       "      <th>CABK.MC</th>\n",
       "      <th>NTGY.MC</th>\n",
       "      <th>REP.MC</th>\n",
       "    </tr>\n",
       "    <tr>\n",
       "      <th>Date</th>\n",
       "      <th></th>\n",
       "      <th></th>\n",
       "      <th></th>\n",
       "      <th></th>\n",
       "      <th></th>\n",
       "    </tr>\n",
       "  </thead>\n",
       "  <tbody>\n",
       "    <tr>\n",
       "      <th>2023-01-02</th>\n",
       "      <td>8.683646</td>\n",
       "      <td>5.394387</td>\n",
       "      <td>3.468153</td>\n",
       "      <td>23.265390</td>\n",
       "      <td>14.032221</td>\n",
       "    </tr>\n",
       "    <tr>\n",
       "      <th>2023-01-03</th>\n",
       "      <td>8.771287</td>\n",
       "      <td>5.475555</td>\n",
       "      <td>3.590712</td>\n",
       "      <td>23.019394</td>\n",
       "      <td>13.718135</td>\n",
       "    </tr>\n",
       "    <tr>\n",
       "      <th>2023-01-04</th>\n",
       "      <td>8.802325</td>\n",
       "      <td>5.691069</td>\n",
       "      <td>3.612230</td>\n",
       "      <td>23.407309</td>\n",
       "      <td>13.353242</td>\n",
       "    </tr>\n",
       "    <tr>\n",
       "      <th>2023-01-05</th>\n",
       "      <td>8.773111</td>\n",
       "      <td>5.741449</td>\n",
       "      <td>3.637491</td>\n",
       "      <td>23.000471</td>\n",
       "      <td>13.639615</td>\n",
       "    </tr>\n",
       "    <tr>\n",
       "      <th>2023-01-06</th>\n",
       "      <td>8.818758</td>\n",
       "      <td>5.793695</td>\n",
       "      <td>3.635619</td>\n",
       "      <td>23.483000</td>\n",
       "      <td>14.018363</td>\n",
       "    </tr>\n",
       "  </tbody>\n",
       "</table>\n",
       "</div>"
      ],
      "text/plain": [
       "Ticker        ACX.MC   BBVA.MC   CABK.MC    NTGY.MC     REP.MC\n",
       "Date                                                          \n",
       "2023-01-02  8.683646  5.394387  3.468153  23.265390  14.032221\n",
       "2023-01-03  8.771287  5.475555  3.590712  23.019394  13.718135\n",
       "2023-01-04  8.802325  5.691069  3.612230  23.407309  13.353242\n",
       "2023-01-05  8.773111  5.741449  3.637491  23.000471  13.639615\n",
       "2023-01-06  8.818758  5.793695  3.635619  23.483000  14.018363"
      ]
     },
     "execution_count": 12,
     "metadata": {},
     "output_type": "execute_result"
    }
   ],
   "source": [
    "#Podemos obtner datos de valores de las cotizaciones bursatiles de Yahoo que usamos para nuestro proyecto\n",
    "tickers=['BBVA.MC', 'ACX.MC', 'NTGY.MC', 'REP.MC', 'CABK.MC']  #tomamos solo 5 valores, cada valor va a ser una variable binaria y requiere de 1 qubit\n",
    "num_assets=len(tickers)\n",
    "\n",
    "df_stocks = yfin.download(tickers=tickers, start='2023-01-01',end='2024-02-01')\n",
    "df_stocks_aclose=df_stocks['Adj Close']\n",
    "df_stocks_aclose.head()"
   ]
  },
  {
   "cell_type": "markdown",
   "metadata": {},
   "source": [
    "Preparamos los datos comprobando que no hay nulos y si los hay completamos los valores con las cotizaciones pasadas mas cercanas. \n",
    "\n",
    "Para ello transformamos un `DataFrame` para que los valores de cotizaciones que no vienen informados, tomen la cotizacion del dia anterior.\n",
    "\n",
    "Utilizamos los metodos `.fillna()` con valor `ffill` **fill forward** y luego `bfill ` **fill backwards** para completar los datos de cotizaciones sin introducir informacion adicional"
   ]
  },
  {
   "cell_type": "code",
   "execution_count": 13,
   "metadata": {
    "tags": []
   },
   "outputs": [
    {
     "name": "stdout",
     "output_type": "stream",
     "text": [
      "Todos los datos estan informados\n"
     ]
    }
   ],
   "source": [
    "no_info=df_stocks_aclose.isnull().sum().sum()\n",
    "\n",
    "if  no_info != 0:\n",
    "    print('Hay datos no informados')\n",
    "    #ffill se debe de ejecutar primero para no meter datos del futuro (por si hacemos prediccion)\n",
    "    #rellena hacia abajo, hacia el futuro - si el primer dato del pasado esta vacio no se podra llenar\n",
    "    #se ejecuta entonces despues bfill para rellenar ese valor\n",
    "    df_stocks_aclose=df_stocks_aclose.fillna(method='ffill').fillna(method='bfill').head(10) #el priner metodo que se ejecuta es el mas interno y a su resultado ejecuta el externo\n",
    "        \n",
    "else:\n",
    "    print('Todos los datos estan informados')"
   ]
  },
  {
   "cell_type": "markdown",
   "metadata": {},
   "source": [
    "Creamos el vector de medias de beneficios y la matriz de covarianzas o riesgos"
   ]
  },
  {
   "cell_type": "code",
   "execution_count": 14,
   "metadata": {
    "tags": []
   },
   "outputs": [
    {
     "data": {
      "text/html": [
       "<div>\n",
       "<style scoped>\n",
       "    .dataframe tbody tr th:only-of-type {\n",
       "        vertical-align: middle;\n",
       "    }\n",
       "\n",
       "    .dataframe tbody tr th {\n",
       "        vertical-align: top;\n",
       "    }\n",
       "\n",
       "    .dataframe thead th {\n",
       "        text-align: right;\n",
       "    }\n",
       "</style>\n",
       "<table border=\"1\" class=\"dataframe\">\n",
       "  <thead>\n",
       "    <tr style=\"text-align: right;\">\n",
       "      <th>Ticker</th>\n",
       "      <th>ACX.MC</th>\n",
       "      <th>BBVA.MC</th>\n",
       "      <th>CABK.MC</th>\n",
       "      <th>NTGY.MC</th>\n",
       "      <th>REP.MC</th>\n",
       "    </tr>\n",
       "    <tr>\n",
       "      <th>Date</th>\n",
       "      <th></th>\n",
       "      <th></th>\n",
       "      <th></th>\n",
       "      <th></th>\n",
       "      <th></th>\n",
       "    </tr>\n",
       "  </thead>\n",
       "  <tbody>\n",
       "    <tr>\n",
       "      <th>2023-01-02</th>\n",
       "      <td>NaN</td>\n",
       "      <td>NaN</td>\n",
       "      <td>NaN</td>\n",
       "      <td>NaN</td>\n",
       "      <td>NaN</td>\n",
       "    </tr>\n",
       "    <tr>\n",
       "      <th>2023-01-03</th>\n",
       "      <td>1.009262</td>\n",
       "      <td>1.504669</td>\n",
       "      <td>3.533857</td>\n",
       "      <td>-1.057349</td>\n",
       "      <td>-2.238320</td>\n",
       "    </tr>\n",
       "    <tr>\n",
       "      <th>2023-01-04</th>\n",
       "      <td>0.353862</td>\n",
       "      <td>3.935933</td>\n",
       "      <td>0.599268</td>\n",
       "      <td>1.685165</td>\n",
       "      <td>-2.659931</td>\n",
       "    </tr>\n",
       "    <tr>\n",
       "      <th>2023-01-05</th>\n",
       "      <td>-0.331889</td>\n",
       "      <td>0.885251</td>\n",
       "      <td>0.699297</td>\n",
       "      <td>-1.738079</td>\n",
       "      <td>2.144596</td>\n",
       "    </tr>\n",
       "    <tr>\n",
       "      <th>2023-01-06</th>\n",
       "      <td>0.520302</td>\n",
       "      <td>0.909981</td>\n",
       "      <td>-0.051440</td>\n",
       "      <td>2.097908</td>\n",
       "      <td>2.776823</td>\n",
       "    </tr>\n",
       "  </tbody>\n",
       "</table>\n",
       "</div>"
      ],
      "text/plain": [
       "Ticker        ACX.MC   BBVA.MC   CABK.MC   NTGY.MC    REP.MC\n",
       "Date                                                        \n",
       "2023-01-02       NaN       NaN       NaN       NaN       NaN\n",
       "2023-01-03  1.009262  1.504669  3.533857 -1.057349 -2.238320\n",
       "2023-01-04  0.353862  3.935933  0.599268  1.685165 -2.659931\n",
       "2023-01-05 -0.331889  0.885251  0.699297 -1.738079  2.144596\n",
       "2023-01-06  0.520302  0.909981 -0.051440  2.097908  2.776823"
      ]
     },
     "execution_count": 14,
     "metadata": {},
     "output_type": "execute_result"
    }
   ],
   "source": [
    "stockReturns=pd.DataFrame()\n",
    "#computamos la rentabilidad diaria de cada accion\n",
    "stockReturns= (df_stocks_aclose/df_stocks_aclose.shift() - 1)* 100\n",
    "stockReturns.head()"
   ]
  },
  {
   "cell_type": "code",
   "execution_count": 15,
   "metadata": {
    "tags": []
   },
   "outputs": [
    {
     "data": {
      "text/html": [
       "<div>\n",
       "<style scoped>\n",
       "    .dataframe tbody tr th:only-of-type {\n",
       "        vertical-align: middle;\n",
       "    }\n",
       "\n",
       "    .dataframe tbody tr th {\n",
       "        vertical-align: top;\n",
       "    }\n",
       "\n",
       "    .dataframe thead th {\n",
       "        text-align: right;\n",
       "    }\n",
       "</style>\n",
       "<table border=\"1\" class=\"dataframe\">\n",
       "  <thead>\n",
       "    <tr style=\"text-align: right;\">\n",
       "      <th>Ticker</th>\n",
       "      <th>ACX.MC</th>\n",
       "      <th>BBVA.MC</th>\n",
       "      <th>CABK.MC</th>\n",
       "      <th>NTGY.MC</th>\n",
       "      <th>REP.MC</th>\n",
       "    </tr>\n",
       "    <tr>\n",
       "      <th>Date</th>\n",
       "      <th></th>\n",
       "      <th></th>\n",
       "      <th></th>\n",
       "      <th></th>\n",
       "      <th></th>\n",
       "    </tr>\n",
       "  </thead>\n",
       "  <tbody>\n",
       "    <tr>\n",
       "      <th>2023-01-03</th>\n",
       "      <td>1.009262</td>\n",
       "      <td>1.504669</td>\n",
       "      <td>3.533857</td>\n",
       "      <td>-1.057349</td>\n",
       "      <td>-2.238320</td>\n",
       "    </tr>\n",
       "    <tr>\n",
       "      <th>2023-01-04</th>\n",
       "      <td>0.353862</td>\n",
       "      <td>3.935933</td>\n",
       "      <td>0.599268</td>\n",
       "      <td>1.685165</td>\n",
       "      <td>-2.659931</td>\n",
       "    </tr>\n",
       "    <tr>\n",
       "      <th>2023-01-05</th>\n",
       "      <td>-0.331889</td>\n",
       "      <td>0.885251</td>\n",
       "      <td>0.699297</td>\n",
       "      <td>-1.738079</td>\n",
       "      <td>2.144596</td>\n",
       "    </tr>\n",
       "    <tr>\n",
       "      <th>2023-01-06</th>\n",
       "      <td>0.520302</td>\n",
       "      <td>0.909981</td>\n",
       "      <td>-0.051440</td>\n",
       "      <td>2.097908</td>\n",
       "      <td>2.776823</td>\n",
       "    </tr>\n",
       "    <tr>\n",
       "      <th>2023-01-09</th>\n",
       "      <td>1.469979</td>\n",
       "      <td>1.078899</td>\n",
       "      <td>-1.338130</td>\n",
       "      <td>0.362618</td>\n",
       "      <td>-0.033723</td>\n",
       "    </tr>\n",
       "    <tr>\n",
       "      <th>...</th>\n",
       "      <td>...</td>\n",
       "      <td>...</td>\n",
       "      <td>...</td>\n",
       "      <td>...</td>\n",
       "      <td>...</td>\n",
       "    </tr>\n",
       "    <tr>\n",
       "      <th>2024-01-25</th>\n",
       "      <td>0.242769</td>\n",
       "      <td>-1.653291</td>\n",
       "      <td>-2.464434</td>\n",
       "      <td>-0.938966</td>\n",
       "      <td>0.380230</td>\n",
       "    </tr>\n",
       "    <tr>\n",
       "      <th>2024-01-26</th>\n",
       "      <td>-0.222001</td>\n",
       "      <td>0.024720</td>\n",
       "      <td>0.416776</td>\n",
       "      <td>-0.552920</td>\n",
       "      <td>1.893939</td>\n",
       "    </tr>\n",
       "    <tr>\n",
       "      <th>2024-01-29</th>\n",
       "      <td>0.930421</td>\n",
       "      <td>0.271877</td>\n",
       "      <td>0.181582</td>\n",
       "      <td>-0.397142</td>\n",
       "      <td>1.598514</td>\n",
       "    </tr>\n",
       "    <tr>\n",
       "      <th>2024-01-30</th>\n",
       "      <td>-0.601197</td>\n",
       "      <td>6.162189</td>\n",
       "      <td>2.667010</td>\n",
       "      <td>-0.318979</td>\n",
       "      <td>0.000000</td>\n",
       "    </tr>\n",
       "    <tr>\n",
       "      <th>2024-01-31</th>\n",
       "      <td>-1.411294</td>\n",
       "      <td>0.719751</td>\n",
       "      <td>-0.277425</td>\n",
       "      <td>0.000000</td>\n",
       "      <td>0.548846</td>\n",
       "    </tr>\n",
       "  </tbody>\n",
       "</table>\n",
       "<p>276 rows × 5 columns</p>\n",
       "</div>"
      ],
      "text/plain": [
       "Ticker        ACX.MC   BBVA.MC   CABK.MC   NTGY.MC    REP.MC\n",
       "Date                                                        \n",
       "2023-01-03  1.009262  1.504669  3.533857 -1.057349 -2.238320\n",
       "2023-01-04  0.353862  3.935933  0.599268  1.685165 -2.659931\n",
       "2023-01-05 -0.331889  0.885251  0.699297 -1.738079  2.144596\n",
       "2023-01-06  0.520302  0.909981 -0.051440  2.097908  2.776823\n",
       "2023-01-09  1.469979  1.078899 -1.338130  0.362618 -0.033723\n",
       "...              ...       ...       ...       ...       ...\n",
       "2024-01-25  0.242769 -1.653291 -2.464434 -0.938966  0.380230\n",
       "2024-01-26 -0.222001  0.024720  0.416776 -0.552920  1.893939\n",
       "2024-01-29  0.930421  0.271877  0.181582 -0.397142  1.598514\n",
       "2024-01-30 -0.601197  6.162189  2.667010 -0.318979  0.000000\n",
       "2024-01-31 -1.411294  0.719751 -0.277425  0.000000  0.548846\n",
       "\n",
       "[276 rows x 5 columns]"
      ]
     },
     "execution_count": 15,
     "metadata": {},
     "output_type": "execute_result"
    }
   ],
   "source": [
    "#quitamos la primera fila\n",
    "stockReturns.drop(labels=stockReturns.index[0], axis=0, inplace=True)\n",
    "stockReturns"
   ]
  },
  {
   "cell_type": "code",
   "execution_count": 16,
   "metadata": {
    "tags": []
   },
   "outputs": [
    {
     "name": "stdout",
     "output_type": "stream",
     "text": [
      "Vector de valores medios de los beneficios diarios de las acciones: [0.05193535 0.18738418 0.06069295 0.03127143 0.00302872]\n"
     ]
    }
   ],
   "source": [
    "mu=stockReturns.mean().to_numpy()\n",
    "print('Vector de valores medios de los beneficios diarios de las acciones:',mu)"
   ]
  },
  {
   "cell_type": "code",
   "execution_count": 17,
   "metadata": {
    "tags": []
   },
   "outputs": [
    {
     "data": {
      "image/png": "[encoded data removed]",
      "text/plain": [
       "<Figure size 1000x1000 with 6 Axes>"
      ]
     },
     "metadata": {},
     "output_type": "display_data"
    }
   ],
   "source": [
    "stockReturns.hist(figsize=(10,10));"
   ]
  },
  {
   "cell_type": "code",
   "execution_count": 18,
   "metadata": {
    "tags": []
   },
   "outputs": [
    {
     "name": "stdout",
     "output_type": "stream",
     "text": [
      "Matriz de varianza covarianza de las acciones:\n",
      " [[1.76754117 1.11016025 0.86433804 0.29584046 0.57017372]\n",
      " [1.11016025 2.99585384 1.89789386 0.36590174 0.81690715]\n",
      " [0.86433804 1.89789386 2.63528097 0.16173299 0.71843156]\n",
      " [0.29584046 0.36590174 0.16173299 1.04601301 0.18525059]\n",
      " [0.57017372 0.81690715 0.71843156 0.18525059 2.1217654 ]]\n"
     ]
    }
   ],
   "source": [
    "#computamos la matriz de covarianzas de las rentabilidades \n",
    "sigma = stockReturns.cov().to_numpy()\n",
    "print('Matriz de varianza covarianza de las acciones:\\n', sigma)"
   ]
  },
  {
   "cell_type": "code",
   "execution_count": 19,
   "metadata": {
    "tags": [
     "nbsphinx-thumbnail"
    ]
   },
   "outputs": [
    {
     "data": {
      "image/png": "[encoded data removed]",
      "text/plain": [
       "<Figure size 640x480 with 2 Axes>"
      ]
     },
     "metadata": {},
     "output_type": "display_data"
    }
   ],
   "source": [
    "# plot sigma\n",
    "plt.imshow(sigma, interpolation=\"nearest\")\n",
    "plt.colorbar()\n",
    "plt.xticks(range(num_assets))\n",
    "plt.yticks(range(num_assets))\n",
    "plt.show()"
   ]
  },
  {
   "cell_type": "markdown",
   "metadata": {
    "tags": []
   },
   "source": [
    "## Definicion de la funcion de coste\n",
    "\n",
    "A partir de la funcion objetivo de la optimizacion de la cartera, construimos una clase que la expresa como un problema tipo CUBO a partir de la cual podemos construir el circuito de coste para la optimizacion.\n",
    "\n",
    "En Qiskit, exite una clase [`PortfolioOptimization`](https://qiskit-community.github.io/qiskit-finance/stubs/qiskit_finance.applications.PortfolioOptimization.html#) que nos permite escribir de una forma muy sencilla la funcion objetivo de la optimizacion de la cartera.\n",
    "\n",
    "Esta clase contiene el metodo `to_quadratic_program()` que permite formular la ecuacion como un operador hamiltoniano y construir de forma mas o menos inmediata el circuito para computar el coste en los pasos de optimizacion."
   ]
  },
  {
   "cell_type": "markdown",
   "metadata": {
    "tags": []
   },
   "source": [
    "#### EJERCICIO"
   ]
  },
  {
   "cell_type": "markdown",
   "metadata": {},
   "source": [
    "Obten el objeto `QuadraticProgram` de nuestro problema de optimizacion MVO y su formulacion como objetos QUBO y operador Ising."
   ]
  },
  {
   "cell_type": "code",
   "execution_count": 20,
   "metadata": {
    "ExecuteTime": {
     "end_time": "2020-07-13T20:35:15.231767Z",
     "start_time": "2020-07-13T20:35:15.226490Z"
    },
    "tags": []
   },
   "outputs": [
    {
     "name": "stdout",
     "output_type": "stream",
     "text": [
      "Problem name: Portfolio optimization\n",
      "\n",
      "Minimize\n",
      "  0.883770584725959*x_0^2 + 1.1101602488038245*x_0*x_1\n",
      "  + 0.864338036953381*x_0*x_2 + 0.2958404601124945*x_0*x_3\n",
      "  + 0.570173719646046*x_0*x_4 + 1.497926920459133*x_1^2\n",
      "  + 1.8978938628278286*x_1*x_2 + 0.36590174132606357*x_1*x_3\n",
      "  + 0.8169071543893927*x_1*x_4 + 1.3176404868075104*x_2^2\n",
      "  + 0.16173298682034198*x_2*x_3 + 0.7184315593090641*x_2*x_4\n",
      "  + 0.5230065068859084*x_3^2 + 0.18525058688691093*x_3*x_4\n",
      "  + 1.0608826977062744*x_4^2 - 0.051935347657709297*x_0\n",
      "  - 0.18738418262185755*x_1 - 0.060692950322453094*x_2 - 0.0312714304207979*x_3\n",
      "  - 0.003028717843748249*x_4\n",
      "\n",
      "Subject to\n",
      "  Linear constraints (1)\n",
      "    x_0 + x_1 + x_2 + x_3 + x_4 == 2  'c0'\n",
      "\n",
      "  Binary variables (5)\n",
      "    x_0 x_1 x_2 x_3 x_4\n",
      "\n"
     ]
    }
   ],
   "source": [
    "num_assets = len(tickers)\n",
    "q = 0.5  # fijamos un factor de riesgo para el diseño de la cartera optima\n",
    "budget = num_assets // 2  # fijamos un budget\n",
    "penalty = num_assets  # fijamos un parametro de penalizacion para incorporar la restriccion en el problema QUBO\n",
    "\n",
    "portfolio = PortfolioOptimization(\n",
    "    expected_returns=mu, covariances=sigma, risk_factor=q, budget=budget\n",
    ")\n",
    "\n",
    "qp = portfolio.to_quadratic_program()\n",
    "print(qp.prettyprint())"
   ]
  },
  {
   "cell_type": "code",
   "execution_count": null,
   "metadata": {},
   "outputs": [],
   "source": [
    "#Para ver todos las propiedades y metodos de la clase PortfolioOptimization convertida a quadratic program\n",
    "#dir(qp)"
   ]
  },
  {
   "cell_type": "code",
   "execution_count": 21,
   "metadata": {
    "tags": []
   },
   "outputs": [
    {
     "name": "stdout",
     "output_type": "stream",
     "text": [
      "QUBO:\n",
      "minimize 14.487940767252658*x_0^2 + 28.318500613857225*x_0*x_1 + 28.07267840200678*x_0*x_2 + 27.504180825165893*x_0*x_3 + 27.778514084699445*x_0*x_4 + 15.102097102985832*x_1^2 + 29.106234227881227*x_1*x_2 + 27.57424210637946*x_1*x_3 + 28.025247519442793*x_1*x_4 + 14.92181066933421*x_2^2 + 27.370073351873742*x_2*x_3 + 27.926771924362463*x_2*x_4 + 14.127176689412607*x_3^2 + 27.39359095194031*x_3*x_4 + 14.665052880232974*x_4^2 - 54.46861607776451*x_0 - 54.60406491272865*x_1 - 54.47737368042925*x_2 - 54.44795216052759*x_3 - 54.419709447950545*x_4 + 54.4166807301068 (5 variables, 0 constraints, 'Portfolio optimization')\n",
      "\n",
      "ISING Hamiltonian:\n",
      "SparsePauliOp(['IIIIZ', 'IIIZI', 'IIZII', 'IZIII', 'ZIIII', 'IIIZZ', 'IIZIZ', 'IIZZI', 'IZIIZ', 'IZIZI', 'IZZII', 'ZIIIZ', 'ZIIZI', 'ZIZII', 'ZZIII'],\n",
      "              coeffs=[-7.92813083+0.j, -8.50507221+0.j, -8.34115797+0.j, -7.30013407+0.j,\n",
      " -7.90370284+0.j,  7.07962515+0.j,  7.0181696 +0.j,  7.27655856+0.j,\n",
      "  6.87604521+0.j,  6.89356053+0.j,  6.84251834+0.j,  6.94462852+0.j,\n",
      "  7.00631188+0.j,  6.98169298+0.j,  6.84839774+0.j])\n",
      "24.627370146917997\n"
     ]
    }
   ],
   "source": [
    "#converting to QUBO\n",
    "qubo = QuadraticProgramToQubo().convert(qp)\n",
    "print(\"QUBO:\")\n",
    "print(str(qubo)+'\\n')\n",
    "\n",
    "#converting QUBO task to Ising Hamiltonian for simulation on quantum computer\n",
    "ising, offset = qubo.to_ising()\n",
    "print(\"ISING Hamiltonian:\")\n",
    "print(ising)\n",
    "print(offset)"
   ]
  },
  {
   "cell_type": "markdown",
   "metadata": {
    "tags": []
   },
   "source": [
    "## Optimizacion clásica\n",
    "\n",
    "Vamos a resolver el problema de forma clásica para poder contrartar los resultados con la forma cuántica y ver que se optiene la misma solucion.\n",
    "\n",
    "Podemos hacer una optimizacion clásica utilizando las librerias numericas de python `numpy`. Esto esta ya programado en Qiskit gracias a la clase `NumPyMinimumEigensolver` a la que podemos pasar una funcion de coste en forma de programa cuadrático y nos devuelve la solucion optima con los datos en un diccionario.\n",
    "\n",
    "Esta clase, toma el operador hamiltoniano de la funcion de coste y calcula el valor propio minimo de forma numerica clasica."
   ]
  },
  {
   "cell_type": "markdown",
   "metadata": {},
   "source": [
    "#### EJERCICIO"
   ]
  },
  {
   "cell_type": "markdown",
   "metadata": {},
   "source": [
    "Utiliza el método `compute_minimum_eigenvalue` de la clase [`NumpyMinimumEigensolver`](https://qiskit-community.github.io/qiskit-algorithms/stubs/qiskit_algorithms.NumPyEigensolver.html) para resolver la optimizacion del operador H (el problema formulado como Ising el vector propio encontrando el vector propio de minima energia.\n",
    "\n",
    "Convierte en un objeto tipo `Statevector` el resultado e imprime el diccionario de probabilidades que tiene con el metodo `probabilities_dict()`"
   ]
  },
  {
   "cell_type": "code",
   "execution_count": 22,
   "metadata": {
    "tags": []
   },
   "outputs": [
    {
     "name": "stdout",
     "output_type": "stream",
     "text": [
      "result:\n",
      " {   'aux_operators_evaluated': None,\n",
      "    'eigenstate': Statevector([0.+0.j, 0.+0.j, 0.+0.j, 0.+0.j, 0.+0.j, 0.+0.j, 0.+0.j,\n",
      "             0.+0.j, 0.+0.j, 1.+0.j, 0.+0.j, 0.+0.j, 0.+0.j, 0.+0.j,\n",
      "             0.+0.j, 0.+0.j, 0.+0.j, 0.+0.j, 0.+0.j, 0.+0.j, 0.+0.j,\n",
      "             0.+0.j, 0.+0.j, 0.+0.j, 0.+0.j, 0.+0.j, 0.+0.j, 0.+0.j,\n",
      "             0.+0.j, 0.+0.j, 0.+0.j, 0.+0.j],\n",
      "            dims=(2, 2, 2, 2, 2)),\n",
      "    'eigenvalue': (-23.00795937327214+0j)}\n",
      "{'01001': 1.0}\n"
     ]
    }
   ],
   "source": [
    "#solve the optimization problem\n",
    "npme = NumPyMinimumEigensolver()\n",
    "result = npme.compute_minimum_eigenvalue(ising)\n",
    "print('result:\\n', result)\n",
    "#print('\\nsolution:\\n', maxcut.interpret(result))\n",
    "#maxcut.draw(result, pos=pos)\n",
    "\n",
    "#create Statevector with the eigenvector or eigenstate and print the probabilities dictionary\n",
    "vector=result.eigenstate\n",
    "probabilities = Statevector(vector).probabilities_dict()\n",
    "print(probabilities)"
   ]
  },
  {
   "cell_type": "markdown",
   "metadata": {
    "tags": []
   },
   "source": [
    "## Optimizacion cuántica utilizando el algoritmo VQE\n",
    "\n",
    "Utilizaremos el algoritmo Variational Quantum Eigensolver (VQE) para resolver el problema de optimizacion de la cartera.\n",
    "\n",
    "Para ello necesitamos unos pasos previos:\n",
    "\n",
    "1) construir un circuito variacional o `ansatz` con unos parametros. Utilizaremos la clase [TwoLocal](https://qiskit.org/documentation/stubs/qiskit.circuit.library.TwoLocal.html) de Qiskit que construye un circuito variacional a conveniencia, con diferentes parametros y configuraciones.\n",
    "\n",
    "2) Seleccionar una funcion de optimizacion clasica que nos guia para encontrar el minimo.\n",
    "\n",
    "3) Definimos un backend de ejecucion, un simulador\n",
    "\n",
    "Después usaremos la clase `VQE` de Qiskit para definir el optimizador y le pasaremos el ansatz, la funcion de optimizacion y el backend de ejecucion.\n",
    "\n",
    "Utilizamos la clase `MinimumEigenOptimizer` para lanzar el proceso de optimizacion y le pasaremos la funcion de coste cuadratica del metodo MVO para que evalue los costes y encuentre el minimo"
   ]
  },
  {
   "cell_type": "markdown",
   "metadata": {},
   "source": [
    "#### EJERCICIO"
   ]
  },
  {
   "cell_type": "markdown",
   "metadata": {},
   "source": [
    "Utiliza el método `compute_minimum_eigenvalue()` de la clase [`SamplingVQE`](https://qiskit-community.github.io/qiskit-algorithms/stubs/qiskit_algorithms.SamplingVQE.html#qiskit_algorithms.SamplingVQE) para resolver la optimizacion del operador H (el problema formulado como Ising), encontrando el vector propio de minima energia.\n",
    "\n",
    "Investiga la clase de resultado que devuelve este algoritmo [SamplingVQEResult](https://qiskit-community.github.io/qiskit-algorithms/stubs/qiskit_algorithms.SamplingVQEResult.html) y utilizando el metodo `best_measuretments()` imprime el resultado binario y dibuja el grafo obteindo de la minimizacion."
   ]
  },
  {
   "cell_type": "code",
   "execution_count": 26,
   "metadata": {
    "tags": []
   },
   "outputs": [
    {
     "name": "stdout",
     "output_type": "stream",
     "text": [
      "SamplingMinimumEigensolverResult:\n",
      "\tEigenvalue: -22.903802854247264\n",
      "\tBest measurement\n",
      ": {'state': 9, 'bitstring': '01001', 'value': (-23.00795937327214+0j), 'probability': 0.18408203125}\n",
      "\n",
      "[0 1 0 0 1]\n"
     ]
    }
   ],
   "source": [
    "n=num_assets\n",
    "ansatz = TwoLocal(n, 'ry', 'cz')\n",
    "opt = SPSA(maxiter=50)\n",
    " \n",
    "# shot-based simulation\n",
    "sampler = Sampler(options={\"shots\": 2048})\n",
    "vqe = SamplingVQE(sampler, ansatz, opt, aggregation=0.2)\n",
    "\n",
    "result = vqe.compute_minimum_eigenvalue(ising)\n",
    "print(result)\n",
    "nd=np.array([int(i) for i in result.best_measurement['bitstring']])\n",
    "print(nd)"
   ]
  },
  {
   "cell_type": "markdown",
   "metadata": {},
   "source": [
    "#### EJERCICIO"
   ]
  },
  {
   "cell_type": "markdown",
   "metadata": {},
   "source": [
    "Muestra el circuito variacional optimo que ha encontrado el optimizador, ejecuta el circuito y muestra el histograma de salida, para ver el estado optimo que hemos encontrado"
   ]
  },
  {
   "cell_type": "code",
   "execution_count": null,
   "metadata": {},
   "outputs": [],
   "source": []
  },
  {
   "cell_type": "markdown",
   "metadata": {
    "tags": []
   },
   "source": [
    "## Optimizacion cuántica utilizando el algoritmo QAOA\n",
    "\n",
    "Utilizaremos el algoritmo Qantum Approximate Optimization Algorithm (QAOA) para resolver el problema de optimizacion de la cartera. Este es otro algoritmo que utiliza un circuito variacional definido internamente y no necesitamos crearlo explicitamente.\n",
    "\n",
    "Para ejecutarlo necesitamos los pasos previos anteriores:\n",
    "\n",
    "1) Seleccionar una funcion de optimizacion clasica que nos guia para encontrar el minimo.\n",
    "\n",
    "2) Definimos un backend de ejecucion, un simulador\n",
    "\n",
    "Después usaremos la clase `QAOA` de Qiskit para definir el optimizador y le pasaremos el ansatz, la funcion de optimizacion y el backend de ejecucion. Tambien tendremos que especificar el numero de repeticiones que ejecutaremos en el algoritmo `QAOA`.\n",
    "\n",
    "Utilizamos la clase `MinimumEigenOptimizer` para lanzar el proceso de optimizacion y le pasaremos la funcion de coste cuadratica del metodo MVO para que evalue los costes y encuentre el minimo"
   ]
  },
  {
   "cell_type": "markdown",
   "metadata": {},
   "source": [
    "#### EJERCICIO"
   ]
  },
  {
   "cell_type": "markdown",
   "metadata": {},
   "source": [
    "Utiliza el método `compute_minimum_eigenvalue()` de la clase [`QAOA`](https://qiskit-community.github.io/qiskit-algorithms/stubs/qiskit_algorithms.QAOA.html) para resolver la optimizacion del operador H (el problema formulado como Ising), encontrando el vector propio de minima energia.\n",
    "\n",
    "La clase `QAOA` se contruye a partir de la clase `SamplingVQE`por lo que devuelve la misma clase de resultados, [SamplingVQEResult](https://qiskit-community.github.io/qiskit-algorithms/stubs/qiskit_algorithms.SamplingVQEResult.html). Utiliza el metodo `best_measuretments()` imprime el resultado binario y dibuja el grafo obteindo de la minimizacion."
   ]
  },
  {
   "cell_type": "code",
   "execution_count": 24,
   "metadata": {
    "tags": []
   },
   "outputs": [
    {
     "name": "stdout",
     "output_type": "stream",
     "text": [
      "SamplingMinimumEigensolverResult:\n",
      "\tEigenvalue: -7.9444988993321815\n",
      "\tBest measurement\n",
      ": {'state': 9, 'bitstring': '01001', 'value': (-23.00795937327214+0j), 'probability': 0.1157737438613033}\n",
      "\n",
      "[0 1 0 0 1]\n"
     ]
    }
   ],
   "source": [
    "# exact statevector simulation\n",
    "sampler = Sampler()\n",
    " \n",
    "optimizer = COBYLA()\n",
    "qaoa = QAOA(sampler, optimizer, reps=2)\n",
    " \n",
    "# diagonal operator\n",
    "result = qaoa.compute_minimum_eigenvalue(ising)\n",
    " \n",
    "print(result)\n",
    "nd=np.array([int(i) for i in result.best_measurement['bitstring']])\n",
    "print(nd)"
   ]
  },
  {
   "cell_type": "markdown",
   "metadata": {},
   "source": [
    "#### EJERCICIO"
   ]
  },
  {
   "cell_type": "markdown",
   "metadata": {},
   "source": [
    "Muestra el circuito variacional optimo que ha encontrado el optimizador, ejecuta el circuito y muestra el histograma de salida, para ver el estado optimo que hemos encontrado"
   ]
  },
  {
   "cell_type": "code",
   "execution_count": null,
   "metadata": {},
   "outputs": [],
   "source": [
    "#podemos ver el circuito optimo\n",
    "display(result.optimal_circuit.decompose().draw(fold=-1))\n",
    "\n",
    "#podemos ejecutarlo, uno de esos estados que ha muestreado el circuito variacional ha dado minima energia\n",
    "circuit = result.optimal_circuit.bind_parameters(result.optimal_parameters)\n",
    "\n",
    "# Hacemos un transpile del circuito para el simulador\n",
    "simulator = Aer.get_backend('aer_simulator')\n",
    "circ = transpile(circuit, simulator)  #opcional\n",
    "\n",
    "# lo corremos y obtenemos los resultados\n",
    "result = simulator.run(circ,shots=2000).result()\n",
    "counts = result.get_counts(circ)\n",
    "for k,v in counts.items():\n",
    "    print(k,v)\n",
    "plot_histogram(counts, title='Optimal Maxcut counts')"
   ]
  }
 ],
 "metadata": {
  "celltoolbar": "Tags",
  "kernelspec": {
   "display_name": "Qiskit v0.45.2 (ipykernel)",
   "language": "python",
   "name": "python3"
  },
  "language_info": {
   "codemirror_mode": {
    "name": "ipython",
    "version": 3
   },
   "file_extension": ".py",
   "mimetype": "text/x-python",
   "name": "python",
   "nbconvert_exporter": "python",
   "pygments_lexer": "ipython3",
   "version": "3.10.8"
  },
  "varInspector": {
   "cols": {
    "lenName": 16,
    "lenType": 16,
    "lenVar": 40
   },
   "kernels_config": {
    "python": {
     "delete_cmd_postfix": "",
     "delete_cmd_prefix": "del ",
     "library": "var_list.py",
     "varRefreshCmd": "print(var_dic_list())"
    },
    "r": {
     "delete_cmd_postfix": ") ",
     "delete_cmd_prefix": "rm(",
     "library": "var_list.r",
     "varRefreshCmd": "cat(var_dic_list()) "
    }
   },
   "types_to_exclude": [
    "module",
    "function",
    "builtin_function_or_method",
    "instance",
    "_Feature"
   ],
   "window_display": false
  },
  "widgets": {
   "application/vnd.jupyter.widget-state+json": {
    "state": {},
    "version_major": 2,
    "version_minor": 0
   }
  }
 },
 "nbformat": 4,
 "nbformat_minor": 4
}
